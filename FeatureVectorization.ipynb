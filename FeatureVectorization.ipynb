{
 "cells": [
  {
   "cell_type": "code",
   "execution_count": 4,
   "id": "852cb561",
   "metadata": {},
   "outputs": [],
   "source": [
    "import numpy as np\n",
    "import polars as pl\n",
    "from sklearn.decomposition import PCA\n",
    "from sklearn.neighbors import NearestNeighbors\n",
    "from featureHelpers import process_dataframe\n",
    "import os\n",
    "import glob\n",
    "from tqdm.notebook import tqdm\n",
    "import gc"
   ]
  },
  {
   "cell_type": "code",
   "execution_count": 2,
   "id": "ec6944de",
   "metadata": {},
   "outputs": [
    {
     "name": "stdout",
     "output_type": "stream",
     "text": [
      "================================================================================\n",
      "Found 100 CSV files\n",
      "================================================================================\n"
     ]
    },
    {
     "data": {
      "application/vnd.jupyter.widget-view+json": {
       "model_id": "a2cd27d173204fadbffbcee9bb0390c9",
       "version_major": 2,
       "version_minor": 0
      },
      "text/plain": [
       "Processing files:   0%|          | 0/100 [00:00<?, ?file/s]"
      ]
     },
     "metadata": {},
     "output_type": "display_data"
    },
    {
     "name": "stdout",
     "output_type": "stream",
     "text": [
      "Skipping (already exists): adoquin_atras_de_rectoria_frame_15.csv\n",
      "Skipping (already exists): adoquin_atras_de_rectoria_frame_2.csv\n",
      "Skipping (already exists): adoquin_atras_de_rectoria_frame_33.csv\n",
      "Skipping (already exists): adoquin_atras_de_rectoria_frame_46.csv\n",
      "Skipping (already exists): adoquin_atras_de_rectoria_frame_48.csv\n",
      "Skipping (already exists): adoquin_atras_de_rectoria_frame_54.csv\n",
      "Skipping (already exists): adoquin_atras_de_rectoria_frame_6.csv\n",
      "Skipping (already exists): adoquin_atras_de_rectoria_frame_61.csv\n",
      "Skipping (already exists): adoquin_atras_de_rectoria_frame_70.csv\n",
      "Skipping (already exists): adoquin_atras_de_rectoria_frame_72.csv\n",
      "Skipping (already exists): adoquin_cancha_de_futbol_10.csv\n",
      "Processing: adoquin_cancha_de_futbol_18.csv\n",
      "Processing 20,831 points with label 'adoquin'...\n"
     ]
    },
    {
     "data": {
      "application/vnd.jupyter.widget-view+json": {
       "model_id": "b729ad95caf64231bd6ddf3921e382d9",
       "version_major": 2,
       "version_minor": 0
      },
      "text/plain": [
       "  0%|          | 0/20831 [00:00<?, ?it/s]"
      ]
     },
     "metadata": {},
     "output_type": "display_data"
    },
    {
     "name": "stdout",
     "output_type": "stream",
     "text": [
      "\n",
      "Processing complete: (20831, 13)\n",
      "Saved to: C:\\Users\\USER\\PEF\\Terrain-Traversability-Analysis\\adoquin_features\\adoquin_cancha_de_futbol_18_features.csv\n",
      "Completed: adoquin_cancha_de_futbol_18.csv\n",
      "Processing: adoquin_cancha_de_futbol_2.csv\n",
      "Processing 20,840 points with label 'adoquin'...\n"
     ]
    },
    {
     "data": {
      "application/vnd.jupyter.widget-view+json": {
       "model_id": "08785e76086443368246d804370dbbf1",
       "version_major": 2,
       "version_minor": 0
      },
      "text/plain": [
       "  0%|          | 0/20840 [00:00<?, ?it/s]"
      ]
     },
     "metadata": {},
     "output_type": "display_data"
    },
    {
     "name": "stdout",
     "output_type": "stream",
     "text": [
      "\n",
      "Processing complete: (20840, 13)\n",
      "Saved to: C:\\Users\\USER\\PEF\\Terrain-Traversability-Analysis\\adoquin_features\\adoquin_cancha_de_futbol_2_features.csv\n",
      "Completed: adoquin_cancha_de_futbol_2.csv\n",
      "Processing: adoquin_cancha_de_futbol_20.csv\n",
      "Processing 20,839 points with label 'adoquin'...\n"
     ]
    },
    {
     "data": {
      "application/vnd.jupyter.widget-view+json": {
       "model_id": "7ccbdd6b5b094a54874eebab2cb5e65c",
       "version_major": 2,
       "version_minor": 0
      },
      "text/plain": [
       "  0%|          | 0/20839 [00:00<?, ?it/s]"
      ]
     },
     "metadata": {},
     "output_type": "display_data"
    },
    {
     "name": "stdout",
     "output_type": "stream",
     "text": [
      "\n",
      "Processing complete: (20839, 13)\n",
      "Saved to: C:\\Users\\USER\\PEF\\Terrain-Traversability-Analysis\\adoquin_features\\adoquin_cancha_de_futbol_20_features.csv\n",
      "Completed: adoquin_cancha_de_futbol_20.csv\n",
      "Processing: adoquin_cancha_de_futbol_24.csv\n",
      "Processing 20,830 points with label 'adoquin'...\n"
     ]
    },
    {
     "data": {
      "application/vnd.jupyter.widget-view+json": {
       "model_id": "ae1fa1ee37884a98b9fd97024f3e28af",
       "version_major": 2,
       "version_minor": 0
      },
      "text/plain": [
       "  0%|          | 0/20830 [00:00<?, ?it/s]"
      ]
     },
     "metadata": {},
     "output_type": "display_data"
    },
    {
     "name": "stdout",
     "output_type": "stream",
     "text": [
      "\n",
      "Processing complete: (20830, 13)\n",
      "Saved to: C:\\Users\\USER\\PEF\\Terrain-Traversability-Analysis\\adoquin_features\\adoquin_cancha_de_futbol_24_features.csv\n",
      "Completed: adoquin_cancha_de_futbol_24.csv\n",
      "Processing: adoquin_cancha_de_futbol_27.csv\n",
      "Processing 20,835 points with label 'adoquin'...\n"
     ]
    },
    {
     "data": {
      "application/vnd.jupyter.widget-view+json": {
       "model_id": "3e55096c47c74538955f07754590eaca",
       "version_major": 2,
       "version_minor": 0
      },
      "text/plain": [
       "  0%|          | 0/20835 [00:00<?, ?it/s]"
      ]
     },
     "metadata": {},
     "output_type": "display_data"
    },
    {
     "name": "stdout",
     "output_type": "stream",
     "text": [
      "\n",
      "Processing complete: (20835, 13)\n",
      "Saved to: C:\\Users\\USER\\PEF\\Terrain-Traversability-Analysis\\adoquin_features\\adoquin_cancha_de_futbol_27_features.csv\n",
      "Completed: adoquin_cancha_de_futbol_27.csv\n",
      "Processing: adoquin_cancha_de_futbol_32.csv\n",
      "Processing 20,826 points with label 'adoquin'...\n"
     ]
    },
    {
     "data": {
      "application/vnd.jupyter.widget-view+json": {
       "model_id": "dcbe05a9c1704030b2a4415a6336b589",
       "version_major": 2,
       "version_minor": 0
      },
      "text/plain": [
       "  0%|          | 0/20826 [00:00<?, ?it/s]"
      ]
     },
     "metadata": {},
     "output_type": "display_data"
    },
    {
     "name": "stdout",
     "output_type": "stream",
     "text": [
      "\n",
      "Processing complete: (20826, 13)\n",
      "Saved to: C:\\Users\\USER\\PEF\\Terrain-Traversability-Analysis\\adoquin_features\\adoquin_cancha_de_futbol_32_features.csv\n",
      "Completed: adoquin_cancha_de_futbol_32.csv\n",
      "Processing: adoquin_cancha_de_futbol_35.csv\n",
      "Processing 20,833 points with label 'adoquin'...\n"
     ]
    },
    {
     "data": {
      "application/vnd.jupyter.widget-view+json": {
       "model_id": "02c194c531374d0ca786d9459f49c133",
       "version_major": 2,
       "version_minor": 0
      },
      "text/plain": [
       "  0%|          | 0/20833 [00:00<?, ?it/s]"
      ]
     },
     "metadata": {},
     "output_type": "display_data"
    },
    {
     "name": "stdout",
     "output_type": "stream",
     "text": [
      "\n",
      "Processing complete: (20833, 13)\n",
      "Saved to: C:\\Users\\USER\\PEF\\Terrain-Traversability-Analysis\\adoquin_features\\adoquin_cancha_de_futbol_35_features.csv\n",
      "Completed: adoquin_cancha_de_futbol_35.csv\n",
      "Processing: adoquin_cancha_de_futbol_42.csv\n",
      "Processing 20,825 points with label 'adoquin'...\n"
     ]
    },
    {
     "data": {
      "application/vnd.jupyter.widget-view+json": {
       "model_id": "c6883c1236c142b18f64fc5c162fbebb",
       "version_major": 2,
       "version_minor": 0
      },
      "text/plain": [
       "  0%|          | 0/20825 [00:00<?, ?it/s]"
      ]
     },
     "metadata": {},
     "output_type": "display_data"
    },
    {
     "name": "stdout",
     "output_type": "stream",
     "text": [
      "\n",
      "Processing complete: (20825, 13)\n",
      "Saved to: C:\\Users\\USER\\PEF\\Terrain-Traversability-Analysis\\adoquin_features\\adoquin_cancha_de_futbol_42_features.csv\n",
      "Completed: adoquin_cancha_de_futbol_42.csv\n",
      "Processing: adoquin_cancha_de_futbol_62.csv\n",
      "Processing 20,827 points with label 'adoquin'...\n"
     ]
    },
    {
     "data": {
      "application/vnd.jupyter.widget-view+json": {
       "model_id": "83c0beab6b994d8f8c93c501aab32c5a",
       "version_major": 2,
       "version_minor": 0
      },
      "text/plain": [
       "  0%|          | 0/20827 [00:00<?, ?it/s]"
      ]
     },
     "metadata": {},
     "output_type": "display_data"
    },
    {
     "name": "stdout",
     "output_type": "stream",
     "text": [
      "\n",
      "Processing complete: (20827, 13)\n",
      "Saved to: C:\\Users\\USER\\PEF\\Terrain-Traversability-Analysis\\adoquin_features\\adoquin_cancha_de_futbol_62_features.csv\n",
      "Completed: adoquin_cancha_de_futbol_62.csv\n",
      "Processing: adoquin_crgs_atras_14.csv\n",
      "Processing 23,142 points with label 'adoquin'...\n"
     ]
    },
    {
     "data": {
      "application/vnd.jupyter.widget-view+json": {
       "model_id": "dd9e4759b3214bde8e4d6c90c6ddcd86",
       "version_major": 2,
       "version_minor": 0
      },
      "text/plain": [
       "  0%|          | 0/23142 [00:00<?, ?it/s]"
      ]
     },
     "metadata": {},
     "output_type": "display_data"
    },
    {
     "name": "stdout",
     "output_type": "stream",
     "text": [
      "\n",
      "Processing complete: (23142, 13)\n",
      "Saved to: C:\\Users\\USER\\PEF\\Terrain-Traversability-Analysis\\adoquin_features\\adoquin_crgs_atras_14_features.csv\n",
      "Completed: adoquin_crgs_atras_14.csv\n",
      "Processing: adoquin_crgs_atras_2.csv\n",
      "Processing 23,155 points with label 'adoquin'...\n"
     ]
    },
    {
     "data": {
      "application/vnd.jupyter.widget-view+json": {
       "model_id": "ef4d219709a0488799d442833873d850",
       "version_major": 2,
       "version_minor": 0
      },
      "text/plain": [
       "  0%|          | 0/23155 [00:00<?, ?it/s]"
      ]
     },
     "metadata": {},
     "output_type": "display_data"
    },
    {
     "name": "stdout",
     "output_type": "stream",
     "text": [
      "\n",
      "Processing complete: (23155, 13)\n",
      "Saved to: C:\\Users\\USER\\PEF\\Terrain-Traversability-Analysis\\adoquin_features\\adoquin_crgs_atras_2_features.csv\n",
      "Completed: adoquin_crgs_atras_2.csv\n",
      "Processing: adoquin_crgs_atras_28.csv\n",
      "Processing 23,150 points with label 'adoquin'...\n"
     ]
    },
    {
     "data": {
      "application/vnd.jupyter.widget-view+json": {
       "model_id": "99ed8a19a92c4bc98bcb2876dd749b58",
       "version_major": 2,
       "version_minor": 0
      },
      "text/plain": [
       "  0%|          | 0/23150 [00:00<?, ?it/s]"
      ]
     },
     "metadata": {},
     "output_type": "display_data"
    },
    {
     "name": "stdout",
     "output_type": "stream",
     "text": [
      "\n",
      "Processing complete: (23150, 13)\n",
      "Saved to: C:\\Users\\USER\\PEF\\Terrain-Traversability-Analysis\\adoquin_features\\adoquin_crgs_atras_28_features.csv\n",
      "Completed: adoquin_crgs_atras_28.csv\n",
      "Processing: adoquin_crgs_atras_29.csv\n",
      "Processing 23,158 points with label 'adoquin'...\n"
     ]
    },
    {
     "data": {
      "application/vnd.jupyter.widget-view+json": {
       "model_id": "fd3413eee19343a3a1cda192786f9c76",
       "version_major": 2,
       "version_minor": 0
      },
      "text/plain": [
       "  0%|          | 0/23158 [00:00<?, ?it/s]"
      ]
     },
     "metadata": {},
     "output_type": "display_data"
    },
    {
     "name": "stdout",
     "output_type": "stream",
     "text": [
      "\n",
      "Processing complete: (23158, 13)\n",
      "Saved to: C:\\Users\\USER\\PEF\\Terrain-Traversability-Analysis\\adoquin_features\\adoquin_crgs_atras_29_features.csv\n",
      "Completed: adoquin_crgs_atras_29.csv\n",
      "Processing: adoquin_crgs_atras_32.csv\n",
      "Processing 23,155 points with label 'adoquin'...\n"
     ]
    },
    {
     "data": {
      "application/vnd.jupyter.widget-view+json": {
       "model_id": "4ea68c9a65c84714a2267205a8d212ac",
       "version_major": 2,
       "version_minor": 0
      },
      "text/plain": [
       "  0%|          | 0/23155 [00:00<?, ?it/s]"
      ]
     },
     "metadata": {},
     "output_type": "display_data"
    },
    {
     "name": "stdout",
     "output_type": "stream",
     "text": [
      "\n",
      "Processing complete: (23155, 13)\n",
      "Saved to: C:\\Users\\USER\\PEF\\Terrain-Traversability-Analysis\\adoquin_features\\adoquin_crgs_atras_32_features.csv\n",
      "Completed: adoquin_crgs_atras_32.csv\n",
      "Processing: adoquin_crgs_atras_41.csv\n",
      "Processing 23,152 points with label 'adoquin'...\n"
     ]
    },
    {
     "data": {
      "application/vnd.jupyter.widget-view+json": {
       "model_id": "bdd3380e6ac44a8b9e6b077149c1988e",
       "version_major": 2,
       "version_minor": 0
      },
      "text/plain": [
       "  0%|          | 0/23152 [00:00<?, ?it/s]"
      ]
     },
     "metadata": {},
     "output_type": "display_data"
    },
    {
     "name": "stdout",
     "output_type": "stream",
     "text": [
      "\n",
      "Processing complete: (23152, 13)\n",
      "Saved to: C:\\Users\\USER\\PEF\\Terrain-Traversability-Analysis\\adoquin_features\\adoquin_crgs_atras_41_features.csv\n",
      "Completed: adoquin_crgs_atras_41.csv\n",
      "Processing: adoquin_crgs_atras_5.csv\n",
      "Processing 23,144 points with label 'adoquin'...\n"
     ]
    },
    {
     "data": {
      "application/vnd.jupyter.widget-view+json": {
       "model_id": "ca0b4d92ca0c42ffad3f1ef339275870",
       "version_major": 2,
       "version_minor": 0
      },
      "text/plain": [
       "  0%|          | 0/23144 [00:00<?, ?it/s]"
      ]
     },
     "metadata": {},
     "output_type": "display_data"
    },
    {
     "name": "stdout",
     "output_type": "stream",
     "text": [
      "\n",
      "Processing complete: (23144, 13)\n",
      "Saved to: C:\\Users\\USER\\PEF\\Terrain-Traversability-Analysis\\adoquin_features\\adoquin_crgs_atras_5_features.csv\n",
      "Completed: adoquin_crgs_atras_5.csv\n",
      "Processing: adoquin_crgs_atras_51.csv\n",
      "Processing 23,145 points with label 'adoquin'...\n"
     ]
    },
    {
     "data": {
      "application/vnd.jupyter.widget-view+json": {
       "model_id": "68260328c0de41c6a7cea65d5150d625",
       "version_major": 2,
       "version_minor": 0
      },
      "text/plain": [
       "  0%|          | 0/23145 [00:00<?, ?it/s]"
      ]
     },
     "metadata": {},
     "output_type": "display_data"
    },
    {
     "name": "stdout",
     "output_type": "stream",
     "text": [
      "\n",
      "Processing complete: (23145, 13)\n",
      "Saved to: C:\\Users\\USER\\PEF\\Terrain-Traversability-Analysis\\adoquin_features\\adoquin_crgs_atras_51_features.csv\n",
      "Completed: adoquin_crgs_atras_51.csv\n",
      "Processing: adoquin_crgs_atras_6.csv\n",
      "Processing 23,146 points with label 'adoquin'...\n"
     ]
    },
    {
     "data": {
      "application/vnd.jupyter.widget-view+json": {
       "model_id": "48215e69c42c4565a4541ba360adc1a3",
       "version_major": 2,
       "version_minor": 0
      },
      "text/plain": [
       "  0%|          | 0/23146 [00:00<?, ?it/s]"
      ]
     },
     "metadata": {},
     "output_type": "display_data"
    },
    {
     "name": "stdout",
     "output_type": "stream",
     "text": [
      "\n",
      "Processing complete: (23146, 13)\n",
      "Saved to: C:\\Users\\USER\\PEF\\Terrain-Traversability-Analysis\\adoquin_features\\adoquin_crgs_atras_6_features.csv\n",
      "Completed: adoquin_crgs_atras_6.csv\n",
      "Processing: adoquin_crgs_atras_69.csv\n",
      "Processing 23,133 points with label 'adoquin'...\n"
     ]
    },
    {
     "data": {
      "application/vnd.jupyter.widget-view+json": {
       "model_id": "a4cce890b8c949a0bf811a27d7794664",
       "version_major": 2,
       "version_minor": 0
      },
      "text/plain": [
       "  0%|          | 0/23133 [00:00<?, ?it/s]"
      ]
     },
     "metadata": {},
     "output_type": "display_data"
    },
    {
     "name": "stdout",
     "output_type": "stream",
     "text": [
      "\n",
      "Processing complete: (23133, 13)\n",
      "Saved to: C:\\Users\\USER\\PEF\\Terrain-Traversability-Analysis\\adoquin_features\\adoquin_crgs_atras_69_features.csv\n",
      "Completed: adoquin_crgs_atras_69.csv\n",
      "Processing: adoquin_crgs_atras_sombra_11.csv\n",
      "Processing 22,770 points with label 'adoquin'...\n"
     ]
    },
    {
     "data": {
      "application/vnd.jupyter.widget-view+json": {
       "model_id": "3026425f3c194e13a0f55b2dd5304175",
       "version_major": 2,
       "version_minor": 0
      },
      "text/plain": [
       "  0%|          | 0/22770 [00:00<?, ?it/s]"
      ]
     },
     "metadata": {},
     "output_type": "display_data"
    },
    {
     "name": "stdout",
     "output_type": "stream",
     "text": [
      "\n",
      "Processing complete: (22770, 13)\n",
      "Saved to: C:\\Users\\USER\\PEF\\Terrain-Traversability-Analysis\\adoquin_features\\adoquin_crgs_atras_sombra_11_features.csv\n",
      "Completed: adoquin_crgs_atras_sombra_11.csv\n",
      "Processing: adoquin_crgs_atras_sombra_28.csv\n",
      "Processing 22,759 points with label 'adoquin'...\n"
     ]
    },
    {
     "data": {
      "application/vnd.jupyter.widget-view+json": {
       "model_id": "50de7f340ccb4e4da4875837cc36ef44",
       "version_major": 2,
       "version_minor": 0
      },
      "text/plain": [
       "  0%|          | 0/22759 [00:00<?, ?it/s]"
      ]
     },
     "metadata": {},
     "output_type": "display_data"
    },
    {
     "name": "stdout",
     "output_type": "stream",
     "text": [
      "\n",
      "Processing complete: (22759, 13)\n",
      "Saved to: C:\\Users\\USER\\PEF\\Terrain-Traversability-Analysis\\adoquin_features\\adoquin_crgs_atras_sombra_28_features.csv\n",
      "Completed: adoquin_crgs_atras_sombra_28.csv\n",
      "Processing: adoquin_crgs_atras_sombra_4.csv\n",
      "Processing 22,767 points with label 'adoquin'...\n"
     ]
    },
    {
     "data": {
      "application/vnd.jupyter.widget-view+json": {
       "model_id": "d2fceae4aeed493cb7d29e494d77d117",
       "version_major": 2,
       "version_minor": 0
      },
      "text/plain": [
       "  0%|          | 0/22767 [00:00<?, ?it/s]"
      ]
     },
     "metadata": {},
     "output_type": "display_data"
    },
    {
     "name": "stdout",
     "output_type": "stream",
     "text": [
      "\n",
      "Processing complete: (22767, 13)\n",
      "Saved to: C:\\Users\\USER\\PEF\\Terrain-Traversability-Analysis\\adoquin_features\\adoquin_crgs_atras_sombra_4_features.csv\n",
      "Completed: adoquin_crgs_atras_sombra_4.csv\n",
      "Processing: adoquin_crgs_atras_sombra_41.csv\n",
      "Processing 22,755 points with label 'adoquin'...\n"
     ]
    },
    {
     "data": {
      "application/vnd.jupyter.widget-view+json": {
       "model_id": "23145bcd648342fc902e4bef39ebfedc",
       "version_major": 2,
       "version_minor": 0
      },
      "text/plain": [
       "  0%|          | 0/22755 [00:00<?, ?it/s]"
      ]
     },
     "metadata": {},
     "output_type": "display_data"
    },
    {
     "name": "stdout",
     "output_type": "stream",
     "text": [
      "\n",
      "Processing complete: (22755, 13)\n",
      "Saved to: C:\\Users\\USER\\PEF\\Terrain-Traversability-Analysis\\adoquin_features\\adoquin_crgs_atras_sombra_41_features.csv\n",
      "Completed: adoquin_crgs_atras_sombra_41.csv\n",
      "Processing: adoquin_crgs_atras_sombra_42.csv\n",
      "Processing 22,755 points with label 'adoquin'...\n"
     ]
    },
    {
     "data": {
      "application/vnd.jupyter.widget-view+json": {
       "model_id": "28c129959a00422291f4cb279d75a79c",
       "version_major": 2,
       "version_minor": 0
      },
      "text/plain": [
       "  0%|          | 0/22755 [00:00<?, ?it/s]"
      ]
     },
     "metadata": {},
     "output_type": "display_data"
    },
    {
     "name": "stdout",
     "output_type": "stream",
     "text": [
      "\n",
      "Processing complete: (22755, 13)\n",
      "Saved to: C:\\Users\\USER\\PEF\\Terrain-Traversability-Analysis\\adoquin_features\\adoquin_crgs_atras_sombra_42_features.csv\n",
      "Completed: adoquin_crgs_atras_sombra_42.csv\n",
      "Processing: adoquin_crgs_atras_sombra_70.csv\n",
      "Processing 22,757 points with label 'adoquin'...\n"
     ]
    },
    {
     "data": {
      "application/vnd.jupyter.widget-view+json": {
       "model_id": "e3ac0a2f932f4e1a918eeefde7c0a869",
       "version_major": 2,
       "version_minor": 0
      },
      "text/plain": [
       "  0%|          | 0/22757 [00:00<?, ?it/s]"
      ]
     },
     "metadata": {},
     "output_type": "display_data"
    },
    {
     "name": "stdout",
     "output_type": "stream",
     "text": [
      "\n",
      "Processing complete: (22757, 13)\n",
      "Saved to: C:\\Users\\USER\\PEF\\Terrain-Traversability-Analysis\\adoquin_features\\adoquin_crgs_atras_sombra_70_features.csv\n",
      "Completed: adoquin_crgs_atras_sombra_70.csv\n",
      "Processing: adoquin_crgs_atras_sombra_72.csv\n",
      "Processing 22,754 points with label 'adoquin'...\n"
     ]
    },
    {
     "data": {
      "application/vnd.jupyter.widget-view+json": {
       "model_id": "6ac078798bcb4681bfb54ec9d879c704",
       "version_major": 2,
       "version_minor": 0
      },
      "text/plain": [
       "  0%|          | 0/22754 [00:00<?, ?it/s]"
      ]
     },
     "metadata": {},
     "output_type": "display_data"
    },
    {
     "name": "stdout",
     "output_type": "stream",
     "text": [
      "\n",
      "Processing complete: (22754, 13)\n",
      "Saved to: C:\\Users\\USER\\PEF\\Terrain-Traversability-Analysis\\adoquin_features\\adoquin_crgs_atras_sombra_72_features.csv\n",
      "Completed: adoquin_crgs_atras_sombra_72.csv\n",
      "Processing: adoquin_crgs_atras_sombra_73.csv\n",
      "Processing 22,750 points with label 'adoquin'...\n"
     ]
    },
    {
     "data": {
      "application/vnd.jupyter.widget-view+json": {
       "model_id": "e657e53e64f7424085e144fa1d319cbb",
       "version_major": 2,
       "version_minor": 0
      },
      "text/plain": [
       "  0%|          | 0/22750 [00:00<?, ?it/s]"
      ]
     },
     "metadata": {},
     "output_type": "display_data"
    },
    {
     "name": "stdout",
     "output_type": "stream",
     "text": [
      "\n",
      "Processing complete: (22750, 13)\n",
      "Saved to: C:\\Users\\USER\\PEF\\Terrain-Traversability-Analysis\\adoquin_features\\adoquin_crgs_atras_sombra_73_features.csv\n",
      "Completed: adoquin_crgs_atras_sombra_73.csv\n",
      "Processing: adoquin_crgs_atras_sombra_77.csv\n",
      "Processing 22,747 points with label 'adoquin'...\n"
     ]
    },
    {
     "data": {
      "application/vnd.jupyter.widget-view+json": {
       "model_id": "7ddab7dbed9f4d189905051c1000853a",
       "version_major": 2,
       "version_minor": 0
      },
      "text/plain": [
       "  0%|          | 0/22747 [00:00<?, ?it/s]"
      ]
     },
     "metadata": {},
     "output_type": "display_data"
    },
    {
     "name": "stdout",
     "output_type": "stream",
     "text": [
      "\n",
      "Processing complete: (22747, 13)\n",
      "Saved to: C:\\Users\\USER\\PEF\\Terrain-Traversability-Analysis\\adoquin_features\\adoquin_crgs_atras_sombra_77_features.csv\n",
      "Completed: adoquin_crgs_atras_sombra_77.csv\n",
      "Processing: adoquin_crgs_atras_sombra_8.csv\n",
      "Processing 22,768 points with label 'adoquin'...\n"
     ]
    },
    {
     "data": {
      "application/vnd.jupyter.widget-view+json": {
       "model_id": "4d6b1c7d1e1b48259942ce7597462537",
       "version_major": 2,
       "version_minor": 0
      },
      "text/plain": [
       "  0%|          | 0/22768 [00:00<?, ?it/s]"
      ]
     },
     "metadata": {},
     "output_type": "display_data"
    },
    {
     "name": "stdout",
     "output_type": "stream",
     "text": [
      "\n",
      "Processing complete: (22768, 13)\n",
      "Saved to: C:\\Users\\USER\\PEF\\Terrain-Traversability-Analysis\\adoquin_features\\adoquin_crgs_atras_sombra_8_features.csv\n",
      "Completed: adoquin_crgs_atras_sombra_8.csv\n",
      "Processing: adoquin_crgs_atras_sombraysol_10.csv\n",
      "Processing 23,393 points with label 'adoquin'...\n"
     ]
    },
    {
     "data": {
      "application/vnd.jupyter.widget-view+json": {
       "model_id": "a5572c2e386049f1a27b16148944c10d",
       "version_major": 2,
       "version_minor": 0
      },
      "text/plain": [
       "  0%|          | 0/23393 [00:00<?, ?it/s]"
      ]
     },
     "metadata": {},
     "output_type": "display_data"
    },
    {
     "name": "stdout",
     "output_type": "stream",
     "text": [
      "\n",
      "Processing complete: (23393, 13)\n",
      "Saved to: C:\\Users\\USER\\PEF\\Terrain-Traversability-Analysis\\adoquin_features\\adoquin_crgs_atras_sombraysol_10_features.csv\n",
      "Completed: adoquin_crgs_atras_sombraysol_10.csv\n",
      "Processing: adoquin_crgs_atras_sombraysol_19.csv\n",
      "Processing 23,397 points with label 'adoquin'...\n"
     ]
    },
    {
     "data": {
      "application/vnd.jupyter.widget-view+json": {
       "model_id": "eb088171744c4a1aaac1440c1da64788",
       "version_major": 2,
       "version_minor": 0
      },
      "text/plain": [
       "  0%|          | 0/23397 [00:00<?, ?it/s]"
      ]
     },
     "metadata": {},
     "output_type": "display_data"
    },
    {
     "name": "stdout",
     "output_type": "stream",
     "text": [
      "\n",
      "Processing complete: (23397, 13)\n",
      "Saved to: C:\\Users\\USER\\PEF\\Terrain-Traversability-Analysis\\adoquin_features\\adoquin_crgs_atras_sombraysol_19_features.csv\n",
      "Completed: adoquin_crgs_atras_sombraysol_19.csv\n",
      "Processing: adoquin_crgs_atras_sombraysol_2.csv\n",
      "Processing 23,400 points with label 'adoquin'...\n"
     ]
    },
    {
     "data": {
      "application/vnd.jupyter.widget-view+json": {
       "model_id": "89e407e45cf34dec97732fe6a8cce900",
       "version_major": 2,
       "version_minor": 0
      },
      "text/plain": [
       "  0%|          | 0/23400 [00:00<?, ?it/s]"
      ]
     },
     "metadata": {},
     "output_type": "display_data"
    },
    {
     "name": "stdout",
     "output_type": "stream",
     "text": [
      "\n",
      "Processing complete: (23400, 13)\n",
      "Saved to: C:\\Users\\USER\\PEF\\Terrain-Traversability-Analysis\\adoquin_features\\adoquin_crgs_atras_sombraysol_2_features.csv\n",
      "Completed: adoquin_crgs_atras_sombraysol_2.csv\n",
      "Processing: adoquin_crgs_atras_sombraysol_32.csv\n",
      "Processing 23,400 points with label 'adoquin'...\n"
     ]
    },
    {
     "data": {
      "application/vnd.jupyter.widget-view+json": {
       "model_id": "58bc4e2a4b6140fab0eab84331946b04",
       "version_major": 2,
       "version_minor": 0
      },
      "text/plain": [
       "  0%|          | 0/23400 [00:00<?, ?it/s]"
      ]
     },
     "metadata": {},
     "output_type": "display_data"
    },
    {
     "name": "stdout",
     "output_type": "stream",
     "text": [
      "\n",
      "Processing complete: (23400, 13)\n",
      "Saved to: C:\\Users\\USER\\PEF\\Terrain-Traversability-Analysis\\adoquin_features\\adoquin_crgs_atras_sombraysol_32_features.csv\n",
      "Completed: adoquin_crgs_atras_sombraysol_32.csv\n",
      "Processing: adoquin_crgs_atras_sombraysol_34.csv\n",
      "Processing 23,390 points with label 'adoquin'...\n"
     ]
    },
    {
     "data": {
      "application/vnd.jupyter.widget-view+json": {
       "model_id": "92461edc03b142b7af65a0bd72c03e84",
       "version_major": 2,
       "version_minor": 0
      },
      "text/plain": [
       "  0%|          | 0/23390 [00:00<?, ?it/s]"
      ]
     },
     "metadata": {},
     "output_type": "display_data"
    },
    {
     "name": "stdout",
     "output_type": "stream",
     "text": [
      "\n",
      "Processing complete: (23390, 13)\n",
      "Saved to: C:\\Users\\USER\\PEF\\Terrain-Traversability-Analysis\\adoquin_features\\adoquin_crgs_atras_sombraysol_34_features.csv\n",
      "Completed: adoquin_crgs_atras_sombraysol_34.csv\n",
      "Processing: adoquin_crgs_atras_sombraysol_39.csv\n",
      "Processing 23,393 points with label 'adoquin'...\n"
     ]
    },
    {
     "data": {
      "application/vnd.jupyter.widget-view+json": {
       "model_id": "94bb643d7f2f4dfaaad67ae26cc5d5f5",
       "version_major": 2,
       "version_minor": 0
      },
      "text/plain": [
       "  0%|          | 0/23393 [00:00<?, ?it/s]"
      ]
     },
     "metadata": {},
     "output_type": "display_data"
    },
    {
     "name": "stdout",
     "output_type": "stream",
     "text": [
      "\n",
      "Processing complete: (23393, 13)\n",
      "Saved to: C:\\Users\\USER\\PEF\\Terrain-Traversability-Analysis\\adoquin_features\\adoquin_crgs_atras_sombraysol_39_features.csv\n",
      "Completed: adoquin_crgs_atras_sombraysol_39.csv\n",
      "Processing: adoquin_crgs_atras_sombraysol_46.csv\n",
      "Processing 23,398 points with label 'adoquin'...\n"
     ]
    },
    {
     "data": {
      "application/vnd.jupyter.widget-view+json": {
       "model_id": "109d4c45fb0a43db9dfa0ba7e20698be",
       "version_major": 2,
       "version_minor": 0
      },
      "text/plain": [
       "  0%|          | 0/23398 [00:00<?, ?it/s]"
      ]
     },
     "metadata": {},
     "output_type": "display_data"
    },
    {
     "name": "stdout",
     "output_type": "stream",
     "text": [
      "\n",
      "Processing complete: (23398, 13)\n",
      "Saved to: C:\\Users\\USER\\PEF\\Terrain-Traversability-Analysis\\adoquin_features\\adoquin_crgs_atras_sombraysol_46_features.csv\n",
      "Completed: adoquin_crgs_atras_sombraysol_46.csv\n",
      "Processing: adoquin_crgs_atras_sombraysol_57.csv\n",
      "Processing 23,392 points with label 'adoquin'...\n"
     ]
    },
    {
     "data": {
      "application/vnd.jupyter.widget-view+json": {
       "model_id": "b53f1cdf1a5d400898d397e314127d50",
       "version_major": 2,
       "version_minor": 0
      },
      "text/plain": [
       "  0%|          | 0/23392 [00:00<?, ?it/s]"
      ]
     },
     "metadata": {},
     "output_type": "display_data"
    },
    {
     "name": "stdout",
     "output_type": "stream",
     "text": [
      "\n",
      "Processing complete: (23392, 13)\n",
      "Saved to: C:\\Users\\USER\\PEF\\Terrain-Traversability-Analysis\\adoquin_features\\adoquin_crgs_atras_sombraysol_57_features.csv\n",
      "Completed: adoquin_crgs_atras_sombraysol_57.csv\n",
      "Processing: adoquin_crgs_atras_sombraysol_64.csv\n",
      "Processing 23,401 points with label 'adoquin'...\n"
     ]
    },
    {
     "data": {
      "application/vnd.jupyter.widget-view+json": {
       "model_id": "7adfc2431ec14fff971aeb648dde492d",
       "version_major": 2,
       "version_minor": 0
      },
      "text/plain": [
       "  0%|          | 0/23401 [00:00<?, ?it/s]"
      ]
     },
     "metadata": {},
     "output_type": "display_data"
    },
    {
     "name": "stdout",
     "output_type": "stream",
     "text": [
      "\n",
      "Processing complete: (23401, 13)\n",
      "Saved to: C:\\Users\\USER\\PEF\\Terrain-Traversability-Analysis\\adoquin_features\\adoquin_crgs_atras_sombraysol_64_features.csv\n",
      "Completed: adoquin_crgs_atras_sombraysol_64.csv\n",
      "Processing: adoquin_crgs_atras_sombraysol_67.csv\n",
      "Processing 23,390 points with label 'adoquin'...\n"
     ]
    },
    {
     "data": {
      "application/vnd.jupyter.widget-view+json": {
       "model_id": "fd6e74eca8ec4ca3bab780781c91dde4",
       "version_major": 2,
       "version_minor": 0
      },
      "text/plain": [
       "  0%|          | 0/23390 [00:00<?, ?it/s]"
      ]
     },
     "metadata": {},
     "output_type": "display_data"
    },
    {
     "name": "stdout",
     "output_type": "stream",
     "text": [
      "\n",
      "Processing complete: (23390, 13)\n",
      "Saved to: C:\\Users\\USER\\PEF\\Terrain-Traversability-Analysis\\adoquin_features\\adoquin_crgs_atras_sombraysol_67_features.csv\n",
      "Completed: adoquin_crgs_atras_sombraysol_67.csv\n",
      "Processing: adoquin_crgs_sombra_12.csv\n",
      "Processing 21,046 points with label 'adoquin'...\n"
     ]
    },
    {
     "data": {
      "application/vnd.jupyter.widget-view+json": {
       "model_id": "e1bed9ccd97d40458a592393df44935d",
       "version_major": 2,
       "version_minor": 0
      },
      "text/plain": [
       "  0%|          | 0/21046 [00:00<?, ?it/s]"
      ]
     },
     "metadata": {},
     "output_type": "display_data"
    },
    {
     "name": "stdout",
     "output_type": "stream",
     "text": [
      "\n",
      "Processing complete: (21046, 13)\n",
      "Saved to: C:\\Users\\USER\\PEF\\Terrain-Traversability-Analysis\\adoquin_features\\adoquin_crgs_sombra_12_features.csv\n",
      "Completed: adoquin_crgs_sombra_12.csv\n",
      "Processing: adoquin_crgs_sombra_15.csv\n",
      "Processing 21,043 points with label 'adoquin'...\n"
     ]
    },
    {
     "data": {
      "application/vnd.jupyter.widget-view+json": {
       "model_id": "52b21663f607421886c229db261811b8",
       "version_major": 2,
       "version_minor": 0
      },
      "text/plain": [
       "  0%|          | 0/21043 [00:00<?, ?it/s]"
      ]
     },
     "metadata": {},
     "output_type": "display_data"
    },
    {
     "name": "stdout",
     "output_type": "stream",
     "text": [
      "\n",
      "Processing complete: (21043, 13)\n",
      "Saved to: C:\\Users\\USER\\PEF\\Terrain-Traversability-Analysis\\adoquin_features\\adoquin_crgs_sombra_15_features.csv\n",
      "Completed: adoquin_crgs_sombra_15.csv\n",
      "Processing: adoquin_crgs_sombra_27.csv\n",
      "Processing 21,054 points with label 'adoquin'...\n"
     ]
    },
    {
     "data": {
      "application/vnd.jupyter.widget-view+json": {
       "model_id": "79b44bb81c7c405097ec9802e80cd1a7",
       "version_major": 2,
       "version_minor": 0
      },
      "text/plain": [
       "  0%|          | 0/21054 [00:00<?, ?it/s]"
      ]
     },
     "metadata": {},
     "output_type": "display_data"
    },
    {
     "name": "stdout",
     "output_type": "stream",
     "text": [
      "\n",
      "Processing complete: (21054, 13)\n",
      "Saved to: C:\\Users\\USER\\PEF\\Terrain-Traversability-Analysis\\adoquin_features\\adoquin_crgs_sombra_27_features.csv\n",
      "Completed: adoquin_crgs_sombra_27.csv\n",
      "Processing: adoquin_crgs_sombra_31.csv\n",
      "Processing 21,048 points with label 'adoquin'...\n"
     ]
    },
    {
     "data": {
      "application/vnd.jupyter.widget-view+json": {
       "model_id": "4c071c8cb15c4d7da701a607ba0346e5",
       "version_major": 2,
       "version_minor": 0
      },
      "text/plain": [
       "  0%|          | 0/21048 [00:00<?, ?it/s]"
      ]
     },
     "metadata": {},
     "output_type": "display_data"
    },
    {
     "name": "stdout",
     "output_type": "stream",
     "text": [
      "\n",
      "Processing complete: (21048, 13)\n",
      "Saved to: C:\\Users\\USER\\PEF\\Terrain-Traversability-Analysis\\adoquin_features\\adoquin_crgs_sombra_31_features.csv\n",
      "Completed: adoquin_crgs_sombra_31.csv\n",
      "Processing: adoquin_crgs_sombra_35.csv\n",
      "Processing 21,055 points with label 'adoquin'...\n"
     ]
    },
    {
     "data": {
      "application/vnd.jupyter.widget-view+json": {
       "model_id": "16dfcc685d8a4d20bc6ed88dacebc98b",
       "version_major": 2,
       "version_minor": 0
      },
      "text/plain": [
       "  0%|          | 0/21055 [00:00<?, ?it/s]"
      ]
     },
     "metadata": {},
     "output_type": "display_data"
    },
    {
     "name": "stdout",
     "output_type": "stream",
     "text": [
      "\n",
      "Processing complete: (21055, 13)\n",
      "Saved to: C:\\Users\\USER\\PEF\\Terrain-Traversability-Analysis\\adoquin_features\\adoquin_crgs_sombra_35_features.csv\n",
      "Completed: adoquin_crgs_sombra_35.csv\n",
      "Processing: adoquin_crgs_sombra_39.csv\n",
      "Processing 21,045 points with label 'adoquin'...\n"
     ]
    },
    {
     "data": {
      "application/vnd.jupyter.widget-view+json": {
       "model_id": "72da3bf329374b0e9629b84afcb844a2",
       "version_major": 2,
       "version_minor": 0
      },
      "text/plain": [
       "  0%|          | 0/21045 [00:00<?, ?it/s]"
      ]
     },
     "metadata": {},
     "output_type": "display_data"
    },
    {
     "name": "stdout",
     "output_type": "stream",
     "text": [
      "\n",
      "Processing complete: (21045, 13)\n",
      "Saved to: C:\\Users\\USER\\PEF\\Terrain-Traversability-Analysis\\adoquin_features\\adoquin_crgs_sombra_39_features.csv\n",
      "Completed: adoquin_crgs_sombra_39.csv\n",
      "Processing: adoquin_crgs_sombra_41.csv\n",
      "Processing 21,053 points with label 'adoquin'...\n"
     ]
    },
    {
     "data": {
      "application/vnd.jupyter.widget-view+json": {
       "model_id": "e1ec6d6169d94714b8235e7b4c298aa2",
       "version_major": 2,
       "version_minor": 0
      },
      "text/plain": [
       "  0%|          | 0/21053 [00:00<?, ?it/s]"
      ]
     },
     "metadata": {},
     "output_type": "display_data"
    },
    {
     "name": "stdout",
     "output_type": "stream",
     "text": [
      "\n",
      "Processing complete: (21053, 13)\n",
      "Saved to: C:\\Users\\USER\\PEF\\Terrain-Traversability-Analysis\\adoquin_features\\adoquin_crgs_sombra_41_features.csv\n",
      "Completed: adoquin_crgs_sombra_41.csv\n",
      "Processing: adoquin_crgs_sombra_53.csv\n",
      "Processing 21,041 points with label 'adoquin'...\n"
     ]
    },
    {
     "data": {
      "application/vnd.jupyter.widget-view+json": {
       "model_id": "3f68ed58d02043c8b2bb94c33119206a",
       "version_major": 2,
       "version_minor": 0
      },
      "text/plain": [
       "  0%|          | 0/21041 [00:00<?, ?it/s]"
      ]
     },
     "metadata": {},
     "output_type": "display_data"
    },
    {
     "name": "stdout",
     "output_type": "stream",
     "text": [
      "\n",
      "Processing complete: (21041, 13)\n",
      "Saved to: C:\\Users\\USER\\PEF\\Terrain-Traversability-Analysis\\adoquin_features\\adoquin_crgs_sombra_53_features.csv\n",
      "Completed: adoquin_crgs_sombra_53.csv\n",
      "Processing: adoquin_crgs_sombra_6.csv\n",
      "Processing 21,044 points with label 'adoquin'...\n"
     ]
    },
    {
     "data": {
      "application/vnd.jupyter.widget-view+json": {
       "model_id": "9fc6a34b63e440b4b225d2bb98cc74c7",
       "version_major": 2,
       "version_minor": 0
      },
      "text/plain": [
       "  0%|          | 0/21044 [00:00<?, ?it/s]"
      ]
     },
     "metadata": {},
     "output_type": "display_data"
    },
    {
     "name": "stdout",
     "output_type": "stream",
     "text": [
      "\n",
      "Processing complete: (21044, 13)\n",
      "Saved to: C:\\Users\\USER\\PEF\\Terrain-Traversability-Analysis\\adoquin_features\\adoquin_crgs_sombra_6_features.csv\n",
      "Completed: adoquin_crgs_sombra_6.csv\n",
      "Processing: adoquin_crgs_sombra_65.csv\n",
      "Processing 21,058 points with label 'adoquin'...\n"
     ]
    },
    {
     "data": {
      "application/vnd.jupyter.widget-view+json": {
       "model_id": "bf9d852943d24a43b8f3541c622692cb",
       "version_major": 2,
       "version_minor": 0
      },
      "text/plain": [
       "  0%|          | 0/21058 [00:00<?, ?it/s]"
      ]
     },
     "metadata": {},
     "output_type": "display_data"
    },
    {
     "name": "stdout",
     "output_type": "stream",
     "text": [
      "\n",
      "Processing complete: (21058, 13)\n",
      "Saved to: C:\\Users\\USER\\PEF\\Terrain-Traversability-Analysis\\adoquin_features\\adoquin_crgs_sombra_65_features.csv\n",
      "Completed: adoquin_crgs_sombra_65.csv\n",
      "Processing: adoquin_dropOff_34.csv\n",
      "Processing 21,714 points with label 'adoquin'...\n"
     ]
    },
    {
     "data": {
      "application/vnd.jupyter.widget-view+json": {
       "model_id": "af1dfdaa2e1a4f478bc5832c2928df7a",
       "version_major": 2,
       "version_minor": 0
      },
      "text/plain": [
       "  0%|          | 0/21714 [00:00<?, ?it/s]"
      ]
     },
     "metadata": {},
     "output_type": "display_data"
    },
    {
     "name": "stdout",
     "output_type": "stream",
     "text": [
      "\n",
      "Processing complete: (21714, 13)\n",
      "Saved to: C:\\Users\\USER\\PEF\\Terrain-Traversability-Analysis\\adoquin_features\\adoquin_dropOff_34_features.csv\n",
      "Completed: adoquin_dropOff_34.csv\n",
      "Processing: adoquin_dropOff_37.csv\n",
      "Processing 21,733 points with label 'adoquin'...\n"
     ]
    },
    {
     "data": {
      "application/vnd.jupyter.widget-view+json": {
       "model_id": "b9d5bf8ac44544b28a17b884e94a0a0f",
       "version_major": 2,
       "version_minor": 0
      },
      "text/plain": [
       "  0%|          | 0/21733 [00:00<?, ?it/s]"
      ]
     },
     "metadata": {},
     "output_type": "display_data"
    },
    {
     "name": "stdout",
     "output_type": "stream",
     "text": [
      "\n",
      "Processing complete: (21733, 13)\n",
      "Saved to: C:\\Users\\USER\\PEF\\Terrain-Traversability-Analysis\\adoquin_features\\adoquin_dropOff_37_features.csv\n",
      "Completed: adoquin_dropOff_37.csv\n",
      "Processing: adoquin_dropOff_42.csv\n",
      "Processing 21,724 points with label 'adoquin'...\n"
     ]
    },
    {
     "data": {
      "application/vnd.jupyter.widget-view+json": {
       "model_id": "0b28877f37f54b2eb688499d073d4035",
       "version_major": 2,
       "version_minor": 0
      },
      "text/plain": [
       "  0%|          | 0/21724 [00:00<?, ?it/s]"
      ]
     },
     "metadata": {},
     "output_type": "display_data"
    },
    {
     "name": "stdout",
     "output_type": "stream",
     "text": [
      "\n",
      "Processing complete: (21724, 13)\n",
      "Saved to: C:\\Users\\USER\\PEF\\Terrain-Traversability-Analysis\\adoquin_features\\adoquin_dropOff_42_features.csv\n",
      "Completed: adoquin_dropOff_42.csv\n",
      "Processing: adoquin_dropOff_45.csv\n",
      "Processing 21,718 points with label 'adoquin'...\n"
     ]
    },
    {
     "data": {
      "application/vnd.jupyter.widget-view+json": {
       "model_id": "787dd7326fb84a3fa5432a4e09d63f0c",
       "version_major": 2,
       "version_minor": 0
      },
      "text/plain": [
       "  0%|          | 0/21718 [00:00<?, ?it/s]"
      ]
     },
     "metadata": {},
     "output_type": "display_data"
    },
    {
     "name": "stdout",
     "output_type": "stream",
     "text": [
      "\n",
      "Processing complete: (21718, 13)\n",
      "Saved to: C:\\Users\\USER\\PEF\\Terrain-Traversability-Analysis\\adoquin_features\\adoquin_dropOff_45_features.csv\n",
      "Completed: adoquin_dropOff_45.csv\n",
      "Processing: adoquin_dropOff_52.csv\n",
      "Processing 21,724 points with label 'adoquin'...\n"
     ]
    },
    {
     "data": {
      "application/vnd.jupyter.widget-view+json": {
       "model_id": "f06f50c03f2b4e0faf3860423c3d7df0",
       "version_major": 2,
       "version_minor": 0
      },
      "text/plain": [
       "  0%|          | 0/21724 [00:00<?, ?it/s]"
      ]
     },
     "metadata": {},
     "output_type": "display_data"
    },
    {
     "name": "stdout",
     "output_type": "stream",
     "text": [
      "\n",
      "Processing complete: (21724, 13)\n",
      "Saved to: C:\\Users\\USER\\PEF\\Terrain-Traversability-Analysis\\adoquin_features\\adoquin_dropOff_52_features.csv\n",
      "Completed: adoquin_dropOff_52.csv\n",
      "Processing: adoquin_dropOff_59.csv\n",
      "Processing 21,726 points with label 'adoquin'...\n"
     ]
    },
    {
     "data": {
      "application/vnd.jupyter.widget-view+json": {
       "model_id": "20e1fccf02be4e4c8d62ad4b94cd14c2",
       "version_major": 2,
       "version_minor": 0
      },
      "text/plain": [
       "  0%|          | 0/21726 [00:00<?, ?it/s]"
      ]
     },
     "metadata": {},
     "output_type": "display_data"
    },
    {
     "name": "stdout",
     "output_type": "stream",
     "text": [
      "\n",
      "Processing complete: (21726, 13)\n",
      "Saved to: C:\\Users\\USER\\PEF\\Terrain-Traversability-Analysis\\adoquin_features\\adoquin_dropOff_59_features.csv\n",
      "Completed: adoquin_dropOff_59.csv\n",
      "Processing: adoquin_dropOff_63.csv\n",
      "Processing 21,718 points with label 'adoquin'...\n"
     ]
    },
    {
     "data": {
      "application/vnd.jupyter.widget-view+json": {
       "model_id": "21d07567ec7f4037820e40bb2d81fca4",
       "version_major": 2,
       "version_minor": 0
      },
      "text/plain": [
       "  0%|          | 0/21718 [00:00<?, ?it/s]"
      ]
     },
     "metadata": {},
     "output_type": "display_data"
    },
    {
     "name": "stdout",
     "output_type": "stream",
     "text": [
      "\n",
      "Processing complete: (21718, 13)\n",
      "Saved to: C:\\Users\\USER\\PEF\\Terrain-Traversability-Analysis\\adoquin_features\\adoquin_dropOff_63_features.csv\n",
      "Completed: adoquin_dropOff_63.csv\n",
      "Processing: adoquin_dropOff_64.csv\n",
      "Processing 21,722 points with label 'adoquin'...\n"
     ]
    },
    {
     "data": {
      "application/vnd.jupyter.widget-view+json": {
       "model_id": "a7d7ed1c01e743cbb0a479689361fa12",
       "version_major": 2,
       "version_minor": 0
      },
      "text/plain": [
       "  0%|          | 0/21722 [00:00<?, ?it/s]"
      ]
     },
     "metadata": {},
     "output_type": "display_data"
    },
    {
     "name": "stdout",
     "output_type": "stream",
     "text": [
      "\n",
      "Processing complete: (21722, 13)\n",
      "Saved to: C:\\Users\\USER\\PEF\\Terrain-Traversability-Analysis\\adoquin_features\\adoquin_dropOff_64_features.csv\n",
      "Completed: adoquin_dropOff_64.csv\n",
      "Processing: adoquin_dropOff_66.csv\n",
      "Processing 21,728 points with label 'adoquin'...\n"
     ]
    },
    {
     "data": {
      "application/vnd.jupyter.widget-view+json": {
       "model_id": "6033727eb8db40a0bb47bcaa497964ef",
       "version_major": 2,
       "version_minor": 0
      },
      "text/plain": [
       "  0%|          | 0/21728 [00:00<?, ?it/s]"
      ]
     },
     "metadata": {},
     "output_type": "display_data"
    },
    {
     "name": "stdout",
     "output_type": "stream",
     "text": [
      "\n",
      "Processing complete: (21728, 13)\n",
      "Saved to: C:\\Users\\USER\\PEF\\Terrain-Traversability-Analysis\\adoquin_features\\adoquin_dropOff_66_features.csv\n",
      "Completed: adoquin_dropOff_66.csv\n",
      "Processing: adoquin_dropOff_70.csv\n",
      "Processing 21,710 points with label 'adoquin'...\n"
     ]
    },
    {
     "data": {
      "application/vnd.jupyter.widget-view+json": {
       "model_id": "ab0d4f06d1014a57b734923c111e5e8c",
       "version_major": 2,
       "version_minor": 0
      },
      "text/plain": [
       "  0%|          | 0/21710 [00:00<?, ?it/s]"
      ]
     },
     "metadata": {},
     "output_type": "display_data"
    },
    {
     "name": "stdout",
     "output_type": "stream",
     "text": [
      "\n",
      "Processing complete: (21710, 13)\n",
      "Saved to: C:\\Users\\USER\\PEF\\Terrain-Traversability-Analysis\\adoquin_features\\adoquin_dropOff_70_features.csv\n",
      "Completed: adoquin_dropOff_70.csv\n",
      "Processing: adoquin_dropOff_2_21.csv\n",
      "Processing 22,583 points with label 'adoquin'...\n"
     ]
    },
    {
     "data": {
      "application/vnd.jupyter.widget-view+json": {
       "model_id": "948d37e67e4f4501ab4323111785c135",
       "version_major": 2,
       "version_minor": 0
      },
      "text/plain": [
       "  0%|          | 0/22583 [00:00<?, ?it/s]"
      ]
     },
     "metadata": {},
     "output_type": "display_data"
    },
    {
     "name": "stdout",
     "output_type": "stream",
     "text": [
      "\n",
      "Processing complete: (22583, 13)\n",
      "Saved to: C:\\Users\\USER\\PEF\\Terrain-Traversability-Analysis\\adoquin_features\\adoquin_dropOff_2_21_features.csv\n",
      "Completed: adoquin_dropOff_2_21.csv\n",
      "Processing: adoquin_dropOff_2_26.csv\n",
      "Processing 22,572 points with label 'adoquin'...\n"
     ]
    },
    {
     "data": {
      "application/vnd.jupyter.widget-view+json": {
       "model_id": "36a9f34b401a4e2e9ebc8b996e3970da",
       "version_major": 2,
       "version_minor": 0
      },
      "text/plain": [
       "  0%|          | 0/22572 [00:00<?, ?it/s]"
      ]
     },
     "metadata": {},
     "output_type": "display_data"
    },
    {
     "name": "stdout",
     "output_type": "stream",
     "text": [
      "\n",
      "Processing complete: (22572, 13)\n",
      "Saved to: C:\\Users\\USER\\PEF\\Terrain-Traversability-Analysis\\adoquin_features\\adoquin_dropOff_2_26_features.csv\n",
      "Completed: adoquin_dropOff_2_26.csv\n",
      "Processing: adoquin_dropOff_2_27.csv\n",
      "Processing 22,571 points with label 'adoquin'...\n"
     ]
    },
    {
     "data": {
      "application/vnd.jupyter.widget-view+json": {
       "model_id": "a3b4196b9028479e804c4149c8c73945",
       "version_major": 2,
       "version_minor": 0
      },
      "text/plain": [
       "  0%|          | 0/22571 [00:00<?, ?it/s]"
      ]
     },
     "metadata": {},
     "output_type": "display_data"
    },
    {
     "name": "stdout",
     "output_type": "stream",
     "text": [
      "\n",
      "Processing complete: (22571, 13)\n",
      "Saved to: C:\\Users\\USER\\PEF\\Terrain-Traversability-Analysis\\adoquin_features\\adoquin_dropOff_2_27_features.csv\n",
      "Completed: adoquin_dropOff_2_27.csv\n",
      "Processing: adoquin_dropOff_2_28.csv\n",
      "Processing 22,577 points with label 'adoquin'...\n"
     ]
    },
    {
     "data": {
      "application/vnd.jupyter.widget-view+json": {
       "model_id": "28222882260447e4a6dfc35f19e3346e",
       "version_major": 2,
       "version_minor": 0
      },
      "text/plain": [
       "  0%|          | 0/22577 [00:00<?, ?it/s]"
      ]
     },
     "metadata": {},
     "output_type": "display_data"
    },
    {
     "name": "stdout",
     "output_type": "stream",
     "text": [
      "\n",
      "Processing complete: (22577, 13)\n",
      "Saved to: C:\\Users\\USER\\PEF\\Terrain-Traversability-Analysis\\adoquin_features\\adoquin_dropOff_2_28_features.csv\n",
      "Completed: adoquin_dropOff_2_28.csv\n",
      "Processing: adoquin_dropOff_2_31.csv\n",
      "Processing 22,583 points with label 'adoquin'...\n"
     ]
    },
    {
     "data": {
      "application/vnd.jupyter.widget-view+json": {
       "model_id": "37bcc7cf5ca940f8aeb3d6d6f4650588",
       "version_major": 2,
       "version_minor": 0
      },
      "text/plain": [
       "  0%|          | 0/22583 [00:00<?, ?it/s]"
      ]
     },
     "metadata": {},
     "output_type": "display_data"
    },
    {
     "name": "stdout",
     "output_type": "stream",
     "text": [
      "\n",
      "Processing complete: (22583, 13)\n",
      "Saved to: C:\\Users\\USER\\PEF\\Terrain-Traversability-Analysis\\adoquin_features\\adoquin_dropOff_2_31_features.csv\n",
      "Completed: adoquin_dropOff_2_31.csv\n",
      "Processing: adoquin_dropOff_2_36.csv\n",
      "Processing 22,576 points with label 'adoquin'...\n"
     ]
    },
    {
     "data": {
      "application/vnd.jupyter.widget-view+json": {
       "model_id": "59108793d71445299fc63d2e9c1d9f27",
       "version_major": 2,
       "version_minor": 0
      },
      "text/plain": [
       "  0%|          | 0/22576 [00:00<?, ?it/s]"
      ]
     },
     "metadata": {},
     "output_type": "display_data"
    },
    {
     "name": "stdout",
     "output_type": "stream",
     "text": [
      "\n",
      "Processing complete: (22576, 13)\n",
      "Saved to: C:\\Users\\USER\\PEF\\Terrain-Traversability-Analysis\\adoquin_features\\adoquin_dropOff_2_36_features.csv\n",
      "Completed: adoquin_dropOff_2_36.csv\n",
      "Processing: adoquin_dropOff_2_43.csv\n",
      "Processing 22,564 points with label 'adoquin'...\n"
     ]
    },
    {
     "data": {
      "application/vnd.jupyter.widget-view+json": {
       "model_id": "8af6ecbd3b1a46fbb2716a6d258930c6",
       "version_major": 2,
       "version_minor": 0
      },
      "text/plain": [
       "  0%|          | 0/22564 [00:00<?, ?it/s]"
      ]
     },
     "metadata": {},
     "output_type": "display_data"
    },
    {
     "name": "stdout",
     "output_type": "stream",
     "text": [
      "\n",
      "Processing complete: (22564, 13)\n",
      "Saved to: C:\\Users\\USER\\PEF\\Terrain-Traversability-Analysis\\adoquin_features\\adoquin_dropOff_2_43_features.csv\n",
      "Completed: adoquin_dropOff_2_43.csv\n",
      "Processing: adoquin_dropOff_2_46.csv\n",
      "Processing 22,575 points with label 'adoquin'...\n"
     ]
    },
    {
     "data": {
      "application/vnd.jupyter.widget-view+json": {
       "model_id": "4dbde48a961042de9b0dec1befb08c86",
       "version_major": 2,
       "version_minor": 0
      },
      "text/plain": [
       "  0%|          | 0/22575 [00:00<?, ?it/s]"
      ]
     },
     "metadata": {},
     "output_type": "display_data"
    },
    {
     "name": "stdout",
     "output_type": "stream",
     "text": [
      "\n",
      "Processing complete: (22575, 13)\n",
      "Saved to: C:\\Users\\USER\\PEF\\Terrain-Traversability-Analysis\\adoquin_features\\adoquin_dropOff_2_46_features.csv\n",
      "Completed: adoquin_dropOff_2_46.csv\n",
      "Processing: adoquin_dropOff_2_49.csv\n",
      "Processing 22,573 points with label 'adoquin'...\n"
     ]
    },
    {
     "data": {
      "application/vnd.jupyter.widget-view+json": {
       "model_id": "008b5fba390e498cbfffd572d64c8aaf",
       "version_major": 2,
       "version_minor": 0
      },
      "text/plain": [
       "  0%|          | 0/22573 [00:00<?, ?it/s]"
      ]
     },
     "metadata": {},
     "output_type": "display_data"
    },
    {
     "name": "stdout",
     "output_type": "stream",
     "text": [
      "\n",
      "Processing complete: (22573, 13)\n",
      "Saved to: C:\\Users\\USER\\PEF\\Terrain-Traversability-Analysis\\adoquin_features\\adoquin_dropOff_2_49_features.csv\n",
      "Completed: adoquin_dropOff_2_49.csv\n",
      "Processing: adoquin_dropOff_2_55.csv\n",
      "Processing 22,565 points with label 'adoquin'...\n"
     ]
    },
    {
     "data": {
      "application/vnd.jupyter.widget-view+json": {
       "model_id": "da27b1a85a6e411091cbf3718c24ea6b",
       "version_major": 2,
       "version_minor": 0
      },
      "text/plain": [
       "  0%|          | 0/22565 [00:00<?, ?it/s]"
      ]
     },
     "metadata": {},
     "output_type": "display_data"
    },
    {
     "name": "stdout",
     "output_type": "stream",
     "text": [
      "\n",
      "Processing complete: (22565, 13)\n",
      "Saved to: C:\\Users\\USER\\PEF\\Terrain-Traversability-Analysis\\adoquin_features\\adoquin_dropOff_2_55_features.csv\n",
      "Completed: adoquin_dropOff_2_55.csv\n",
      "Processing: adoquin_escaleras_pasillocrgs_estacionamiento_10.csv\n",
      "Processing 23,217 points with label 'adoquin'...\n"
     ]
    },
    {
     "data": {
      "application/vnd.jupyter.widget-view+json": {
       "model_id": "f1392e59911246dabb573ee0d71d6346",
       "version_major": 2,
       "version_minor": 0
      },
      "text/plain": [
       "  0%|          | 0/23217 [00:00<?, ?it/s]"
      ]
     },
     "metadata": {},
     "output_type": "display_data"
    },
    {
     "name": "stdout",
     "output_type": "stream",
     "text": [
      "\n",
      "Processing complete: (23217, 13)\n",
      "Saved to: C:\\Users\\USER\\PEF\\Terrain-Traversability-Analysis\\adoquin_features\\adoquin_escaleras_pasillocrgs_estacionamiento_10_features.csv\n",
      "Completed: adoquin_escaleras_pasillocrgs_estacionamiento_10.csv\n",
      "Processing: adoquin_escaleras_pasillocrgs_estacionamiento_16.csv\n",
      "Processing 23,224 points with label 'adoquin'...\n"
     ]
    },
    {
     "data": {
      "application/vnd.jupyter.widget-view+json": {
       "model_id": "28030bd580a340f5b1c6315e16dc27b5",
       "version_major": 2,
       "version_minor": 0
      },
      "text/plain": [
       "  0%|          | 0/23224 [00:00<?, ?it/s]"
      ]
     },
     "metadata": {},
     "output_type": "display_data"
    },
    {
     "name": "stdout",
     "output_type": "stream",
     "text": [
      "\n",
      "Processing complete: (23224, 13)\n",
      "Saved to: C:\\Users\\USER\\PEF\\Terrain-Traversability-Analysis\\adoquin_features\\adoquin_escaleras_pasillocrgs_estacionamiento_16_features.csv\n",
      "Completed: adoquin_escaleras_pasillocrgs_estacionamiento_16.csv\n",
      "Processing: adoquin_escaleras_pasillocrgs_estacionamiento_25.csv\n",
      "Processing 23,231 points with label 'adoquin'...\n"
     ]
    },
    {
     "data": {
      "application/vnd.jupyter.widget-view+json": {
       "model_id": "cf64c5905cc64c7da0c948f4bd42a19c",
       "version_major": 2,
       "version_minor": 0
      },
      "text/plain": [
       "  0%|          | 0/23231 [00:00<?, ?it/s]"
      ]
     },
     "metadata": {},
     "output_type": "display_data"
    },
    {
     "name": "stdout",
     "output_type": "stream",
     "text": [
      "\n",
      "Processing complete: (23231, 13)\n",
      "Saved to: C:\\Users\\USER\\PEF\\Terrain-Traversability-Analysis\\adoquin_features\\adoquin_escaleras_pasillocrgs_estacionamiento_25_features.csv\n",
      "Completed: adoquin_escaleras_pasillocrgs_estacionamiento_25.csv\n",
      "Processing: adoquin_escaleras_pasillocrgs_estacionamiento_32.csv\n",
      "Processing 23,221 points with label 'adoquin'...\n"
     ]
    },
    {
     "data": {
      "application/vnd.jupyter.widget-view+json": {
       "model_id": "20f9c2095b734e6da3dccd6beae91983",
       "version_major": 2,
       "version_minor": 0
      },
      "text/plain": [
       "  0%|          | 0/23221 [00:00<?, ?it/s]"
      ]
     },
     "metadata": {},
     "output_type": "display_data"
    },
    {
     "name": "stdout",
     "output_type": "stream",
     "text": [
      "\n",
      "Processing complete: (23221, 13)\n",
      "Saved to: C:\\Users\\USER\\PEF\\Terrain-Traversability-Analysis\\adoquin_features\\adoquin_escaleras_pasillocrgs_estacionamiento_32_features.csv\n",
      "Completed: adoquin_escaleras_pasillocrgs_estacionamiento_32.csv\n",
      "Processing: adoquin_escaleras_pasillocrgs_estacionamiento_45.csv\n",
      "Processing 23,216 points with label 'adoquin'...\n"
     ]
    },
    {
     "data": {
      "application/vnd.jupyter.widget-view+json": {
       "model_id": "87bc0f237a1c44129531b2308bce9ab5",
       "version_major": 2,
       "version_minor": 0
      },
      "text/plain": [
       "  0%|          | 0/23216 [00:00<?, ?it/s]"
      ]
     },
     "metadata": {},
     "output_type": "display_data"
    },
    {
     "name": "stdout",
     "output_type": "stream",
     "text": [
      "\n",
      "Processing complete: (23216, 13)\n",
      "Saved to: C:\\Users\\USER\\PEF\\Terrain-Traversability-Analysis\\adoquin_features\\adoquin_escaleras_pasillocrgs_estacionamiento_45_features.csv\n",
      "Completed: adoquin_escaleras_pasillocrgs_estacionamiento_45.csv\n",
      "Processing: adoquin_escaleras_pasillocrgs_estacionamiento_5.csv\n",
      "Processing 23,235 points with label 'adoquin'...\n"
     ]
    },
    {
     "data": {
      "application/vnd.jupyter.widget-view+json": {
       "model_id": "d404eaba23cc4c19842a021c5c256a57",
       "version_major": 2,
       "version_minor": 0
      },
      "text/plain": [
       "  0%|          | 0/23235 [00:00<?, ?it/s]"
      ]
     },
     "metadata": {},
     "output_type": "display_data"
    },
    {
     "name": "stdout",
     "output_type": "stream",
     "text": [
      "\n",
      "Processing complete: (23235, 13)\n",
      "Saved to: C:\\Users\\USER\\PEF\\Terrain-Traversability-Analysis\\adoquin_features\\adoquin_escaleras_pasillocrgs_estacionamiento_5_features.csv\n",
      "Completed: adoquin_escaleras_pasillocrgs_estacionamiento_5.csv\n",
      "Processing: adoquin_escaleras_pasillocrgs_estacionamiento_54.csv\n",
      "Processing 23,211 points with label 'adoquin'...\n"
     ]
    },
    {
     "data": {
      "application/vnd.jupyter.widget-view+json": {
       "model_id": "ba40c76eafd9499b8915a3c739c8e70a",
       "version_major": 2,
       "version_minor": 0
      },
      "text/plain": [
       "  0%|          | 0/23211 [00:00<?, ?it/s]"
      ]
     },
     "metadata": {},
     "output_type": "display_data"
    },
    {
     "name": "stdout",
     "output_type": "stream",
     "text": [
      "\n",
      "Processing complete: (23211, 13)\n",
      "Saved to: C:\\Users\\USER\\PEF\\Terrain-Traversability-Analysis\\adoquin_features\\adoquin_escaleras_pasillocrgs_estacionamiento_54_features.csv\n",
      "Completed: adoquin_escaleras_pasillocrgs_estacionamiento_54.csv\n",
      "Processing: adoquin_escaleras_pasillocrgs_estacionamiento_56.csv\n",
      "Processing 23,214 points with label 'adoquin'...\n"
     ]
    },
    {
     "data": {
      "application/vnd.jupyter.widget-view+json": {
       "model_id": "0b290ca22bff43c89a16cf27b879935a",
       "version_major": 2,
       "version_minor": 0
      },
      "text/plain": [
       "  0%|          | 0/23214 [00:00<?, ?it/s]"
      ]
     },
     "metadata": {},
     "output_type": "display_data"
    },
    {
     "name": "stdout",
     "output_type": "stream",
     "text": [
      "\n",
      "Processing complete: (23214, 13)\n",
      "Saved to: C:\\Users\\USER\\PEF\\Terrain-Traversability-Analysis\\adoquin_features\\adoquin_escaleras_pasillocrgs_estacionamiento_56_features.csv\n",
      "Completed: adoquin_escaleras_pasillocrgs_estacionamiento_56.csv\n",
      "Processing: adoquin_escaleras_pasillocrgs_estacionamiento_64.csv\n",
      "Processing 23,208 points with label 'adoquin'...\n"
     ]
    },
    {
     "data": {
      "application/vnd.jupyter.widget-view+json": {
       "model_id": "2b8a259979c842a0a72afcd8d89417ed",
       "version_major": 2,
       "version_minor": 0
      },
      "text/plain": [
       "  0%|          | 0/23208 [00:00<?, ?it/s]"
      ]
     },
     "metadata": {},
     "output_type": "display_data"
    },
    {
     "name": "stdout",
     "output_type": "stream",
     "text": [
      "\n",
      "Processing complete: (23208, 13)\n",
      "Saved to: C:\\Users\\USER\\PEF\\Terrain-Traversability-Analysis\\adoquin_features\\adoquin_escaleras_pasillocrgs_estacionamiento_64_features.csv\n",
      "Completed: adoquin_escaleras_pasillocrgs_estacionamiento_64.csv\n",
      "Processing: adoquin_escaleras_pasillocrgs_estacionamiento_67.csv\n",
      "Processing 23,214 points with label 'adoquin'...\n"
     ]
    },
    {
     "data": {
      "application/vnd.jupyter.widget-view+json": {
       "model_id": "217df8104a714a5d908456c345627d57",
       "version_major": 2,
       "version_minor": 0
      },
      "text/plain": [
       "  0%|          | 0/23214 [00:00<?, ?it/s]"
      ]
     },
     "metadata": {},
     "output_type": "display_data"
    },
    {
     "name": "stdout",
     "output_type": "stream",
     "text": [
      "\n",
      "Processing complete: (23214, 13)\n",
      "Saved to: C:\\Users\\USER\\PEF\\Terrain-Traversability-Analysis\\adoquin_features\\adoquin_escaleras_pasillocrgs_estacionamiento_67_features.csv\n",
      "Completed: adoquin_escaleras_pasillocrgs_estacionamiento_67.csv\n",
      "Processing: adoquin_rectoria_otravez_12.csv\n",
      "Processing 18,915 points with label 'adoquin'...\n"
     ]
    },
    {
     "data": {
      "application/vnd.jupyter.widget-view+json": {
       "model_id": "94c0fa6d526a4f11a73788248ad430aa",
       "version_major": 2,
       "version_minor": 0
      },
      "text/plain": [
       "  0%|          | 0/18915 [00:00<?, ?it/s]"
      ]
     },
     "metadata": {},
     "output_type": "display_data"
    },
    {
     "name": "stdout",
     "output_type": "stream",
     "text": [
      "\n",
      "Processing complete: (18915, 13)\n",
      "Saved to: C:\\Users\\USER\\PEF\\Terrain-Traversability-Analysis\\adoquin_features\\adoquin_rectoria_otravez_12_features.csv\n",
      "Completed: adoquin_rectoria_otravez_12.csv\n",
      "Processing: adoquin_rectoria_otravez_21.csv\n",
      "Processing 18,911 points with label 'adoquin'...\n"
     ]
    },
    {
     "data": {
      "application/vnd.jupyter.widget-view+json": {
       "model_id": "02b83cf6eeca47e6835c8d08098cd89a",
       "version_major": 2,
       "version_minor": 0
      },
      "text/plain": [
       "  0%|          | 0/18911 [00:00<?, ?it/s]"
      ]
     },
     "metadata": {},
     "output_type": "display_data"
    },
    {
     "name": "stdout",
     "output_type": "stream",
     "text": [
      "\n",
      "Processing complete: (18911, 13)\n",
      "Saved to: C:\\Users\\USER\\PEF\\Terrain-Traversability-Analysis\\adoquin_features\\adoquin_rectoria_otravez_21_features.csv\n",
      "Completed: adoquin_rectoria_otravez_21.csv\n",
      "Processing: adoquin_rectoria_otravez_31.csv\n",
      "Processing 18,902 points with label 'adoquin'...\n"
     ]
    },
    {
     "data": {
      "application/vnd.jupyter.widget-view+json": {
       "model_id": "c2e85894f6a048298bec31d7d420315e",
       "version_major": 2,
       "version_minor": 0
      },
      "text/plain": [
       "  0%|          | 0/18902 [00:00<?, ?it/s]"
      ]
     },
     "metadata": {},
     "output_type": "display_data"
    },
    {
     "name": "stdout",
     "output_type": "stream",
     "text": [
      "\n",
      "Processing complete: (18902, 13)\n",
      "Saved to: C:\\Users\\USER\\PEF\\Terrain-Traversability-Analysis\\adoquin_features\\adoquin_rectoria_otravez_31_features.csv\n",
      "Completed: adoquin_rectoria_otravez_31.csv\n",
      "Processing: adoquin_rectoria_otravez_32.csv\n",
      "Processing 18,903 points with label 'adoquin'...\n"
     ]
    },
    {
     "data": {
      "application/vnd.jupyter.widget-view+json": {
       "model_id": "d636e988f1494a0d8c3426ca3ef45f27",
       "version_major": 2,
       "version_minor": 0
      },
      "text/plain": [
       "  0%|          | 0/18903 [00:00<?, ?it/s]"
      ]
     },
     "metadata": {},
     "output_type": "display_data"
    },
    {
     "name": "stdout",
     "output_type": "stream",
     "text": [
      "\n",
      "Processing complete: (18903, 13)\n",
      "Saved to: C:\\Users\\USER\\PEF\\Terrain-Traversability-Analysis\\adoquin_features\\adoquin_rectoria_otravez_32_features.csv\n",
      "Completed: adoquin_rectoria_otravez_32.csv\n",
      "Processing: adoquin_rectoria_otravez_40.csv\n",
      "Processing 18,917 points with label 'adoquin'...\n"
     ]
    },
    {
     "data": {
      "application/vnd.jupyter.widget-view+json": {
       "model_id": "e8684392f0b148faac00f7fbcc766ce0",
       "version_major": 2,
       "version_minor": 0
      },
      "text/plain": [
       "  0%|          | 0/18917 [00:00<?, ?it/s]"
      ]
     },
     "metadata": {},
     "output_type": "display_data"
    },
    {
     "name": "stdout",
     "output_type": "stream",
     "text": [
      "\n",
      "Processing complete: (18917, 13)\n",
      "Saved to: C:\\Users\\USER\\PEF\\Terrain-Traversability-Analysis\\adoquin_features\\adoquin_rectoria_otravez_40_features.csv\n",
      "Completed: adoquin_rectoria_otravez_40.csv\n",
      "Processing: adoquin_rectoria_otravez_50.csv\n",
      "Processing 18,920 points with label 'adoquin'...\n"
     ]
    },
    {
     "data": {
      "application/vnd.jupyter.widget-view+json": {
       "model_id": "c84230b71a7340eda13d48a0b1b214aa",
       "version_major": 2,
       "version_minor": 0
      },
      "text/plain": [
       "  0%|          | 0/18920 [00:00<?, ?it/s]"
      ]
     },
     "metadata": {},
     "output_type": "display_data"
    },
    {
     "name": "stdout",
     "output_type": "stream",
     "text": [
      "\n",
      "Processing complete: (18920, 13)\n",
      "Saved to: C:\\Users\\USER\\PEF\\Terrain-Traversability-Analysis\\adoquin_features\\adoquin_rectoria_otravez_50_features.csv\n",
      "Completed: adoquin_rectoria_otravez_50.csv\n",
      "Processing: adoquin_rectoria_otravez_54.csv\n",
      "Processing 18,895 points with label 'adoquin'...\n"
     ]
    },
    {
     "data": {
      "application/vnd.jupyter.widget-view+json": {
       "model_id": "8cc3dc222a6944859096db0d0c46b7e7",
       "version_major": 2,
       "version_minor": 0
      },
      "text/plain": [
       "  0%|          | 0/18895 [00:00<?, ?it/s]"
      ]
     },
     "metadata": {},
     "output_type": "display_data"
    },
    {
     "name": "stdout",
     "output_type": "stream",
     "text": [
      "\n",
      "Processing complete: (18895, 13)\n",
      "Saved to: C:\\Users\\USER\\PEF\\Terrain-Traversability-Analysis\\adoquin_features\\adoquin_rectoria_otravez_54_features.csv\n",
      "Completed: adoquin_rectoria_otravez_54.csv\n",
      "Processing: adoquin_rectoria_otravez_70.csv\n",
      "Processing 18,920 points with label 'adoquin'...\n"
     ]
    },
    {
     "data": {
      "application/vnd.jupyter.widget-view+json": {
       "model_id": "05126322e43048c994decb2c4f4275aa",
       "version_major": 2,
       "version_minor": 0
      },
      "text/plain": [
       "  0%|          | 0/18920 [00:00<?, ?it/s]"
      ]
     },
     "metadata": {},
     "output_type": "display_data"
    },
    {
     "name": "stdout",
     "output_type": "stream",
     "text": [
      "\n",
      "Processing complete: (18920, 13)\n",
      "Saved to: C:\\Users\\USER\\PEF\\Terrain-Traversability-Analysis\\adoquin_features\\adoquin_rectoria_otravez_70_features.csv\n",
      "Completed: adoquin_rectoria_otravez_70.csv\n",
      "Processing: adoquin_rectoria_otravez_75.csv\n",
      "Processing 18,914 points with label 'adoquin'...\n"
     ]
    },
    {
     "data": {
      "application/vnd.jupyter.widget-view+json": {
       "model_id": "2bad287f2f764930944559664f2a16bc",
       "version_major": 2,
       "version_minor": 0
      },
      "text/plain": [
       "  0%|          | 0/18914 [00:00<?, ?it/s]"
      ]
     },
     "metadata": {},
     "output_type": "display_data"
    },
    {
     "name": "stdout",
     "output_type": "stream",
     "text": [
      "\n",
      "Processing complete: (18914, 13)\n",
      "Saved to: C:\\Users\\USER\\PEF\\Terrain-Traversability-Analysis\\adoquin_features\\adoquin_rectoria_otravez_75_features.csv\n",
      "Completed: adoquin_rectoria_otravez_75.csv\n",
      "Processing: adoquin_rectoria_otravez_9.csv\n",
      "Processing 18,911 points with label 'adoquin'...\n"
     ]
    },
    {
     "data": {
      "application/vnd.jupyter.widget-view+json": {
       "model_id": "9ad128a181b74bcdb90f865ae31be33e",
       "version_major": 2,
       "version_minor": 0
      },
      "text/plain": [
       "  0%|          | 0/18911 [00:00<?, ?it/s]"
      ]
     },
     "metadata": {},
     "output_type": "display_data"
    },
    {
     "name": "stdout",
     "output_type": "stream",
     "text": [
      "\n",
      "Processing complete: (18911, 13)\n",
      "Saved to: C:\\Users\\USER\\PEF\\Terrain-Traversability-Analysis\\adoquin_features\\adoquin_rectoria_otravez_9_features.csv\n",
      "Completed: adoquin_rectoria_otravez_9.csv\n",
      "\n",
      "================================================================================\n",
      "All files processed!\n",
      "Successful: 100/100\n",
      "Failed: 0/100\n",
      "================================================================================\n"
     ]
    }
   ],
   "source": [
    "base_path = r'C:\\Users\\USER\\Downloads\\adoquin'\n",
    "output_base = r'C:\\Users\\USER\\PEF\\Terrain-Traversability-Analysis\\adoquin_features'\n",
    "class_label = 'adoquin'\n",
    "\n",
    "# Create output directory\n",
    "os.makedirs(output_base, exist_ok=True)\n",
    "\n",
    "# Get all CSV files\n",
    "csv_files = glob.glob(os.path.join(base_path, '**', '*.csv'), recursive=True)\n",
    "\n",
    "print(\"=\"*80)\n",
    "print(f\"Found {len(csv_files)} CSV files\")\n",
    "print(\"=\"*80)\n",
    "\n",
    "# Track progress and errors\n",
    "successful = 0\n",
    "failed = 0\n",
    "errors = []\n",
    "\n",
    "for csv_file in tqdm(csv_files, desc=\"Processing files\", unit=\"file\"):\n",
    "    filename = os.path.basename(csv_file)\n",
    "    \n",
    "    # Create output filename\n",
    "    output_filename = filename.replace('.csv', '_features.csv')\n",
    "    output_path = os.path.join(output_base, output_filename)\n",
    "    \n",
    "    # Skip if already processed\n",
    "    if os.path.exists(output_path):\n",
    "        print(f\"Skipping (already exists): {filename}\")\n",
    "        successful += 1\n",
    "        continue\n",
    "    \n",
    "    print(f\"Processing: {filename}\")\n",
    "    \n",
    "    try:\n",
    "        df_features = process_dataframe(csv_file, output_path, class_label)\n",
    "        successful += 1\n",
    "        print(f\"Completed: {filename}\")\n",
    "        \n",
    "        # Free memory after each file\n",
    "        del df_features\n",
    "        gc.collect()\n",
    "        \n",
    "    except Exception as e:\n",
    "        failed += 1\n",
    "        error_msg = f\"{filename}: {str(e)}\"\n",
    "        errors.append(error_msg)\n",
    "        print(f\"Error: {e}\")\n",
    "\n",
    "# Summary\n",
    "print(\"\\n\" + \"=\"*80)\n",
    "print(f\"All files processed!\")\n",
    "print(f\"Successful: {successful}/{len(csv_files)}\")\n",
    "print(f\"Failed: {failed}/{len(csv_files)}\")\n",
    "\n",
    "if errors:\n",
    "    print(\"\\nFailed files:\")\n",
    "    for error in errors:\n",
    "        print(f\"  - {error}\")\n",
    "        \n",
    "print(\"=\"*80)\n",
    "\n",
    "# Save error log if any\n",
    "if errors:\n",
    "    error_log_path = os.path.join(output_base, 'processing_errors.txt')\n",
    "    with open(error_log_path, 'w') as f:\n",
    "        f.write(\"Processing Errors\\n\")\n",
    "        f.write(\"=\"*80 + \"\\n\\n\")\n",
    "        for error in errors:\n",
    "            f.write(f\"{error}\\n\")\n",
    "    print(f\"\\nError log saved to: {error_log_path}\")"
   ]
  },
  {
   "cell_type": "code",
   "execution_count": 2,
   "id": "086901bd",
   "metadata": {},
   "outputs": [
    {
     "name": "stdout",
     "output_type": "stream",
     "text": [
      "================================================================================\n",
      "Found 100 CSV files\n",
      "================================================================================\n"
     ]
    },
    {
     "data": {
      "application/vnd.jupyter.widget-view+json": {
       "model_id": "23d97416bf5e491aaf55f5f34cc99249",
       "version_major": 2,
       "version_minor": 0
      },
      "text/plain": [
       "Processing files:   0%|          | 0/100 [00:00<?, ?file/s]"
      ]
     },
     "metadata": {},
     "output_type": "display_data"
    },
    {
     "name": "stdout",
     "output_type": "stream",
     "text": [
      "Processing: asfalto_estacionamiento_biblio_15.csv\n",
      "Processing 20,941 points with label 'asfalto'...\n"
     ]
    },
    {
     "data": {
      "application/vnd.jupyter.widget-view+json": {
       "model_id": "44c4e5553a9648b4a83fc7091435b481",
       "version_major": 2,
       "version_minor": 0
      },
      "text/plain": [
       "  0%|          | 0/20941 [00:00<?, ?it/s]"
      ]
     },
     "metadata": {},
     "output_type": "display_data"
    },
    {
     "name": "stdout",
     "output_type": "stream",
     "text": [
      "\n",
      "Processing complete: (20941, 13)\n",
      "Saved to: C:\\Users\\USER\\PEF\\Terrain-Traversability-Analysis\\asfalto_features\\asfalto_estacionamiento_biblio_15_features.csv\n",
      "Completed: asfalto_estacionamiento_biblio_15.csv\n",
      "Processing: asfalto_estacionamiento_biblio_24.csv\n",
      "Processing 20,935 points with label 'asfalto'...\n"
     ]
    },
    {
     "data": {
      "application/vnd.jupyter.widget-view+json": {
       "model_id": "5318853872df47cf82fb445d523af01b",
       "version_major": 2,
       "version_minor": 0
      },
      "text/plain": [
       "  0%|          | 0/20935 [00:00<?, ?it/s]"
      ]
     },
     "metadata": {},
     "output_type": "display_data"
    },
    {
     "name": "stdout",
     "output_type": "stream",
     "text": [
      "\n",
      "Processing complete: (20935, 13)\n",
      "Saved to: C:\\Users\\USER\\PEF\\Terrain-Traversability-Analysis\\asfalto_features\\asfalto_estacionamiento_biblio_24_features.csv\n",
      "Completed: asfalto_estacionamiento_biblio_24.csv\n",
      "Processing: asfalto_estacionamiento_biblio_28.csv\n",
      "Processing 20,939 points with label 'asfalto'...\n"
     ]
    },
    {
     "data": {
      "application/vnd.jupyter.widget-view+json": {
       "model_id": "d1f7b3ad02ae4568a88baedbfba4c0cf",
       "version_major": 2,
       "version_minor": 0
      },
      "text/plain": [
       "  0%|          | 0/20939 [00:00<?, ?it/s]"
      ]
     },
     "metadata": {},
     "output_type": "display_data"
    },
    {
     "name": "stdout",
     "output_type": "stream",
     "text": [
      "\n",
      "Processing complete: (20939, 13)\n",
      "Saved to: C:\\Users\\USER\\PEF\\Terrain-Traversability-Analysis\\asfalto_features\\asfalto_estacionamiento_biblio_28_features.csv\n",
      "Completed: asfalto_estacionamiento_biblio_28.csv\n",
      "Processing: asfalto_estacionamiento_biblio_31.csv\n",
      "Processing 20,920 points with label 'asfalto'...\n"
     ]
    },
    {
     "data": {
      "application/vnd.jupyter.widget-view+json": {
       "model_id": "74aae4f68452411292c150deb3377b96",
       "version_major": 2,
       "version_minor": 0
      },
      "text/plain": [
       "  0%|          | 0/20920 [00:00<?, ?it/s]"
      ]
     },
     "metadata": {},
     "output_type": "display_data"
    },
    {
     "name": "stdout",
     "output_type": "stream",
     "text": [
      "\n",
      "Processing complete: (20920, 13)\n",
      "Saved to: C:\\Users\\USER\\PEF\\Terrain-Traversability-Analysis\\asfalto_features\\asfalto_estacionamiento_biblio_31_features.csv\n",
      "Completed: asfalto_estacionamiento_biblio_31.csv\n",
      "Processing: asfalto_estacionamiento_biblio_39.csv\n",
      "Processing 20,937 points with label 'asfalto'...\n"
     ]
    },
    {
     "data": {
      "application/vnd.jupyter.widget-view+json": {
       "model_id": "76d1dc2a00fe421596bccf9db8ddd346",
       "version_major": 2,
       "version_minor": 0
      },
      "text/plain": [
       "  0%|          | 0/20937 [00:00<?, ?it/s]"
      ]
     },
     "metadata": {},
     "output_type": "display_data"
    },
    {
     "name": "stdout",
     "output_type": "stream",
     "text": [
      "\n",
      "Processing complete: (20937, 13)\n",
      "Saved to: C:\\Users\\USER\\PEF\\Terrain-Traversability-Analysis\\asfalto_features\\asfalto_estacionamiento_biblio_39_features.csv\n",
      "Completed: asfalto_estacionamiento_biblio_39.csv\n",
      "Processing: asfalto_estacionamiento_biblio_43.csv\n",
      "Processing 20,924 points with label 'asfalto'...\n"
     ]
    },
    {
     "data": {
      "application/vnd.jupyter.widget-view+json": {
       "model_id": "9b8cdd65d7ec4f2892ad53e4a4ad2eb2",
       "version_major": 2,
       "version_minor": 0
      },
      "text/plain": [
       "  0%|          | 0/20924 [00:00<?, ?it/s]"
      ]
     },
     "metadata": {},
     "output_type": "display_data"
    },
    {
     "name": "stdout",
     "output_type": "stream",
     "text": [
      "\n",
      "Processing complete: (20924, 13)\n",
      "Saved to: C:\\Users\\USER\\PEF\\Terrain-Traversability-Analysis\\asfalto_features\\asfalto_estacionamiento_biblio_43_features.csv\n",
      "Completed: asfalto_estacionamiento_biblio_43.csv\n",
      "Processing: asfalto_estacionamiento_biblio_5.csv\n",
      "Processing 20,943 points with label 'asfalto'...\n"
     ]
    },
    {
     "data": {
      "application/vnd.jupyter.widget-view+json": {
       "model_id": "79ce2066ab164de1a4eb4bde6924eb7e",
       "version_major": 2,
       "version_minor": 0
      },
      "text/plain": [
       "  0%|          | 0/20943 [00:00<?, ?it/s]"
      ]
     },
     "metadata": {},
     "output_type": "display_data"
    },
    {
     "name": "stdout",
     "output_type": "stream",
     "text": [
      "\n",
      "Processing complete: (20943, 13)\n",
      "Saved to: C:\\Users\\USER\\PEF\\Terrain-Traversability-Analysis\\asfalto_features\\asfalto_estacionamiento_biblio_5_features.csv\n",
      "Completed: asfalto_estacionamiento_biblio_5.csv\n",
      "Processing: asfalto_estacionamiento_biblio_57.csv\n",
      "Processing 20,922 points with label 'asfalto'...\n"
     ]
    },
    {
     "data": {
      "application/vnd.jupyter.widget-view+json": {
       "model_id": "ba675b6f51414725a3453e3a2dfd5e15",
       "version_major": 2,
       "version_minor": 0
      },
      "text/plain": [
       "  0%|          | 0/20922 [00:00<?, ?it/s]"
      ]
     },
     "metadata": {},
     "output_type": "display_data"
    },
    {
     "name": "stdout",
     "output_type": "stream",
     "text": [
      "\n",
      "Processing complete: (20922, 13)\n",
      "Saved to: C:\\Users\\USER\\PEF\\Terrain-Traversability-Analysis\\asfalto_features\\asfalto_estacionamiento_biblio_57_features.csv\n",
      "Completed: asfalto_estacionamiento_biblio_57.csv\n",
      "Processing: asfalto_estacionamiento_biblio_61.csv\n",
      "Processing 20,922 points with label 'asfalto'...\n"
     ]
    },
    {
     "data": {
      "application/vnd.jupyter.widget-view+json": {
       "model_id": "28e010dbe6e242f98a33587174604997",
       "version_major": 2,
       "version_minor": 0
      },
      "text/plain": [
       "  0%|          | 0/20922 [00:00<?, ?it/s]"
      ]
     },
     "metadata": {},
     "output_type": "display_data"
    },
    {
     "name": "stdout",
     "output_type": "stream",
     "text": [
      "\n",
      "Processing complete: (20922, 13)\n",
      "Saved to: C:\\Users\\USER\\PEF\\Terrain-Traversability-Analysis\\asfalto_features\\asfalto_estacionamiento_biblio_61_features.csv\n",
      "Completed: asfalto_estacionamiento_biblio_61.csv\n",
      "Processing: asfalto_estacionamiento_biblio_69.csv\n",
      "Processing 20,917 points with label 'asfalto'...\n"
     ]
    },
    {
     "data": {
      "application/vnd.jupyter.widget-view+json": {
       "model_id": "bb46b7f120d14b53b3923d45d9e946e9",
       "version_major": 2,
       "version_minor": 0
      },
      "text/plain": [
       "  0%|          | 0/20917 [00:00<?, ?it/s]"
      ]
     },
     "metadata": {},
     "output_type": "display_data"
    },
    {
     "name": "stdout",
     "output_type": "stream",
     "text": [
      "\n",
      "Processing complete: (20917, 13)\n",
      "Saved to: C:\\Users\\USER\\PEF\\Terrain-Traversability-Analysis\\asfalto_features\\asfalto_estacionamiento_biblio_69_features.csv\n",
      "Completed: asfalto_estacionamiento_biblio_69.csv\n",
      "Processing: asfalto_estacionamiento_biblio_2_24.csv\n",
      "Processing 21,248 points with label 'asfalto'...\n"
     ]
    },
    {
     "data": {
      "application/vnd.jupyter.widget-view+json": {
       "model_id": "647543cde26b4795a5a0ead777268099",
       "version_major": 2,
       "version_minor": 0
      },
      "text/plain": [
       "  0%|          | 0/21248 [00:00<?, ?it/s]"
      ]
     },
     "metadata": {},
     "output_type": "display_data"
    },
    {
     "name": "stdout",
     "output_type": "stream",
     "text": [
      "\n",
      "Processing complete: (21248, 13)\n",
      "Saved to: C:\\Users\\USER\\PEF\\Terrain-Traversability-Analysis\\asfalto_features\\asfalto_estacionamiento_biblio_2_24_features.csv\n",
      "Completed: asfalto_estacionamiento_biblio_2_24.csv\n",
      "Processing: asfalto_estacionamiento_biblio_2_25.csv\n",
      "Processing 21,241 points with label 'asfalto'...\n"
     ]
    },
    {
     "data": {
      "application/vnd.jupyter.widget-view+json": {
       "model_id": "5430964226f648b3887e444b17780e88",
       "version_major": 2,
       "version_minor": 0
      },
      "text/plain": [
       "  0%|          | 0/21241 [00:00<?, ?it/s]"
      ]
     },
     "metadata": {},
     "output_type": "display_data"
    },
    {
     "name": "stdout",
     "output_type": "stream",
     "text": [
      "\n",
      "Processing complete: (21241, 13)\n",
      "Saved to: C:\\Users\\USER\\PEF\\Terrain-Traversability-Analysis\\asfalto_features\\asfalto_estacionamiento_biblio_2_25_features.csv\n",
      "Completed: asfalto_estacionamiento_biblio_2_25.csv\n",
      "Processing: asfalto_estacionamiento_biblio_2_29.csv\n",
      "Processing 21,247 points with label 'asfalto'...\n"
     ]
    },
    {
     "data": {
      "application/vnd.jupyter.widget-view+json": {
       "model_id": "939ce5effa4d423ba727b931b819475f",
       "version_major": 2,
       "version_minor": 0
      },
      "text/plain": [
       "  0%|          | 0/21247 [00:00<?, ?it/s]"
      ]
     },
     "metadata": {},
     "output_type": "display_data"
    },
    {
     "name": "stdout",
     "output_type": "stream",
     "text": [
      "\n",
      "Processing complete: (21247, 13)\n",
      "Saved to: C:\\Users\\USER\\PEF\\Terrain-Traversability-Analysis\\asfalto_features\\asfalto_estacionamiento_biblio_2_29_features.csv\n",
      "Completed: asfalto_estacionamiento_biblio_2_29.csv\n",
      "Processing: asfalto_estacionamiento_biblio_2_3.csv\n",
      "Processing 21,244 points with label 'asfalto'...\n"
     ]
    },
    {
     "data": {
      "application/vnd.jupyter.widget-view+json": {
       "model_id": "6d1266815ca3420eb918a66875469fa9",
       "version_major": 2,
       "version_minor": 0
      },
      "text/plain": [
       "  0%|          | 0/21244 [00:00<?, ?it/s]"
      ]
     },
     "metadata": {},
     "output_type": "display_data"
    },
    {
     "name": "stdout",
     "output_type": "stream",
     "text": [
      "\n",
      "Processing complete: (21244, 13)\n",
      "Saved to: C:\\Users\\USER\\PEF\\Terrain-Traversability-Analysis\\asfalto_features\\asfalto_estacionamiento_biblio_2_3_features.csv\n",
      "Completed: asfalto_estacionamiento_biblio_2_3.csv\n",
      "Processing: asfalto_estacionamiento_biblio_2_31.csv\n",
      "Processing 21,261 points with label 'asfalto'...\n"
     ]
    },
    {
     "data": {
      "application/vnd.jupyter.widget-view+json": {
       "model_id": "8afaa4e1a062427c83fa4bd42007cfc6",
       "version_major": 2,
       "version_minor": 0
      },
      "text/plain": [
       "  0%|          | 0/21261 [00:00<?, ?it/s]"
      ]
     },
     "metadata": {},
     "output_type": "display_data"
    },
    {
     "name": "stdout",
     "output_type": "stream",
     "text": [
      "\n",
      "Processing complete: (21261, 13)\n",
      "Saved to: C:\\Users\\USER\\PEF\\Terrain-Traversability-Analysis\\asfalto_features\\asfalto_estacionamiento_biblio_2_31_features.csv\n",
      "Completed: asfalto_estacionamiento_biblio_2_31.csv\n",
      "Processing: asfalto_estacionamiento_biblio_2_33.csv\n",
      "Processing 21,238 points with label 'asfalto'...\n"
     ]
    },
    {
     "data": {
      "application/vnd.jupyter.widget-view+json": {
       "model_id": "cb87b7c2c8bd46618c1145c9e2bf81b0",
       "version_major": 2,
       "version_minor": 0
      },
      "text/plain": [
       "  0%|          | 0/21238 [00:00<?, ?it/s]"
      ]
     },
     "metadata": {},
     "output_type": "display_data"
    },
    {
     "name": "stdout",
     "output_type": "stream",
     "text": [
      "\n",
      "Processing complete: (21238, 13)\n",
      "Saved to: C:\\Users\\USER\\PEF\\Terrain-Traversability-Analysis\\asfalto_features\\asfalto_estacionamiento_biblio_2_33_features.csv\n",
      "Completed: asfalto_estacionamiento_biblio_2_33.csv\n",
      "Processing: asfalto_estacionamiento_biblio_2_35.csv\n",
      "Processing 21,242 points with label 'asfalto'...\n"
     ]
    },
    {
     "data": {
      "application/vnd.jupyter.widget-view+json": {
       "model_id": "1ab8af4c0915408d969020d3f254f4fe",
       "version_major": 2,
       "version_minor": 0
      },
      "text/plain": [
       "  0%|          | 0/21242 [00:00<?, ?it/s]"
      ]
     },
     "metadata": {},
     "output_type": "display_data"
    },
    {
     "name": "stdout",
     "output_type": "stream",
     "text": [
      "\n",
      "Processing complete: (21242, 13)\n",
      "Saved to: C:\\Users\\USER\\PEF\\Terrain-Traversability-Analysis\\asfalto_features\\asfalto_estacionamiento_biblio_2_35_features.csv\n",
      "Completed: asfalto_estacionamiento_biblio_2_35.csv\n",
      "Processing: asfalto_estacionamiento_biblio_2_62.csv\n",
      "Processing 21,243 points with label 'asfalto'...\n"
     ]
    },
    {
     "data": {
      "application/vnd.jupyter.widget-view+json": {
       "model_id": "81910b13586f429d978bfbbbdda33227",
       "version_major": 2,
       "version_minor": 0
      },
      "text/plain": [
       "  0%|          | 0/21243 [00:00<?, ?it/s]"
      ]
     },
     "metadata": {},
     "output_type": "display_data"
    },
    {
     "name": "stdout",
     "output_type": "stream",
     "text": [
      "\n",
      "Processing complete: (21243, 13)\n",
      "Saved to: C:\\Users\\USER\\PEF\\Terrain-Traversability-Analysis\\asfalto_features\\asfalto_estacionamiento_biblio_2_62_features.csv\n",
      "Completed: asfalto_estacionamiento_biblio_2_62.csv\n",
      "Processing: asfalto_estacionamiento_biblio_2_65.csv\n",
      "Processing 21,229 points with label 'asfalto'...\n"
     ]
    },
    {
     "data": {
      "application/vnd.jupyter.widget-view+json": {
       "model_id": "9be3e213435f4c9788985045499a2283",
       "version_major": 2,
       "version_minor": 0
      },
      "text/plain": [
       "  0%|          | 0/21229 [00:00<?, ?it/s]"
      ]
     },
     "metadata": {},
     "output_type": "display_data"
    },
    {
     "name": "stdout",
     "output_type": "stream",
     "text": [
      "\n",
      "Processing complete: (21229, 13)\n",
      "Saved to: C:\\Users\\USER\\PEF\\Terrain-Traversability-Analysis\\asfalto_features\\asfalto_estacionamiento_biblio_2_65_features.csv\n",
      "Completed: asfalto_estacionamiento_biblio_2_65.csv\n",
      "Processing: asfalto_estacionamiento_biblio_2_7.csv\n",
      "Processing 21,238 points with label 'asfalto'...\n"
     ]
    },
    {
     "data": {
      "application/vnd.jupyter.widget-view+json": {
       "model_id": "05e038a6b9324632a4076e08b7152cdd",
       "version_major": 2,
       "version_minor": 0
      },
      "text/plain": [
       "  0%|          | 0/21238 [00:00<?, ?it/s]"
      ]
     },
     "metadata": {},
     "output_type": "display_data"
    },
    {
     "name": "stdout",
     "output_type": "stream",
     "text": [
      "\n",
      "Processing complete: (21238, 13)\n",
      "Saved to: C:\\Users\\USER\\PEF\\Terrain-Traversability-Analysis\\asfalto_features\\asfalto_estacionamiento_biblio_2_7_features.csv\n",
      "Completed: asfalto_estacionamiento_biblio_2_7.csv\n",
      "Processing: asfalto_estacionamiento_canchafutbol_22.csv\n",
      "Processing 19,997 points with label 'asfalto'...\n"
     ]
    },
    {
     "data": {
      "application/vnd.jupyter.widget-view+json": {
       "model_id": "ab8ec365025747459f24af7b5af4f036",
       "version_major": 2,
       "version_minor": 0
      },
      "text/plain": [
       "  0%|          | 0/19997 [00:00<?, ?it/s]"
      ]
     },
     "metadata": {},
     "output_type": "display_data"
    },
    {
     "name": "stdout",
     "output_type": "stream",
     "text": [
      "\n",
      "Processing complete: (19997, 13)\n",
      "Saved to: C:\\Users\\USER\\PEF\\Terrain-Traversability-Analysis\\asfalto_features\\asfalto_estacionamiento_canchafutbol_22_features.csv\n",
      "Completed: asfalto_estacionamiento_canchafutbol_22.csv\n",
      "Processing: asfalto_estacionamiento_canchafutbol_29.csv\n",
      "Processing 20,002 points with label 'asfalto'...\n"
     ]
    },
    {
     "data": {
      "application/vnd.jupyter.widget-view+json": {
       "model_id": "0ad707a15c6f4b71958922cd91e4b2c1",
       "version_major": 2,
       "version_minor": 0
      },
      "text/plain": [
       "  0%|          | 0/20002 [00:00<?, ?it/s]"
      ]
     },
     "metadata": {},
     "output_type": "display_data"
    },
    {
     "name": "stdout",
     "output_type": "stream",
     "text": [
      "\n",
      "Processing complete: (20002, 13)\n",
      "Saved to: C:\\Users\\USER\\PEF\\Terrain-Traversability-Analysis\\asfalto_features\\asfalto_estacionamiento_canchafutbol_29_features.csv\n",
      "Completed: asfalto_estacionamiento_canchafutbol_29.csv\n",
      "Processing: asfalto_estacionamiento_canchafutbol_38.csv\n",
      "Processing 19,997 points with label 'asfalto'...\n"
     ]
    },
    {
     "data": {
      "application/vnd.jupyter.widget-view+json": {
       "model_id": "ae02853599ef40e1aa5f08aeb22cde1a",
       "version_major": 2,
       "version_minor": 0
      },
      "text/plain": [
       "  0%|          | 0/19997 [00:00<?, ?it/s]"
      ]
     },
     "metadata": {},
     "output_type": "display_data"
    },
    {
     "name": "stdout",
     "output_type": "stream",
     "text": [
      "\n",
      "Processing complete: (19997, 13)\n",
      "Saved to: C:\\Users\\USER\\PEF\\Terrain-Traversability-Analysis\\asfalto_features\\asfalto_estacionamiento_canchafutbol_38_features.csv\n",
      "Completed: asfalto_estacionamiento_canchafutbol_38.csv\n",
      "Processing: asfalto_estacionamiento_canchafutbol_42.csv\n",
      "Processing 19,998 points with label 'asfalto'...\n"
     ]
    },
    {
     "data": {
      "application/vnd.jupyter.widget-view+json": {
       "model_id": "d02cf27fc0224a04ae2afef53a71fa8f",
       "version_major": 2,
       "version_minor": 0
      },
      "text/plain": [
       "  0%|          | 0/19998 [00:00<?, ?it/s]"
      ]
     },
     "metadata": {},
     "output_type": "display_data"
    },
    {
     "name": "stdout",
     "output_type": "stream",
     "text": [
      "\n",
      "Processing complete: (19998, 13)\n",
      "Saved to: C:\\Users\\USER\\PEF\\Terrain-Traversability-Analysis\\asfalto_features\\asfalto_estacionamiento_canchafutbol_42_features.csv\n",
      "Completed: asfalto_estacionamiento_canchafutbol_42.csv\n",
      "Processing: asfalto_estacionamiento_canchafutbol_49.csv\n",
      "Processing 19,985 points with label 'asfalto'...\n"
     ]
    },
    {
     "data": {
      "application/vnd.jupyter.widget-view+json": {
       "model_id": "95c91e5bdf3344fda29ca1698cf2184b",
       "version_major": 2,
       "version_minor": 0
      },
      "text/plain": [
       "  0%|          | 0/19985 [00:00<?, ?it/s]"
      ]
     },
     "metadata": {},
     "output_type": "display_data"
    },
    {
     "name": "stdout",
     "output_type": "stream",
     "text": [
      "\n",
      "Processing complete: (19985, 13)\n",
      "Saved to: C:\\Users\\USER\\PEF\\Terrain-Traversability-Analysis\\asfalto_features\\asfalto_estacionamiento_canchafutbol_49_features.csv\n",
      "Completed: asfalto_estacionamiento_canchafutbol_49.csv\n",
      "Processing: asfalto_estacionamiento_canchafutbol_55.csv\n",
      "Processing 19,996 points with label 'asfalto'...\n"
     ]
    },
    {
     "data": {
      "application/vnd.jupyter.widget-view+json": {
       "model_id": "41c1fabeede946f59c83af8adec16eac",
       "version_major": 2,
       "version_minor": 0
      },
      "text/plain": [
       "  0%|          | 0/19996 [00:00<?, ?it/s]"
      ]
     },
     "metadata": {},
     "output_type": "display_data"
    },
    {
     "name": "stdout",
     "output_type": "stream",
     "text": [
      "\n",
      "Processing complete: (19996, 13)\n",
      "Saved to: C:\\Users\\USER\\PEF\\Terrain-Traversability-Analysis\\asfalto_features\\asfalto_estacionamiento_canchafutbol_55_features.csv\n",
      "Completed: asfalto_estacionamiento_canchafutbol_55.csv\n",
      "Processing: asfalto_estacionamiento_canchafutbol_60.csv\n",
      "Processing 19,998 points with label 'asfalto'...\n"
     ]
    },
    {
     "data": {
      "application/vnd.jupyter.widget-view+json": {
       "model_id": "e63107efe67f41dc8fc953fa1356bbdb",
       "version_major": 2,
       "version_minor": 0
      },
      "text/plain": [
       "  0%|          | 0/19998 [00:00<?, ?it/s]"
      ]
     },
     "metadata": {},
     "output_type": "display_data"
    },
    {
     "name": "stdout",
     "output_type": "stream",
     "text": [
      "\n",
      "Processing complete: (19998, 13)\n",
      "Saved to: C:\\Users\\USER\\PEF\\Terrain-Traversability-Analysis\\asfalto_features\\asfalto_estacionamiento_canchafutbol_60_features.csv\n",
      "Completed: asfalto_estacionamiento_canchafutbol_60.csv\n",
      "Processing: asfalto_estacionamiento_canchafutbol_64.csv\n",
      "Processing 19,990 points with label 'asfalto'...\n"
     ]
    },
    {
     "data": {
      "application/vnd.jupyter.widget-view+json": {
       "model_id": "f0000bd7b8654c7ab7c316ca9f053416",
       "version_major": 2,
       "version_minor": 0
      },
      "text/plain": [
       "  0%|          | 0/19990 [00:00<?, ?it/s]"
      ]
     },
     "metadata": {},
     "output_type": "display_data"
    },
    {
     "name": "stdout",
     "output_type": "stream",
     "text": [
      "\n",
      "Processing complete: (19990, 13)\n",
      "Saved to: C:\\Users\\USER\\PEF\\Terrain-Traversability-Analysis\\asfalto_features\\asfalto_estacionamiento_canchafutbol_64_features.csv\n",
      "Completed: asfalto_estacionamiento_canchafutbol_64.csv\n",
      "Processing: asfalto_estacionamiento_canchafutbol_69.csv\n",
      "Processing 19,981 points with label 'asfalto'...\n"
     ]
    },
    {
     "data": {
      "application/vnd.jupyter.widget-view+json": {
       "model_id": "8d88f3a793194a5e8147c5c000f6f981",
       "version_major": 2,
       "version_minor": 0
      },
      "text/plain": [
       "  0%|          | 0/19981 [00:00<?, ?it/s]"
      ]
     },
     "metadata": {},
     "output_type": "display_data"
    },
    {
     "name": "stdout",
     "output_type": "stream",
     "text": [
      "\n",
      "Processing complete: (19981, 13)\n",
      "Saved to: C:\\Users\\USER\\PEF\\Terrain-Traversability-Analysis\\asfalto_features\\asfalto_estacionamiento_canchafutbol_69_features.csv\n",
      "Completed: asfalto_estacionamiento_canchafutbol_69.csv\n",
      "Processing: asfalto_estacionamiento_canchafutbol_8.csv\n",
      "Processing 19,993 points with label 'asfalto'...\n"
     ]
    },
    {
     "data": {
      "application/vnd.jupyter.widget-view+json": {
       "model_id": "c5909d0346334113a470b3b6c567619b",
       "version_major": 2,
       "version_minor": 0
      },
      "text/plain": [
       "  0%|          | 0/19993 [00:00<?, ?it/s]"
      ]
     },
     "metadata": {},
     "output_type": "display_data"
    },
    {
     "name": "stdout",
     "output_type": "stream",
     "text": [
      "\n",
      "Processing complete: (19993, 13)\n",
      "Saved to: C:\\Users\\USER\\PEF\\Terrain-Traversability-Analysis\\asfalto_features\\asfalto_estacionamiento_canchafutbol_8_features.csv\n",
      "Completed: asfalto_estacionamiento_canchafutbol_8.csv\n",
      "Processing: asfalto_estacionamiento_garajes_17.csv\n",
      "Processing 20,933 points with label 'asfalto'...\n"
     ]
    },
    {
     "data": {
      "application/vnd.jupyter.widget-view+json": {
       "model_id": "0522a54a42074f1a856f41640d30c58c",
       "version_major": 2,
       "version_minor": 0
      },
      "text/plain": [
       "  0%|          | 0/20933 [00:00<?, ?it/s]"
      ]
     },
     "metadata": {},
     "output_type": "display_data"
    },
    {
     "name": "stdout",
     "output_type": "stream",
     "text": [
      "\n",
      "Processing complete: (20933, 13)\n",
      "Saved to: C:\\Users\\USER\\PEF\\Terrain-Traversability-Analysis\\asfalto_features\\asfalto_estacionamiento_garajes_17_features.csv\n",
      "Completed: asfalto_estacionamiento_garajes_17.csv\n",
      "Processing: asfalto_estacionamiento_garajes_28.csv\n",
      "Processing 20,927 points with label 'asfalto'...\n"
     ]
    },
    {
     "data": {
      "application/vnd.jupyter.widget-view+json": {
       "model_id": "7c693fccd4694d43b49057ff6c377279",
       "version_major": 2,
       "version_minor": 0
      },
      "text/plain": [
       "  0%|          | 0/20927 [00:00<?, ?it/s]"
      ]
     },
     "metadata": {},
     "output_type": "display_data"
    },
    {
     "name": "stdout",
     "output_type": "stream",
     "text": [
      "\n",
      "Processing complete: (20927, 13)\n",
      "Saved to: C:\\Users\\USER\\PEF\\Terrain-Traversability-Analysis\\asfalto_features\\asfalto_estacionamiento_garajes_28_features.csv\n",
      "Completed: asfalto_estacionamiento_garajes_28.csv\n",
      "Processing: asfalto_estacionamiento_garajes_33.csv\n",
      "Processing 20,900 points with label 'asfalto'...\n"
     ]
    },
    {
     "data": {
      "application/vnd.jupyter.widget-view+json": {
       "model_id": "40959e3833a840a6b02b053b1f66cdd7",
       "version_major": 2,
       "version_minor": 0
      },
      "text/plain": [
       "  0%|          | 0/20900 [00:00<?, ?it/s]"
      ]
     },
     "metadata": {},
     "output_type": "display_data"
    },
    {
     "name": "stdout",
     "output_type": "stream",
     "text": [
      "\n",
      "Processing complete: (20900, 13)\n",
      "Saved to: C:\\Users\\USER\\PEF\\Terrain-Traversability-Analysis\\asfalto_features\\asfalto_estacionamiento_garajes_33_features.csv\n",
      "Completed: asfalto_estacionamiento_garajes_33.csv\n",
      "Processing: asfalto_estacionamiento_garajes_40.csv\n",
      "Processing 20,929 points with label 'asfalto'...\n"
     ]
    },
    {
     "data": {
      "application/vnd.jupyter.widget-view+json": {
       "model_id": "5087d4a915a44902a6a96670255c07e7",
       "version_major": 2,
       "version_minor": 0
      },
      "text/plain": [
       "  0%|          | 0/20929 [00:00<?, ?it/s]"
      ]
     },
     "metadata": {},
     "output_type": "display_data"
    },
    {
     "name": "stdout",
     "output_type": "stream",
     "text": [
      "\n",
      "Processing complete: (20929, 13)\n",
      "Saved to: C:\\Users\\USER\\PEF\\Terrain-Traversability-Analysis\\asfalto_features\\asfalto_estacionamiento_garajes_40_features.csv\n",
      "Completed: asfalto_estacionamiento_garajes_40.csv\n",
      "Processing: asfalto_estacionamiento_garajes_41.csv\n",
      "Processing 20,916 points with label 'asfalto'...\n"
     ]
    },
    {
     "data": {
      "application/vnd.jupyter.widget-view+json": {
       "model_id": "8e859d129757419a86afda8949363030",
       "version_major": 2,
       "version_minor": 0
      },
      "text/plain": [
       "  0%|          | 0/20916 [00:00<?, ?it/s]"
      ]
     },
     "metadata": {},
     "output_type": "display_data"
    },
    {
     "name": "stdout",
     "output_type": "stream",
     "text": [
      "\n",
      "Processing complete: (20916, 13)\n",
      "Saved to: C:\\Users\\USER\\PEF\\Terrain-Traversability-Analysis\\asfalto_features\\asfalto_estacionamiento_garajes_41_features.csv\n",
      "Completed: asfalto_estacionamiento_garajes_41.csv\n",
      "Processing: asfalto_estacionamiento_garajes_42.csv\n",
      "Processing 20,924 points with label 'asfalto'...\n"
     ]
    },
    {
     "data": {
      "application/vnd.jupyter.widget-view+json": {
       "model_id": "6c4fadfc60414bf09eed35a851afb507",
       "version_major": 2,
       "version_minor": 0
      },
      "text/plain": [
       "  0%|          | 0/20924 [00:00<?, ?it/s]"
      ]
     },
     "metadata": {},
     "output_type": "display_data"
    },
    {
     "name": "stdout",
     "output_type": "stream",
     "text": [
      "\n",
      "Processing complete: (20924, 13)\n",
      "Saved to: C:\\Users\\USER\\PEF\\Terrain-Traversability-Analysis\\asfalto_features\\asfalto_estacionamiento_garajes_42_features.csv\n",
      "Completed: asfalto_estacionamiento_garajes_42.csv\n",
      "Processing: asfalto_estacionamiento_garajes_53.csv\n",
      "Processing 20,919 points with label 'asfalto'...\n"
     ]
    },
    {
     "data": {
      "application/vnd.jupyter.widget-view+json": {
       "model_id": "e597c0f250d14784ba52e9e0ce1c3260",
       "version_major": 2,
       "version_minor": 0
      },
      "text/plain": [
       "  0%|          | 0/20919 [00:00<?, ?it/s]"
      ]
     },
     "metadata": {},
     "output_type": "display_data"
    },
    {
     "name": "stdout",
     "output_type": "stream",
     "text": [
      "\n",
      "Processing complete: (20919, 13)\n",
      "Saved to: C:\\Users\\USER\\PEF\\Terrain-Traversability-Analysis\\asfalto_features\\asfalto_estacionamiento_garajes_53_features.csv\n",
      "Completed: asfalto_estacionamiento_garajes_53.csv\n",
      "Processing: asfalto_estacionamiento_garajes_57.csv\n",
      "Processing 20,908 points with label 'asfalto'...\n"
     ]
    },
    {
     "data": {
      "application/vnd.jupyter.widget-view+json": {
       "model_id": "69816414ef8f4c828d890b5ecd2452ef",
       "version_major": 2,
       "version_minor": 0
      },
      "text/plain": [
       "  0%|          | 0/20908 [00:00<?, ?it/s]"
      ]
     },
     "metadata": {},
     "output_type": "display_data"
    },
    {
     "name": "stdout",
     "output_type": "stream",
     "text": [
      "\n",
      "Processing complete: (20908, 13)\n",
      "Saved to: C:\\Users\\USER\\PEF\\Terrain-Traversability-Analysis\\asfalto_features\\asfalto_estacionamiento_garajes_57_features.csv\n",
      "Completed: asfalto_estacionamiento_garajes_57.csv\n",
      "Processing: asfalto_estacionamiento_garajes_58.csv\n",
      "Processing 20,906 points with label 'asfalto'...\n"
     ]
    },
    {
     "data": {
      "application/vnd.jupyter.widget-view+json": {
       "model_id": "42de0101ae3a419bb1361f23273887eb",
       "version_major": 2,
       "version_minor": 0
      },
      "text/plain": [
       "  0%|          | 0/20906 [00:00<?, ?it/s]"
      ]
     },
     "metadata": {},
     "output_type": "display_data"
    },
    {
     "name": "stdout",
     "output_type": "stream",
     "text": [
      "\n",
      "Processing complete: (20906, 13)\n",
      "Saved to: C:\\Users\\USER\\PEF\\Terrain-Traversability-Analysis\\asfalto_features\\asfalto_estacionamiento_garajes_58_features.csv\n",
      "Completed: asfalto_estacionamiento_garajes_58.csv\n",
      "Processing: asfalto_estacionamiento_garajes_70.csv\n",
      "Processing 20,909 points with label 'asfalto'...\n"
     ]
    },
    {
     "data": {
      "application/vnd.jupyter.widget-view+json": {
       "model_id": "a0241da52f6443d98783cbfad6e2033b",
       "version_major": 2,
       "version_minor": 0
      },
      "text/plain": [
       "  0%|          | 0/20909 [00:00<?, ?it/s]"
      ]
     },
     "metadata": {},
     "output_type": "display_data"
    },
    {
     "name": "stdout",
     "output_type": "stream",
     "text": [
      "\n",
      "Processing complete: (20909, 13)\n",
      "Saved to: C:\\Users\\USER\\PEF\\Terrain-Traversability-Analysis\\asfalto_features\\asfalto_estacionamiento_garajes_70_features.csv\n",
      "Completed: asfalto_estacionamiento_garajes_70.csv\n",
      "Processing: asfalto_estacionamiento_profes_0.csv\n",
      "Processing 22,726 points with label 'asfalto'...\n"
     ]
    },
    {
     "data": {
      "application/vnd.jupyter.widget-view+json": {
       "model_id": "9ed938abe88c4789a20012214657e374",
       "version_major": 2,
       "version_minor": 0
      },
      "text/plain": [
       "  0%|          | 0/22726 [00:00<?, ?it/s]"
      ]
     },
     "metadata": {},
     "output_type": "display_data"
    },
    {
     "name": "stdout",
     "output_type": "stream",
     "text": [
      "\n",
      "Processing complete: (22726, 13)\n",
      "Saved to: C:\\Users\\USER\\PEF\\Terrain-Traversability-Analysis\\asfalto_features\\asfalto_estacionamiento_profes_0_features.csv\n",
      "Completed: asfalto_estacionamiento_profes_0.csv\n",
      "Processing: asfalto_estacionamiento_profes_11.csv\n",
      "Processing 22,726 points with label 'asfalto'...\n"
     ]
    },
    {
     "data": {
      "application/vnd.jupyter.widget-view+json": {
       "model_id": "c647504c8e284119b95deb7ab011ba56",
       "version_major": 2,
       "version_minor": 0
      },
      "text/plain": [
       "  0%|          | 0/22726 [00:00<?, ?it/s]"
      ]
     },
     "metadata": {},
     "output_type": "display_data"
    },
    {
     "name": "stdout",
     "output_type": "stream",
     "text": [
      "\n",
      "Processing complete: (22726, 13)\n",
      "Saved to: C:\\Users\\USER\\PEF\\Terrain-Traversability-Analysis\\asfalto_features\\asfalto_estacionamiento_profes_11_features.csv\n",
      "Completed: asfalto_estacionamiento_profes_11.csv\n",
      "Processing: asfalto_estacionamiento_profes_22.csv\n",
      "Processing 22,715 points with label 'asfalto'...\n"
     ]
    },
    {
     "data": {
      "application/vnd.jupyter.widget-view+json": {
       "model_id": "bb53a9cb37eb42138c8df94df62c7578",
       "version_major": 2,
       "version_minor": 0
      },
      "text/plain": [
       "  0%|          | 0/22715 [00:00<?, ?it/s]"
      ]
     },
     "metadata": {},
     "output_type": "display_data"
    },
    {
     "name": "stdout",
     "output_type": "stream",
     "text": [
      "\n",
      "Processing complete: (22715, 13)\n",
      "Saved to: C:\\Users\\USER\\PEF\\Terrain-Traversability-Analysis\\asfalto_features\\asfalto_estacionamiento_profes_22_features.csv\n",
      "Completed: asfalto_estacionamiento_profes_22.csv\n",
      "Processing: asfalto_estacionamiento_profes_32.csv\n",
      "Processing 22,697 points with label 'asfalto'...\n"
     ]
    },
    {
     "data": {
      "application/vnd.jupyter.widget-view+json": {
       "model_id": "2e4ac03e5cd44427ae7d4523ad9f548e",
       "version_major": 2,
       "version_minor": 0
      },
      "text/plain": [
       "  0%|          | 0/22697 [00:00<?, ?it/s]"
      ]
     },
     "metadata": {},
     "output_type": "display_data"
    },
    {
     "name": "stdout",
     "output_type": "stream",
     "text": [
      "\n",
      "Processing complete: (22697, 13)\n",
      "Saved to: C:\\Users\\USER\\PEF\\Terrain-Traversability-Analysis\\asfalto_features\\asfalto_estacionamiento_profes_32_features.csv\n",
      "Completed: asfalto_estacionamiento_profes_32.csv\n",
      "Processing: asfalto_estacionamiento_profes_34.csv\n",
      "Processing 22,719 points with label 'asfalto'...\n"
     ]
    },
    {
     "data": {
      "application/vnd.jupyter.widget-view+json": {
       "model_id": "da323b73a8464af58d493ea557bfbe99",
       "version_major": 2,
       "version_minor": 0
      },
      "text/plain": [
       "  0%|          | 0/22719 [00:00<?, ?it/s]"
      ]
     },
     "metadata": {},
     "output_type": "display_data"
    },
    {
     "name": "stdout",
     "output_type": "stream",
     "text": [
      "\n",
      "Processing complete: (22719, 13)\n",
      "Saved to: C:\\Users\\USER\\PEF\\Terrain-Traversability-Analysis\\asfalto_features\\asfalto_estacionamiento_profes_34_features.csv\n",
      "Completed: asfalto_estacionamiento_profes_34.csv\n",
      "Processing: asfalto_estacionamiento_profes_41.csv\n",
      "Processing 22,720 points with label 'asfalto'...\n"
     ]
    },
    {
     "data": {
      "application/vnd.jupyter.widget-view+json": {
       "model_id": "3f3f0c846f1a4c71a6b94eea7483f192",
       "version_major": 2,
       "version_minor": 0
      },
      "text/plain": [
       "  0%|          | 0/22720 [00:00<?, ?it/s]"
      ]
     },
     "metadata": {},
     "output_type": "display_data"
    },
    {
     "name": "stdout",
     "output_type": "stream",
     "text": [
      "\n",
      "Processing complete: (22720, 13)\n",
      "Saved to: C:\\Users\\USER\\PEF\\Terrain-Traversability-Analysis\\asfalto_features\\asfalto_estacionamiento_profes_41_features.csv\n",
      "Completed: asfalto_estacionamiento_profes_41.csv\n",
      "Processing: asfalto_estacionamiento_profes_5.csv\n",
      "Processing 22,711 points with label 'asfalto'...\n"
     ]
    },
    {
     "data": {
      "application/vnd.jupyter.widget-view+json": {
       "model_id": "9a6b40750ca84b66806bd92bb00d4173",
       "version_major": 2,
       "version_minor": 0
      },
      "text/plain": [
       "  0%|          | 0/22711 [00:00<?, ?it/s]"
      ]
     },
     "metadata": {},
     "output_type": "display_data"
    },
    {
     "name": "stdout",
     "output_type": "stream",
     "text": [
      "\n",
      "Processing complete: (22711, 13)\n",
      "Saved to: C:\\Users\\USER\\PEF\\Terrain-Traversability-Analysis\\asfalto_features\\asfalto_estacionamiento_profes_5_features.csv\n",
      "Completed: asfalto_estacionamiento_profes_5.csv\n",
      "Processing: asfalto_estacionamiento_profes_56.csv\n",
      "Processing 22,704 points with label 'asfalto'...\n"
     ]
    },
    {
     "data": {
      "application/vnd.jupyter.widget-view+json": {
       "model_id": "8d22d39f0ed5483f8b163bf39d7fcf83",
       "version_major": 2,
       "version_minor": 0
      },
      "text/plain": [
       "  0%|          | 0/22704 [00:00<?, ?it/s]"
      ]
     },
     "metadata": {},
     "output_type": "display_data"
    },
    {
     "name": "stdout",
     "output_type": "stream",
     "text": [
      "\n",
      "Processing complete: (22704, 13)\n",
      "Saved to: C:\\Users\\USER\\PEF\\Terrain-Traversability-Analysis\\asfalto_features\\asfalto_estacionamiento_profes_56_features.csv\n",
      "Completed: asfalto_estacionamiento_profes_56.csv\n",
      "Processing: asfalto_estacionamiento_profes_61.csv\n",
      "Processing 22,713 points with label 'asfalto'...\n"
     ]
    },
    {
     "data": {
      "application/vnd.jupyter.widget-view+json": {
       "model_id": "0107606654954400a109d0a59d3ff347",
       "version_major": 2,
       "version_minor": 0
      },
      "text/plain": [
       "  0%|          | 0/22713 [00:00<?, ?it/s]"
      ]
     },
     "metadata": {},
     "output_type": "display_data"
    },
    {
     "name": "stdout",
     "output_type": "stream",
     "text": [
      "\n",
      "Processing complete: (22713, 13)\n",
      "Saved to: C:\\Users\\USER\\PEF\\Terrain-Traversability-Analysis\\asfalto_features\\asfalto_estacionamiento_profes_61_features.csv\n",
      "Completed: asfalto_estacionamiento_profes_61.csv\n",
      "Processing: asfalto_estacionamiento_profes_9.csv\n",
      "Processing 22,721 points with label 'asfalto'...\n"
     ]
    },
    {
     "data": {
      "application/vnd.jupyter.widget-view+json": {
       "model_id": "174f27ed514240019750334881bec9ec",
       "version_major": 2,
       "version_minor": 0
      },
      "text/plain": [
       "  0%|          | 0/22721 [00:00<?, ?it/s]"
      ]
     },
     "metadata": {},
     "output_type": "display_data"
    },
    {
     "name": "stdout",
     "output_type": "stream",
     "text": [
      "\n",
      "Processing complete: (22721, 13)\n",
      "Saved to: C:\\Users\\USER\\PEF\\Terrain-Traversability-Analysis\\asfalto_features\\asfalto_estacionamiento_profes_9_features.csv\n",
      "Completed: asfalto_estacionamiento_profes_9.csv\n",
      "Processing: asfalto_estacionamiento_profes_2_0.csv\n",
      "Processing 23,074 points with label 'asfalto'...\n"
     ]
    },
    {
     "data": {
      "application/vnd.jupyter.widget-view+json": {
       "model_id": "222db0372c7a4863a97da2c4e1124265",
       "version_major": 2,
       "version_minor": 0
      },
      "text/plain": [
       "  0%|          | 0/23074 [00:00<?, ?it/s]"
      ]
     },
     "metadata": {},
     "output_type": "display_data"
    },
    {
     "name": "stdout",
     "output_type": "stream",
     "text": [
      "\n",
      "Processing complete: (23074, 13)\n",
      "Saved to: C:\\Users\\USER\\PEF\\Terrain-Traversability-Analysis\\asfalto_features\\asfalto_estacionamiento_profes_2_0_features.csv\n",
      "Completed: asfalto_estacionamiento_profes_2_0.csv\n",
      "Processing: asfalto_estacionamiento_profes_2_10.csv\n",
      "Processing 23,070 points with label 'asfalto'...\n"
     ]
    },
    {
     "data": {
      "application/vnd.jupyter.widget-view+json": {
       "model_id": "ae8fbff51fff40d198ca736f95dc9004",
       "version_major": 2,
       "version_minor": 0
      },
      "text/plain": [
       "  0%|          | 0/23070 [00:00<?, ?it/s]"
      ]
     },
     "metadata": {},
     "output_type": "display_data"
    },
    {
     "name": "stdout",
     "output_type": "stream",
     "text": [
      "\n",
      "Processing complete: (23070, 13)\n",
      "Saved to: C:\\Users\\USER\\PEF\\Terrain-Traversability-Analysis\\asfalto_features\\asfalto_estacionamiento_profes_2_10_features.csv\n",
      "Completed: asfalto_estacionamiento_profes_2_10.csv\n",
      "Processing: asfalto_estacionamiento_profes_2_17.csv\n",
      "Processing 23,071 points with label 'asfalto'...\n"
     ]
    },
    {
     "data": {
      "application/vnd.jupyter.widget-view+json": {
       "model_id": "d6152ade7dbf4431ab59c1101f5220bb",
       "version_major": 2,
       "version_minor": 0
      },
      "text/plain": [
       "  0%|          | 0/23071 [00:00<?, ?it/s]"
      ]
     },
     "metadata": {},
     "output_type": "display_data"
    },
    {
     "name": "stdout",
     "output_type": "stream",
     "text": [
      "\n",
      "Processing complete: (23071, 13)\n",
      "Saved to: C:\\Users\\USER\\PEF\\Terrain-Traversability-Analysis\\asfalto_features\\asfalto_estacionamiento_profes_2_17_features.csv\n",
      "Completed: asfalto_estacionamiento_profes_2_17.csv\n",
      "Processing: asfalto_estacionamiento_profes_2_44.csv\n",
      "Processing 23,069 points with label 'asfalto'...\n"
     ]
    },
    {
     "data": {
      "application/vnd.jupyter.widget-view+json": {
       "model_id": "8f2aab5ae4e24bb5a4fe31d7dc89c6dd",
       "version_major": 2,
       "version_minor": 0
      },
      "text/plain": [
       "  0%|          | 0/23069 [00:00<?, ?it/s]"
      ]
     },
     "metadata": {},
     "output_type": "display_data"
    },
    {
     "name": "stdout",
     "output_type": "stream",
     "text": [
      "\n",
      "Processing complete: (23069, 13)\n",
      "Saved to: C:\\Users\\USER\\PEF\\Terrain-Traversability-Analysis\\asfalto_features\\asfalto_estacionamiento_profes_2_44_features.csv\n",
      "Completed: asfalto_estacionamiento_profes_2_44.csv\n",
      "Processing: asfalto_estacionamiento_profes_2_48.csv\n",
      "Processing 23,059 points with label 'asfalto'...\n"
     ]
    },
    {
     "data": {
      "application/vnd.jupyter.widget-view+json": {
       "model_id": "fa606d1d2c3649f2b1efe571355cd152",
       "version_major": 2,
       "version_minor": 0
      },
      "text/plain": [
       "  0%|          | 0/23059 [00:00<?, ?it/s]"
      ]
     },
     "metadata": {},
     "output_type": "display_data"
    },
    {
     "name": "stdout",
     "output_type": "stream",
     "text": [
      "\n",
      "Processing complete: (23059, 13)\n",
      "Saved to: C:\\Users\\USER\\PEF\\Terrain-Traversability-Analysis\\asfalto_features\\asfalto_estacionamiento_profes_2_48_features.csv\n",
      "Completed: asfalto_estacionamiento_profes_2_48.csv\n",
      "Processing: asfalto_estacionamiento_profes_2_50.csv\n",
      "Processing 23,059 points with label 'asfalto'...\n"
     ]
    },
    {
     "data": {
      "application/vnd.jupyter.widget-view+json": {
       "model_id": "a80428d704df4567b9a5fecec97d681d",
       "version_major": 2,
       "version_minor": 0
      },
      "text/plain": [
       "  0%|          | 0/23059 [00:00<?, ?it/s]"
      ]
     },
     "metadata": {},
     "output_type": "display_data"
    },
    {
     "name": "stdout",
     "output_type": "stream",
     "text": [
      "\n",
      "Processing complete: (23059, 13)\n",
      "Saved to: C:\\Users\\USER\\PEF\\Terrain-Traversability-Analysis\\asfalto_features\\asfalto_estacionamiento_profes_2_50_features.csv\n",
      "Completed: asfalto_estacionamiento_profes_2_50.csv\n",
      "Processing: asfalto_estacionamiento_profes_2_61.csv\n",
      "Processing 23,064 points with label 'asfalto'...\n"
     ]
    },
    {
     "data": {
      "application/vnd.jupyter.widget-view+json": {
       "model_id": "d201439b0d6140f78096c80abdf7f3df",
       "version_major": 2,
       "version_minor": 0
      },
      "text/plain": [
       "  0%|          | 0/23064 [00:00<?, ?it/s]"
      ]
     },
     "metadata": {},
     "output_type": "display_data"
    },
    {
     "name": "stdout",
     "output_type": "stream",
     "text": [
      "\n",
      "Processing complete: (23064, 13)\n",
      "Saved to: C:\\Users\\USER\\PEF\\Terrain-Traversability-Analysis\\asfalto_features\\asfalto_estacionamiento_profes_2_61_features.csv\n",
      "Completed: asfalto_estacionamiento_profes_2_61.csv\n",
      "Processing: asfalto_estacionamiento_profes_2_64.csv\n",
      "Processing 23,072 points with label 'asfalto'...\n"
     ]
    },
    {
     "data": {
      "application/vnd.jupyter.widget-view+json": {
       "model_id": "79ad514e51ef4e39807af5302a877adb",
       "version_major": 2,
       "version_minor": 0
      },
      "text/plain": [
       "  0%|          | 0/23072 [00:00<?, ?it/s]"
      ]
     },
     "metadata": {},
     "output_type": "display_data"
    },
    {
     "name": "stdout",
     "output_type": "stream",
     "text": [
      "\n",
      "Processing complete: (23072, 13)\n",
      "Saved to: C:\\Users\\USER\\PEF\\Terrain-Traversability-Analysis\\asfalto_features\\asfalto_estacionamiento_profes_2_64_features.csv\n",
      "Completed: asfalto_estacionamiento_profes_2_64.csv\n",
      "Processing: asfalto_estacionamiento_profes_2_69.csv\n",
      "Processing 23,062 points with label 'asfalto'...\n"
     ]
    },
    {
     "data": {
      "application/vnd.jupyter.widget-view+json": {
       "model_id": "11fb0a5dd20f438b9fae101ca6b89ad6",
       "version_major": 2,
       "version_minor": 0
      },
      "text/plain": [
       "  0%|          | 0/23062 [00:00<?, ?it/s]"
      ]
     },
     "metadata": {},
     "output_type": "display_data"
    },
    {
     "name": "stdout",
     "output_type": "stream",
     "text": [
      "\n",
      "Processing complete: (23062, 13)\n",
      "Saved to: C:\\Users\\USER\\PEF\\Terrain-Traversability-Analysis\\asfalto_features\\asfalto_estacionamiento_profes_2_69_features.csv\n",
      "Completed: asfalto_estacionamiento_profes_2_69.csv\n",
      "Processing: asfalto_estacionamiento_profes_2_70.csv\n",
      "Processing 23,060 points with label 'asfalto'...\n"
     ]
    },
    {
     "data": {
      "application/vnd.jupyter.widget-view+json": {
       "model_id": "f394505d0e5d4de1bc5afe2a9748067a",
       "version_major": 2,
       "version_minor": 0
      },
      "text/plain": [
       "  0%|          | 0/23060 [00:00<?, ?it/s]"
      ]
     },
     "metadata": {},
     "output_type": "display_data"
    },
    {
     "name": "stdout",
     "output_type": "stream",
     "text": [
      "\n",
      "Processing complete: (23060, 13)\n",
      "Saved to: C:\\Users\\USER\\PEF\\Terrain-Traversability-Analysis\\asfalto_features\\asfalto_estacionamiento_profes_2_70_features.csv\n",
      "Completed: asfalto_estacionamiento_profes_2_70.csv\n",
      "Processing: asfalto_estacionamiento_rectoria_1_12.csv\n",
      "Processing 19,092 points with label 'asfalto'...\n"
     ]
    },
    {
     "data": {
      "application/vnd.jupyter.widget-view+json": {
       "model_id": "392171123211477993f93836dd2c142f",
       "version_major": 2,
       "version_minor": 0
      },
      "text/plain": [
       "  0%|          | 0/19092 [00:00<?, ?it/s]"
      ]
     },
     "metadata": {},
     "output_type": "display_data"
    },
    {
     "name": "stdout",
     "output_type": "stream",
     "text": [
      "\n",
      "Processing complete: (19092, 13)\n",
      "Saved to: C:\\Users\\USER\\PEF\\Terrain-Traversability-Analysis\\asfalto_features\\asfalto_estacionamiento_rectoria_1_12_features.csv\n",
      "Completed: asfalto_estacionamiento_rectoria_1_12.csv\n",
      "Processing: asfalto_estacionamiento_rectoria_1_15.csv\n",
      "Processing 19,089 points with label 'asfalto'...\n"
     ]
    },
    {
     "data": {
      "application/vnd.jupyter.widget-view+json": {
       "model_id": "c4860deb4308456ab75a03cd511228f4",
       "version_major": 2,
       "version_minor": 0
      },
      "text/plain": [
       "  0%|          | 0/19089 [00:00<?, ?it/s]"
      ]
     },
     "metadata": {},
     "output_type": "display_data"
    },
    {
     "name": "stdout",
     "output_type": "stream",
     "text": [
      "\n",
      "Processing complete: (19089, 13)\n",
      "Saved to: C:\\Users\\USER\\PEF\\Terrain-Traversability-Analysis\\asfalto_features\\asfalto_estacionamiento_rectoria_1_15_features.csv\n",
      "Completed: asfalto_estacionamiento_rectoria_1_15.csv\n",
      "Processing: asfalto_estacionamiento_rectoria_1_17.csv\n",
      "Processing 19,099 points with label 'asfalto'...\n"
     ]
    },
    {
     "data": {
      "application/vnd.jupyter.widget-view+json": {
       "model_id": "41aaaf53d72b41f88087f9bdcc58bc75",
       "version_major": 2,
       "version_minor": 0
      },
      "text/plain": [
       "  0%|          | 0/19099 [00:00<?, ?it/s]"
      ]
     },
     "metadata": {},
     "output_type": "display_data"
    },
    {
     "name": "stdout",
     "output_type": "stream",
     "text": [
      "\n",
      "Processing complete: (19099, 13)\n",
      "Saved to: C:\\Users\\USER\\PEF\\Terrain-Traversability-Analysis\\asfalto_features\\asfalto_estacionamiento_rectoria_1_17_features.csv\n",
      "Completed: asfalto_estacionamiento_rectoria_1_17.csv\n",
      "Processing: asfalto_estacionamiento_rectoria_1_21.csv\n",
      "Processing 19,082 points with label 'asfalto'...\n"
     ]
    },
    {
     "data": {
      "application/vnd.jupyter.widget-view+json": {
       "model_id": "b927c7068e814cab9bd9a99a0cf38884",
       "version_major": 2,
       "version_minor": 0
      },
      "text/plain": [
       "  0%|          | 0/19082 [00:00<?, ?it/s]"
      ]
     },
     "metadata": {},
     "output_type": "display_data"
    },
    {
     "name": "stdout",
     "output_type": "stream",
     "text": [
      "\n",
      "Processing complete: (19082, 13)\n",
      "Saved to: C:\\Users\\USER\\PEF\\Terrain-Traversability-Analysis\\asfalto_features\\asfalto_estacionamiento_rectoria_1_21_features.csv\n",
      "Completed: asfalto_estacionamiento_rectoria_1_21.csv\n",
      "Processing: asfalto_estacionamiento_rectoria_1_28.csv\n",
      "Processing 19,090 points with label 'asfalto'...\n"
     ]
    },
    {
     "data": {
      "application/vnd.jupyter.widget-view+json": {
       "model_id": "b2bf9ca7beb548f68a9a8430ca0bfa4a",
       "version_major": 2,
       "version_minor": 0
      },
      "text/plain": [
       "  0%|          | 0/19090 [00:00<?, ?it/s]"
      ]
     },
     "metadata": {},
     "output_type": "display_data"
    },
    {
     "name": "stdout",
     "output_type": "stream",
     "text": [
      "\n",
      "Processing complete: (19090, 13)\n",
      "Saved to: C:\\Users\\USER\\PEF\\Terrain-Traversability-Analysis\\asfalto_features\\asfalto_estacionamiento_rectoria_1_28_features.csv\n",
      "Completed: asfalto_estacionamiento_rectoria_1_28.csv\n",
      "Processing: asfalto_estacionamiento_rectoria_1_30.csv\n",
      "Processing 19,097 points with label 'asfalto'...\n"
     ]
    },
    {
     "data": {
      "application/vnd.jupyter.widget-view+json": {
       "model_id": "47d2d8fd4f054bb2b5bc39fcf5496aab",
       "version_major": 2,
       "version_minor": 0
      },
      "text/plain": [
       "  0%|          | 0/19097 [00:00<?, ?it/s]"
      ]
     },
     "metadata": {},
     "output_type": "display_data"
    },
    {
     "name": "stdout",
     "output_type": "stream",
     "text": [
      "\n",
      "Processing complete: (19097, 13)\n",
      "Saved to: C:\\Users\\USER\\PEF\\Terrain-Traversability-Analysis\\asfalto_features\\asfalto_estacionamiento_rectoria_1_30_features.csv\n",
      "Completed: asfalto_estacionamiento_rectoria_1_30.csv\n",
      "Processing: asfalto_estacionamiento_rectoria_1_39.csv\n",
      "Processing 19,089 points with label 'asfalto'...\n"
     ]
    },
    {
     "data": {
      "application/vnd.jupyter.widget-view+json": {
       "model_id": "e49c1d17bebc482ead7c7fee5f302f76",
       "version_major": 2,
       "version_minor": 0
      },
      "text/plain": [
       "  0%|          | 0/19089 [00:00<?, ?it/s]"
      ]
     },
     "metadata": {},
     "output_type": "display_data"
    },
    {
     "name": "stdout",
     "output_type": "stream",
     "text": [
      "\n",
      "Processing complete: (19089, 13)\n",
      "Saved to: C:\\Users\\USER\\PEF\\Terrain-Traversability-Analysis\\asfalto_features\\asfalto_estacionamiento_rectoria_1_39_features.csv\n",
      "Completed: asfalto_estacionamiento_rectoria_1_39.csv\n",
      "Processing: asfalto_estacionamiento_rectoria_1_55.csv\n",
      "Processing 19,075 points with label 'asfalto'...\n"
     ]
    },
    {
     "data": {
      "application/vnd.jupyter.widget-view+json": {
       "model_id": "d49fd2dd600e4c44bb305ad1e7082629",
       "version_major": 2,
       "version_minor": 0
      },
      "text/plain": [
       "  0%|          | 0/19075 [00:00<?, ?it/s]"
      ]
     },
     "metadata": {},
     "output_type": "display_data"
    },
    {
     "name": "stdout",
     "output_type": "stream",
     "text": [
      "\n",
      "Processing complete: (19075, 13)\n",
      "Saved to: C:\\Users\\USER\\PEF\\Terrain-Traversability-Analysis\\asfalto_features\\asfalto_estacionamiento_rectoria_1_55_features.csv\n",
      "Completed: asfalto_estacionamiento_rectoria_1_55.csv\n",
      "Processing: asfalto_estacionamiento_rectoria_1_65.csv\n",
      "Processing 19,075 points with label 'asfalto'...\n"
     ]
    },
    {
     "data": {
      "application/vnd.jupyter.widget-view+json": {
       "model_id": "584416f5ad794111a9ba47bebb7ec8dc",
       "version_major": 2,
       "version_minor": 0
      },
      "text/plain": [
       "  0%|          | 0/19075 [00:00<?, ?it/s]"
      ]
     },
     "metadata": {},
     "output_type": "display_data"
    },
    {
     "name": "stdout",
     "output_type": "stream",
     "text": [
      "\n",
      "Processing complete: (19075, 13)\n",
      "Saved to: C:\\Users\\USER\\PEF\\Terrain-Traversability-Analysis\\asfalto_features\\asfalto_estacionamiento_rectoria_1_65_features.csv\n",
      "Completed: asfalto_estacionamiento_rectoria_1_65.csv\n",
      "Processing: asfalto_estacionamiento_rectoria_1_9.csv\n",
      "Processing 19,101 points with label 'asfalto'...\n"
     ]
    },
    {
     "data": {
      "application/vnd.jupyter.widget-view+json": {
       "model_id": "50d89f63d1d44b34bd22124444bc505f",
       "version_major": 2,
       "version_minor": 0
      },
      "text/plain": [
       "  0%|          | 0/19101 [00:00<?, ?it/s]"
      ]
     },
     "metadata": {},
     "output_type": "display_data"
    },
    {
     "name": "stdout",
     "output_type": "stream",
     "text": [
      "\n",
      "Processing complete: (19101, 13)\n",
      "Saved to: C:\\Users\\USER\\PEF\\Terrain-Traversability-Analysis\\asfalto_features\\asfalto_estacionamiento_rectoria_1_9_features.csv\n",
      "Completed: asfalto_estacionamiento_rectoria_1_9.csv\n",
      "Processing: asfalto_estacionamiento_rectoria_2_12.csv\n",
      "Processing 23,225 points with label 'asfalto'...\n"
     ]
    },
    {
     "data": {
      "application/vnd.jupyter.widget-view+json": {
       "model_id": "6d3333bc0a984c82b6ca0d3699af5bda",
       "version_major": 2,
       "version_minor": 0
      },
      "text/plain": [
       "  0%|          | 0/23225 [00:00<?, ?it/s]"
      ]
     },
     "metadata": {},
     "output_type": "display_data"
    },
    {
     "name": "stdout",
     "output_type": "stream",
     "text": [
      "\n",
      "Processing complete: (23225, 13)\n",
      "Saved to: C:\\Users\\USER\\PEF\\Terrain-Traversability-Analysis\\asfalto_features\\asfalto_estacionamiento_rectoria_2_12_features.csv\n",
      "Completed: asfalto_estacionamiento_rectoria_2_12.csv\n",
      "Processing: asfalto_estacionamiento_rectoria_2_15.csv\n",
      "Processing 23,220 points with label 'asfalto'...\n"
     ]
    },
    {
     "data": {
      "application/vnd.jupyter.widget-view+json": {
       "model_id": "6a249714ca56429fbf929a8441720512",
       "version_major": 2,
       "version_minor": 0
      },
      "text/plain": [
       "  0%|          | 0/23220 [00:00<?, ?it/s]"
      ]
     },
     "metadata": {},
     "output_type": "display_data"
    },
    {
     "name": "stdout",
     "output_type": "stream",
     "text": [
      "\n",
      "Processing complete: (23220, 13)\n",
      "Saved to: C:\\Users\\USER\\PEF\\Terrain-Traversability-Analysis\\asfalto_features\\asfalto_estacionamiento_rectoria_2_15_features.csv\n",
      "Completed: asfalto_estacionamiento_rectoria_2_15.csv\n",
      "Processing: asfalto_estacionamiento_rectoria_2_16.csv\n",
      "Processing 23,190 points with label 'asfalto'...\n"
     ]
    },
    {
     "data": {
      "application/vnd.jupyter.widget-view+json": {
       "model_id": "50c95bb9be974cbc90be0656a0a29b58",
       "version_major": 2,
       "version_minor": 0
      },
      "text/plain": [
       "  0%|          | 0/23190 [00:00<?, ?it/s]"
      ]
     },
     "metadata": {},
     "output_type": "display_data"
    },
    {
     "name": "stdout",
     "output_type": "stream",
     "text": [
      "\n",
      "Processing complete: (23190, 13)\n",
      "Saved to: C:\\Users\\USER\\PEF\\Terrain-Traversability-Analysis\\asfalto_features\\asfalto_estacionamiento_rectoria_2_16_features.csv\n",
      "Completed: asfalto_estacionamiento_rectoria_2_16.csv\n",
      "Processing: asfalto_estacionamiento_rectoria_2_23.csv\n",
      "Processing 23,206 points with label 'asfalto'...\n"
     ]
    },
    {
     "data": {
      "application/vnd.jupyter.widget-view+json": {
       "model_id": "9d96fd80560e403e90a3b07832f38ef9",
       "version_major": 2,
       "version_minor": 0
      },
      "text/plain": [
       "  0%|          | 0/23206 [00:00<?, ?it/s]"
      ]
     },
     "metadata": {},
     "output_type": "display_data"
    },
    {
     "name": "stdout",
     "output_type": "stream",
     "text": [
      "\n",
      "Processing complete: (23206, 13)\n",
      "Saved to: C:\\Users\\USER\\PEF\\Terrain-Traversability-Analysis\\asfalto_features\\asfalto_estacionamiento_rectoria_2_23_features.csv\n",
      "Completed: asfalto_estacionamiento_rectoria_2_23.csv\n",
      "Processing: asfalto_estacionamiento_rectoria_2_27.csv\n",
      "Processing 23,213 points with label 'asfalto'...\n"
     ]
    },
    {
     "data": {
      "application/vnd.jupyter.widget-view+json": {
       "model_id": "8258d597b95b44a9b1a83947981f0ed4",
       "version_major": 2,
       "version_minor": 0
      },
      "text/plain": [
       "  0%|          | 0/23213 [00:00<?, ?it/s]"
      ]
     },
     "metadata": {},
     "output_type": "display_data"
    },
    {
     "name": "stdout",
     "output_type": "stream",
     "text": [
      "\n",
      "Processing complete: (23213, 13)\n",
      "Saved to: C:\\Users\\USER\\PEF\\Terrain-Traversability-Analysis\\asfalto_features\\asfalto_estacionamiento_rectoria_2_27_features.csv\n",
      "Completed: asfalto_estacionamiento_rectoria_2_27.csv\n",
      "Processing: asfalto_estacionamiento_rectoria_2_36.csv\n",
      "Processing 23,206 points with label 'asfalto'...\n"
     ]
    },
    {
     "data": {
      "application/vnd.jupyter.widget-view+json": {
       "model_id": "aa99e3e804df40cdb836e110e14987a4",
       "version_major": 2,
       "version_minor": 0
      },
      "text/plain": [
       "  0%|          | 0/23206 [00:00<?, ?it/s]"
      ]
     },
     "metadata": {},
     "output_type": "display_data"
    },
    {
     "name": "stdout",
     "output_type": "stream",
     "text": [
      "\n",
      "Processing complete: (23206, 13)\n",
      "Saved to: C:\\Users\\USER\\PEF\\Terrain-Traversability-Analysis\\asfalto_features\\asfalto_estacionamiento_rectoria_2_36_features.csv\n",
      "Completed: asfalto_estacionamiento_rectoria_2_36.csv\n",
      "Processing: asfalto_estacionamiento_rectoria_2_40.csv\n",
      "Processing 23,218 points with label 'asfalto'...\n"
     ]
    },
    {
     "data": {
      "application/vnd.jupyter.widget-view+json": {
       "model_id": "da56b64b1f354baba1e915b6e46e8cc4",
       "version_major": 2,
       "version_minor": 0
      },
      "text/plain": [
       "  0%|          | 0/23218 [00:00<?, ?it/s]"
      ]
     },
     "metadata": {},
     "output_type": "display_data"
    },
    {
     "name": "stdout",
     "output_type": "stream",
     "text": [
      "\n",
      "Processing complete: (23218, 13)\n",
      "Saved to: C:\\Users\\USER\\PEF\\Terrain-Traversability-Analysis\\asfalto_features\\asfalto_estacionamiento_rectoria_2_40_features.csv\n",
      "Completed: asfalto_estacionamiento_rectoria_2_40.csv\n",
      "Processing: asfalto_estacionamiento_rectoria_2_58.csv\n",
      "Processing 23,202 points with label 'asfalto'...\n"
     ]
    },
    {
     "data": {
      "application/vnd.jupyter.widget-view+json": {
       "model_id": "f92addfa416a4c94b4fc5fa248a89c37",
       "version_major": 2,
       "version_minor": 0
      },
      "text/plain": [
       "  0%|          | 0/23202 [00:00<?, ?it/s]"
      ]
     },
     "metadata": {},
     "output_type": "display_data"
    },
    {
     "name": "stdout",
     "output_type": "stream",
     "text": [
      "\n",
      "Processing complete: (23202, 13)\n",
      "Saved to: C:\\Users\\USER\\PEF\\Terrain-Traversability-Analysis\\asfalto_features\\asfalto_estacionamiento_rectoria_2_58_features.csv\n",
      "Completed: asfalto_estacionamiento_rectoria_2_58.csv\n",
      "Processing: asfalto_estacionamiento_rectoria_2_6.csv\n",
      "Processing 23,210 points with label 'asfalto'...\n"
     ]
    },
    {
     "data": {
      "application/vnd.jupyter.widget-view+json": {
       "model_id": "6c44f6d1e37a4415bf2cb47f7a73919e",
       "version_major": 2,
       "version_minor": 0
      },
      "text/plain": [
       "  0%|          | 0/23210 [00:00<?, ?it/s]"
      ]
     },
     "metadata": {},
     "output_type": "display_data"
    },
    {
     "name": "stdout",
     "output_type": "stream",
     "text": [
      "\n",
      "Processing complete: (23210, 13)\n",
      "Saved to: C:\\Users\\USER\\PEF\\Terrain-Traversability-Analysis\\asfalto_features\\asfalto_estacionamiento_rectoria_2_6_features.csv\n",
      "Completed: asfalto_estacionamiento_rectoria_2_6.csv\n",
      "Processing: asfalto_estacionamiento_rectoria_2_63.csv\n",
      "Processing 23,209 points with label 'asfalto'...\n"
     ]
    },
    {
     "data": {
      "application/vnd.jupyter.widget-view+json": {
       "model_id": "6fa967678aec458cb4a97a72bf95c711",
       "version_major": 2,
       "version_minor": 0
      },
      "text/plain": [
       "  0%|          | 0/23209 [00:00<?, ?it/s]"
      ]
     },
     "metadata": {},
     "output_type": "display_data"
    },
    {
     "name": "stdout",
     "output_type": "stream",
     "text": [
      "\n",
      "Processing complete: (23209, 13)\n",
      "Saved to: C:\\Users\\USER\\PEF\\Terrain-Traversability-Analysis\\asfalto_features\\asfalto_estacionamiento_rectoria_2_63_features.csv\n",
      "Completed: asfalto_estacionamiento_rectoria_2_63.csv\n",
      "Processing: rampa_profes_estacionamiento_1_12.csv\n",
      "Processing 22,713 points with label 'asfalto'...\n"
     ]
    },
    {
     "data": {
      "application/vnd.jupyter.widget-view+json": {
       "model_id": "f89c3a4abf8444ddaa0e99bc95c875f6",
       "version_major": 2,
       "version_minor": 0
      },
      "text/plain": [
       "  0%|          | 0/22713 [00:00<?, ?it/s]"
      ]
     },
     "metadata": {},
     "output_type": "display_data"
    },
    {
     "name": "stdout",
     "output_type": "stream",
     "text": [
      "\n",
      "Processing complete: (22713, 13)\n",
      "Saved to: C:\\Users\\USER\\PEF\\Terrain-Traversability-Analysis\\asfalto_features\\rampa_profes_estacionamiento_1_12_features.csv\n",
      "Completed: rampa_profes_estacionamiento_1_12.csv\n",
      "Processing: rampa_profes_estacionamiento_1_16.csv\n",
      "Processing 22,712 points with label 'asfalto'...\n"
     ]
    },
    {
     "data": {
      "application/vnd.jupyter.widget-view+json": {
       "model_id": "8a597693aa3347b4915df4f8ed49097e",
       "version_major": 2,
       "version_minor": 0
      },
      "text/plain": [
       "  0%|          | 0/22712 [00:00<?, ?it/s]"
      ]
     },
     "metadata": {},
     "output_type": "display_data"
    },
    {
     "name": "stdout",
     "output_type": "stream",
     "text": [
      "\n",
      "Processing complete: (22712, 13)\n",
      "Saved to: C:\\Users\\USER\\PEF\\Terrain-Traversability-Analysis\\asfalto_features\\rampa_profes_estacionamiento_1_16_features.csv\n",
      "Completed: rampa_profes_estacionamiento_1_16.csv\n",
      "Processing: rampa_profes_estacionamiento_1_22.csv\n",
      "Processing 22,713 points with label 'asfalto'...\n"
     ]
    },
    {
     "data": {
      "application/vnd.jupyter.widget-view+json": {
       "model_id": "4499d262f0cb4ba584f68a8ef6c0a2f4",
       "version_major": 2,
       "version_minor": 0
      },
      "text/plain": [
       "  0%|          | 0/22713 [00:00<?, ?it/s]"
      ]
     },
     "metadata": {},
     "output_type": "display_data"
    },
    {
     "name": "stdout",
     "output_type": "stream",
     "text": [
      "\n",
      "Processing complete: (22713, 13)\n",
      "Saved to: C:\\Users\\USER\\PEF\\Terrain-Traversability-Analysis\\asfalto_features\\rampa_profes_estacionamiento_1_22_features.csv\n",
      "Completed: rampa_profes_estacionamiento_1_22.csv\n",
      "Processing: rampa_profes_estacionamiento_1_24.csv\n",
      "Processing 22,710 points with label 'asfalto'...\n"
     ]
    },
    {
     "data": {
      "application/vnd.jupyter.widget-view+json": {
       "model_id": "6f227128a8dd487c87111419d356f6ee",
       "version_major": 2,
       "version_minor": 0
      },
      "text/plain": [
       "  0%|          | 0/22710 [00:00<?, ?it/s]"
      ]
     },
     "metadata": {},
     "output_type": "display_data"
    },
    {
     "name": "stdout",
     "output_type": "stream",
     "text": [
      "\n",
      "Processing complete: (22710, 13)\n",
      "Saved to: C:\\Users\\USER\\PEF\\Terrain-Traversability-Analysis\\asfalto_features\\rampa_profes_estacionamiento_1_24_features.csv\n",
      "Completed: rampa_profes_estacionamiento_1_24.csv\n",
      "Processing: rampa_profes_estacionamiento_1_28.csv\n",
      "Processing 22,714 points with label 'asfalto'...\n"
     ]
    },
    {
     "data": {
      "application/vnd.jupyter.widget-view+json": {
       "model_id": "6609afa2d2d043618a5c15dd4dd467dd",
       "version_major": 2,
       "version_minor": 0
      },
      "text/plain": [
       "  0%|          | 0/22714 [00:00<?, ?it/s]"
      ]
     },
     "metadata": {},
     "output_type": "display_data"
    },
    {
     "name": "stdout",
     "output_type": "stream",
     "text": [
      "\n",
      "Processing complete: (22714, 13)\n",
      "Saved to: C:\\Users\\USER\\PEF\\Terrain-Traversability-Analysis\\asfalto_features\\rampa_profes_estacionamiento_1_28_features.csv\n",
      "Completed: rampa_profes_estacionamiento_1_28.csv\n",
      "Processing: rampa_profes_estacionamiento_1_3.csv\n",
      "Processing 22,705 points with label 'asfalto'...\n"
     ]
    },
    {
     "data": {
      "application/vnd.jupyter.widget-view+json": {
       "model_id": "6ee10f21eeca4c788e19d1012eb07447",
       "version_major": 2,
       "version_minor": 0
      },
      "text/plain": [
       "  0%|          | 0/22705 [00:00<?, ?it/s]"
      ]
     },
     "metadata": {},
     "output_type": "display_data"
    },
    {
     "name": "stdout",
     "output_type": "stream",
     "text": [
      "\n",
      "Processing complete: (22705, 13)\n",
      "Saved to: C:\\Users\\USER\\PEF\\Terrain-Traversability-Analysis\\asfalto_features\\rampa_profes_estacionamiento_1_3_features.csv\n",
      "Completed: rampa_profes_estacionamiento_1_3.csv\n",
      "Processing: rampa_profes_estacionamiento_1_37.csv\n",
      "Processing 22,718 points with label 'asfalto'...\n"
     ]
    },
    {
     "data": {
      "application/vnd.jupyter.widget-view+json": {
       "model_id": "72cc55c1fd8845d4b72039b59670c9b8",
       "version_major": 2,
       "version_minor": 0
      },
      "text/plain": [
       "  0%|          | 0/22718 [00:00<?, ?it/s]"
      ]
     },
     "metadata": {},
     "output_type": "display_data"
    },
    {
     "name": "stdout",
     "output_type": "stream",
     "text": [
      "\n",
      "Processing complete: (22718, 13)\n",
      "Saved to: C:\\Users\\USER\\PEF\\Terrain-Traversability-Analysis\\asfalto_features\\rampa_profes_estacionamiento_1_37_features.csv\n",
      "Completed: rampa_profes_estacionamiento_1_37.csv\n",
      "Processing: rampa_profes_estacionamiento_1_5.csv\n",
      "Processing 22,717 points with label 'asfalto'...\n"
     ]
    },
    {
     "data": {
      "application/vnd.jupyter.widget-view+json": {
       "model_id": "51440cc9e812472996903ffe60be6cef",
       "version_major": 2,
       "version_minor": 0
      },
      "text/plain": [
       "  0%|          | 0/22717 [00:00<?, ?it/s]"
      ]
     },
     "metadata": {},
     "output_type": "display_data"
    },
    {
     "name": "stdout",
     "output_type": "stream",
     "text": [
      "\n",
      "Processing complete: (22717, 13)\n",
      "Saved to: C:\\Users\\USER\\PEF\\Terrain-Traversability-Analysis\\asfalto_features\\rampa_profes_estacionamiento_1_5_features.csv\n",
      "Completed: rampa_profes_estacionamiento_1_5.csv\n",
      "Processing: rampa_profes_estacionamiento_1_70.csv\n",
      "Processing 22,701 points with label 'asfalto'...\n"
     ]
    },
    {
     "data": {
      "application/vnd.jupyter.widget-view+json": {
       "model_id": "6bad4340e91b45b396fc7c723afac694",
       "version_major": 2,
       "version_minor": 0
      },
      "text/plain": [
       "  0%|          | 0/22701 [00:00<?, ?it/s]"
      ]
     },
     "metadata": {},
     "output_type": "display_data"
    },
    {
     "name": "stdout",
     "output_type": "stream",
     "text": [
      "\n",
      "Processing complete: (22701, 13)\n",
      "Saved to: C:\\Users\\USER\\PEF\\Terrain-Traversability-Analysis\\asfalto_features\\rampa_profes_estacionamiento_1_70_features.csv\n",
      "Completed: rampa_profes_estacionamiento_1_70.csv\n",
      "Processing: rampa_profes_estacionamiento_1_8.csv\n",
      "Processing 22,702 points with label 'asfalto'...\n"
     ]
    },
    {
     "data": {
      "application/vnd.jupyter.widget-view+json": {
       "model_id": "83ffc7e2910c4631b09e2665fe76661d",
       "version_major": 2,
       "version_minor": 0
      },
      "text/plain": [
       "  0%|          | 0/22702 [00:00<?, ?it/s]"
      ]
     },
     "metadata": {},
     "output_type": "display_data"
    },
    {
     "name": "stdout",
     "output_type": "stream",
     "text": [
      "\n",
      "Processing complete: (22702, 13)\n",
      "Saved to: C:\\Users\\USER\\PEF\\Terrain-Traversability-Analysis\\asfalto_features\\rampa_profes_estacionamiento_1_8_features.csv\n",
      "Completed: rampa_profes_estacionamiento_1_8.csv\n",
      "Processing: rampa_profes_estacionamiento_2_2.csv\n",
      "Processing 22,049 points with label 'asfalto'...\n"
     ]
    },
    {
     "data": {
      "application/vnd.jupyter.widget-view+json": {
       "model_id": "76a925ceb610423aa5ea7f3ca92a3486",
       "version_major": 2,
       "version_minor": 0
      },
      "text/plain": [
       "  0%|          | 0/22049 [00:00<?, ?it/s]"
      ]
     },
     "metadata": {},
     "output_type": "display_data"
    },
    {
     "name": "stdout",
     "output_type": "stream",
     "text": [
      "\n",
      "Processing complete: (22049, 13)\n",
      "Saved to: C:\\Users\\USER\\PEF\\Terrain-Traversability-Analysis\\asfalto_features\\rampa_profes_estacionamiento_2_2_features.csv\n",
      "Completed: rampa_profes_estacionamiento_2_2.csv\n",
      "Processing: rampa_profes_estacionamiento_2_24.csv\n",
      "Processing 22,046 points with label 'asfalto'...\n"
     ]
    },
    {
     "data": {
      "application/vnd.jupyter.widget-view+json": {
       "model_id": "21b4cc71e5d043ca8b49d9cd3a1d74b6",
       "version_major": 2,
       "version_minor": 0
      },
      "text/plain": [
       "  0%|          | 0/22046 [00:00<?, ?it/s]"
      ]
     },
     "metadata": {},
     "output_type": "display_data"
    },
    {
     "name": "stdout",
     "output_type": "stream",
     "text": [
      "\n",
      "Processing complete: (22046, 13)\n",
      "Saved to: C:\\Users\\USER\\PEF\\Terrain-Traversability-Analysis\\asfalto_features\\rampa_profes_estacionamiento_2_24_features.csv\n",
      "Completed: rampa_profes_estacionamiento_2_24.csv\n",
      "Processing: rampa_profes_estacionamiento_2_31.csv\n",
      "Processing 22,041 points with label 'asfalto'...\n"
     ]
    },
    {
     "data": {
      "application/vnd.jupyter.widget-view+json": {
       "model_id": "fd12cdb48a2b476586bf231a1e9d4031",
       "version_major": 2,
       "version_minor": 0
      },
      "text/plain": [
       "  0%|          | 0/22041 [00:00<?, ?it/s]"
      ]
     },
     "metadata": {},
     "output_type": "display_data"
    },
    {
     "name": "stdout",
     "output_type": "stream",
     "text": [
      "\n",
      "Processing complete: (22041, 13)\n",
      "Saved to: C:\\Users\\USER\\PEF\\Terrain-Traversability-Analysis\\asfalto_features\\rampa_profes_estacionamiento_2_31_features.csv\n",
      "Completed: rampa_profes_estacionamiento_2_31.csv\n",
      "Processing: rampa_profes_estacionamiento_2_36.csv\n",
      "Processing 22,044 points with label 'asfalto'...\n"
     ]
    },
    {
     "data": {
      "application/vnd.jupyter.widget-view+json": {
       "model_id": "075f0f8aacb84e95b8a9f98470942a4f",
       "version_major": 2,
       "version_minor": 0
      },
      "text/plain": [
       "  0%|          | 0/22044 [00:00<?, ?it/s]"
      ]
     },
     "metadata": {},
     "output_type": "display_data"
    },
    {
     "name": "stdout",
     "output_type": "stream",
     "text": [
      "\n",
      "Processing complete: (22044, 13)\n",
      "Saved to: C:\\Users\\USER\\PEF\\Terrain-Traversability-Analysis\\asfalto_features\\rampa_profes_estacionamiento_2_36_features.csv\n",
      "Completed: rampa_profes_estacionamiento_2_36.csv\n",
      "Processing: rampa_profes_estacionamiento_2_38.csv\n",
      "Processing 22,034 points with label 'asfalto'...\n"
     ]
    },
    {
     "data": {
      "application/vnd.jupyter.widget-view+json": {
       "model_id": "2e3bcdba6e854213bfbf0946bb6dbef8",
       "version_major": 2,
       "version_minor": 0
      },
      "text/plain": [
       "  0%|          | 0/22034 [00:00<?, ?it/s]"
      ]
     },
     "metadata": {},
     "output_type": "display_data"
    },
    {
     "name": "stdout",
     "output_type": "stream",
     "text": [
      "\n",
      "Processing complete: (22034, 13)\n",
      "Saved to: C:\\Users\\USER\\PEF\\Terrain-Traversability-Analysis\\asfalto_features\\rampa_profes_estacionamiento_2_38_features.csv\n",
      "Completed: rampa_profes_estacionamiento_2_38.csv\n",
      "Processing: rampa_profes_estacionamiento_2_4.csv\n",
      "Processing 22,057 points with label 'asfalto'...\n"
     ]
    },
    {
     "data": {
      "application/vnd.jupyter.widget-view+json": {
       "model_id": "3fa5ffef8cfd42a789eb70f893a9cf9b",
       "version_major": 2,
       "version_minor": 0
      },
      "text/plain": [
       "  0%|          | 0/22057 [00:00<?, ?it/s]"
      ]
     },
     "metadata": {},
     "output_type": "display_data"
    },
    {
     "name": "stdout",
     "output_type": "stream",
     "text": [
      "\n",
      "Processing complete: (22057, 13)\n",
      "Saved to: C:\\Users\\USER\\PEF\\Terrain-Traversability-Analysis\\asfalto_features\\rampa_profes_estacionamiento_2_4_features.csv\n",
      "Completed: rampa_profes_estacionamiento_2_4.csv\n",
      "Processing: rampa_profes_estacionamiento_2_46.csv\n",
      "Processing 22,044 points with label 'asfalto'...\n"
     ]
    },
    {
     "data": {
      "application/vnd.jupyter.widget-view+json": {
       "model_id": "5d3404ce23d74c1e971582df1d219c69",
       "version_major": 2,
       "version_minor": 0
      },
      "text/plain": [
       "  0%|          | 0/22044 [00:00<?, ?it/s]"
      ]
     },
     "metadata": {},
     "output_type": "display_data"
    },
    {
     "name": "stdout",
     "output_type": "stream",
     "text": [
      "\n",
      "Processing complete: (22044, 13)\n",
      "Saved to: C:\\Users\\USER\\PEF\\Terrain-Traversability-Analysis\\asfalto_features\\rampa_profes_estacionamiento_2_46_features.csv\n",
      "Completed: rampa_profes_estacionamiento_2_46.csv\n",
      "Processing: rampa_profes_estacionamiento_2_51.csv\n",
      "Processing 22,030 points with label 'asfalto'...\n"
     ]
    },
    {
     "data": {
      "application/vnd.jupyter.widget-view+json": {
       "model_id": "99e2bd8600c043bfa45159b03e7cce1c",
       "version_major": 2,
       "version_minor": 0
      },
      "text/plain": [
       "  0%|          | 0/22030 [00:00<?, ?it/s]"
      ]
     },
     "metadata": {},
     "output_type": "display_data"
    },
    {
     "name": "stdout",
     "output_type": "stream",
     "text": [
      "\n",
      "Processing complete: (22030, 13)\n",
      "Saved to: C:\\Users\\USER\\PEF\\Terrain-Traversability-Analysis\\asfalto_features\\rampa_profes_estacionamiento_2_51_features.csv\n",
      "Completed: rampa_profes_estacionamiento_2_51.csv\n",
      "Processing: rampa_profes_estacionamiento_2_56.csv\n",
      "Processing 22,034 points with label 'asfalto'...\n"
     ]
    },
    {
     "data": {
      "application/vnd.jupyter.widget-view+json": {
       "model_id": "99da672416c24bedbbfbc582575fa3a4",
       "version_major": 2,
       "version_minor": 0
      },
      "text/plain": [
       "  0%|          | 0/22034 [00:00<?, ?it/s]"
      ]
     },
     "metadata": {},
     "output_type": "display_data"
    },
    {
     "name": "stdout",
     "output_type": "stream",
     "text": [
      "\n",
      "Processing complete: (22034, 13)\n",
      "Saved to: C:\\Users\\USER\\PEF\\Terrain-Traversability-Analysis\\asfalto_features\\rampa_profes_estacionamiento_2_56_features.csv\n",
      "Completed: rampa_profes_estacionamiento_2_56.csv\n",
      "Processing: rampa_profes_estacionamiento_2_72.csv\n",
      "Processing 22,029 points with label 'asfalto'...\n"
     ]
    },
    {
     "data": {
      "application/vnd.jupyter.widget-view+json": {
       "model_id": "b85a1c720a5b42e0b33b2e9b822a1e36",
       "version_major": 2,
       "version_minor": 0
      },
      "text/plain": [
       "  0%|          | 0/22029 [00:00<?, ?it/s]"
      ]
     },
     "metadata": {},
     "output_type": "display_data"
    },
    {
     "name": "stdout",
     "output_type": "stream",
     "text": [
      "\n",
      "Processing complete: (22029, 13)\n",
      "Saved to: C:\\Users\\USER\\PEF\\Terrain-Traversability-Analysis\\asfalto_features\\rampa_profes_estacionamiento_2_72_features.csv\n",
      "Completed: rampa_profes_estacionamiento_2_72.csv\n",
      "\n",
      "================================================================================\n",
      "All files processed!\n",
      "Successful: 100/100\n",
      "Failed: 0/100\n",
      "================================================================================\n"
     ]
    }
   ],
   "source": [
    "base_path = r'C:\\Users\\USER\\Downloads\\asfalto'\n",
    "output_base = r'C:\\Users\\USER\\PEF\\Terrain-Traversability-Analysis\\asfalto_features'\n",
    "class_label = 'asfalto'\n",
    "\n",
    "# Create output directory\n",
    "os.makedirs(output_base, exist_ok=True)\n",
    "\n",
    "# Get all CSV files\n",
    "csv_files = glob.glob(os.path.join(base_path, '**', '*.csv'), recursive=True)\n",
    "\n",
    "print(\"=\"*80)\n",
    "print(f\"Found {len(csv_files)} CSV files\")\n",
    "print(\"=\"*80)\n",
    "\n",
    "# Track progress and errors\n",
    "successful = 0\n",
    "failed = 0\n",
    "errors = []\n",
    "\n",
    "for csv_file in tqdm(csv_files, desc=\"Processing files\", unit=\"file\"):\n",
    "    filename = os.path.basename(csv_file)\n",
    "    \n",
    "    # Create output filename\n",
    "    output_filename = filename.replace('.csv', '_features.csv')\n",
    "    output_path = os.path.join(output_base, output_filename)\n",
    "    \n",
    "    # Skip if already processed\n",
    "    if os.path.exists(output_path):\n",
    "        print(f\"Skipping (already exists): {filename}\")\n",
    "        successful += 1\n",
    "        continue\n",
    "    \n",
    "    print(f\"Processing: {filename}\")\n",
    "    \n",
    "    try:\n",
    "        df_features = process_dataframe(csv_file, output_path, class_label)\n",
    "        successful += 1\n",
    "        print(f\"Completed: {filename}\")\n",
    "        \n",
    "        # Free memory after each file\n",
    "        del df_features\n",
    "        gc.collect()\n",
    "        \n",
    "    except Exception as e:\n",
    "        failed += 1\n",
    "        error_msg = f\"{filename}: {str(e)}\"\n",
    "        errors.append(error_msg)\n",
    "        print(f\"Error: {e}\")\n",
    "\n",
    "# Summary\n",
    "print(\"\\n\" + \"=\"*80)\n",
    "print(f\"All files processed!\")\n",
    "print(f\"Successful: {successful}/{len(csv_files)}\")\n",
    "print(f\"Failed: {failed}/{len(csv_files)}\")\n",
    "\n",
    "if errors:\n",
    "    print(\"\\nFailed files:\")\n",
    "    for error in errors:\n",
    "        print(f\"  - {error}\")\n",
    "        \n",
    "print(\"=\"*80)\n",
    "\n",
    "# Save error log if any\n",
    "if errors:\n",
    "    error_log_path = os.path.join(output_base, 'processing_errors.txt')\n",
    "    with open(error_log_path, 'w') as f:\n",
    "        f.write(\"Processing Errors\\n\")\n",
    "        f.write(\"=\"*80 + \"\\n\\n\")\n",
    "        for error in errors:\n",
    "            f.write(f\"{error}\\n\")\n",
    "    print(f\"\\nError log saved to: {error_log_path}\")"
   ]
  },
  {
   "cell_type": "code",
   "execution_count": 3,
   "id": "be71af7a",
   "metadata": {},
   "outputs": [
    {
     "name": "stdout",
     "output_type": "stream",
     "text": [
      "================================================================================\n",
      "Found 100 CSV files\n",
      "================================================================================\n"
     ]
    },
    {
     "data": {
      "application/vnd.jupyter.widget-view+json": {
       "model_id": "380ae76dfc7447a88daae4b9b562a9c8",
       "version_major": 2,
       "version_minor": 0
      },
      "text/plain": [
       "Processing files:   0%|          | 0/100 [00:00<?, ?file/s]"
      ]
     },
     "metadata": {},
     "output_type": "display_data"
    },
    {
     "name": "stdout",
     "output_type": "stream",
     "text": [
      "Skipping (already exists): concreto_ccu_25.csv\n",
      "Skipping (already exists): concreto_ccu_26.csv\n",
      "Skipping (already exists): concreto_ccu_30.csv\n",
      "Skipping (already exists): concreto_ccu_49.csv\n",
      "Skipping (already exists): concreto_ccu_5.csv\n",
      "Skipping (already exists): concreto_ccu_61.csv\n",
      "Skipping (already exists): concreto_ccu_64.csv\n",
      "Skipping (already exists): concreto_ccu_66.csv\n",
      "Skipping (already exists): concreto_ccu_68.csv\n",
      "Skipping (already exists): concreto_ccu_7.csv\n",
      "Skipping (already exists): concreto_ccu_2_10.csv\n",
      "Skipping (already exists): concreto_ccu_2_16.csv\n",
      "Skipping (already exists): concreto_ccu_2_20.csv\n",
      "Skipping (already exists): concreto_ccu_2_28.csv\n",
      "Skipping (already exists): concreto_ccu_2_38.csv\n",
      "Skipping (already exists): concreto_ccu_2_45.csv\n",
      "Skipping (already exists): concreto_ccu_2_46.csv\n",
      "Skipping (already exists): concreto_ccu_2_51.csv\n",
      "Skipping (already exists): concreto_ccu_2_68.csv\n",
      "Skipping (already exists): concreto_ccu_2_9.csv\n",
      "Skipping (already exists): concreto_restringido_vehiculos_19.csv\n",
      "Skipping (already exists): concreto_restringido_vehiculos_31.csv\n",
      "Skipping (already exists): concreto_restringido_vehiculos_32.csv\n",
      "Skipping (already exists): concreto_restringido_vehiculos_44.csv\n",
      "Skipping (already exists): concreto_restringido_vehiculos_45.csv\n",
      "Skipping (already exists): concreto_restringido_vehiculos_52.csv\n",
      "Skipping (already exists): concreto_restringido_vehiculos_55.csv\n",
      "Skipping (already exists): concreto_restringido_vehiculos_59.csv\n",
      "Skipping (already exists): concreto_restringido_vehiculos_64.csv\n",
      "Skipping (already exists): concreto_restringido_vehiculos_9.csv\n",
      "Skipping (already exists): concreto_rotonda_CCU_13.csv\n",
      "Skipping (already exists): concreto_rotonda_CCU_15.csv\n",
      "Skipping (already exists): concreto_rotonda_CCU_19.csv\n",
      "Skipping (already exists): concreto_rotonda_CCU_25.csv\n",
      "Skipping (already exists): concreto_rotonda_CCU_26.csv\n",
      "Skipping (already exists): concreto_rotonda_CCU_30.csv\n",
      "Skipping (already exists): concreto_rotonda_CCU_42.csv\n",
      "Skipping (already exists): concreto_rotonda_CCU_43.csv\n",
      "Skipping (already exists): concreto_rotonda_CCU_50.csv\n",
      "Skipping (already exists): concreto_rotonda_CCU_55.csv\n",
      "Skipping (already exists): concreto_rotonda_CCU_2_17.csv\n",
      "Skipping (already exists): concreto_rotonda_CCU_2_19.csv\n",
      "Skipping (already exists): concreto_rotonda_CCU_2_24.csv\n",
      "Skipping (already exists): concreto_rotonda_CCU_2_26.csv\n",
      "Skipping (already exists): concreto_rotonda_CCU_2_28.csv\n",
      "Skipping (already exists): concreto_rotonda_CCU_2_49.csv\n",
      "Skipping (already exists): concreto_rotonda_CCU_2_67.csv\n",
      "Skipping (already exists): concreto_rotonda_CCU_2_72.csv\n",
      "Skipping (already exists): concreto_rotonda_CCU_2_74.csv\n",
      "Skipping (already exists): concreto_rotonda_CCU_2_9.csv\n",
      "Skipping (already exists): concreto_rotonda_estacionamiento_profes_14.csv\n",
      "Skipping (already exists): concreto_rotonda_estacionamiento_profes_21.csv\n",
      "Skipping (already exists): concreto_rotonda_estacionamiento_profes_27.csv\n",
      "Skipping (already exists): concreto_rotonda_estacionamiento_profes_30.csv\n",
      "Skipping (already exists): concreto_rotonda_estacionamiento_profes_33.csv\n",
      "Skipping (already exists): concreto_rotonda_estacionamiento_profes_43.csv\n",
      "Skipping (already exists): concreto_rotonda_estacionamiento_profes_51.csv\n",
      "Skipping (already exists): concreto_rotonda_estacionamiento_profes_53.csv\n",
      "Skipping (already exists): concreto_rotonda_estacionamiento_profes_72.csv\n",
      "Skipping (already exists): concreto_rotonda_estacionamiento_profes_8.csv\n",
      "Skipping (already exists): concreto_seven_31.csv\n",
      "Skipping (already exists): concreto_seven_46.csv\n",
      "Skipping (already exists): concreto_seven_47.csv\n",
      "Skipping (already exists): concreto_seven_48.csv\n",
      "Skipping (already exists): concreto_seven_5.csv\n",
      "Skipping (already exists): concreto_seven_50.csv\n",
      "Skipping (already exists): concreto_seven_57.csv\n",
      "Skipping (already exists): concreto_seven_63.csv\n",
      "Skipping (already exists): concreto_seven_66.csv\n",
      "Skipping (already exists): concreto_seven_9.csv\n",
      "Skipping (already exists): concreto_solar_0.csv\n",
      "Skipping (already exists): concreto_solar_28.csv\n",
      "Skipping (already exists): concreto_solar_34.csv\n",
      "Skipping (already exists): concreto_solar_44.csv\n",
      "Skipping (already exists): concreto_solar_52.csv\n",
      "Skipping (already exists): concreto_solar_53.csv\n",
      "Skipping (already exists): concreto_solar_61.csv\n",
      "Skipping (already exists): concreto_solar_66.csv\n",
      "Skipping (already exists): concreto_solar_7.csv\n",
      "Skipping (already exists): concreto_solar_77.csv\n",
      "Skipping (already exists): concreto_solar_2_estoa_15.csv\n",
      "Skipping (already exists): concreto_solar_2_estoa_19.csv\n",
      "Skipping (already exists): concreto_solar_2_estoa_2.csv\n",
      "Skipping (already exists): concreto_solar_2_estoa_21.csv\n",
      "Skipping (already exists): concreto_solar_2_estoa_29.csv\n",
      "Skipping (already exists): concreto_solar_2_estoa_36.csv\n",
      "Skipping (already exists): concreto_solar_2_estoa_38.csv\n",
      "Skipping (already exists): concreto_solar_2_estoa_43.csv\n",
      "Skipping (already exists): concreto_solar_2_estoa_55.csv\n",
      "Skipping (already exists): concreto_solar_2_estoa_62.csv\n",
      "Skipping (already exists): concreto_solar_3_estoa_0.csv\n",
      "Skipping (already exists): concreto_solar_3_estoa_18.csv\n",
      "Skipping (already exists): concreto_solar_3_estoa_23.csv\n",
      "Skipping (already exists): concreto_solar_3_estoa_26.csv\n",
      "Skipping (already exists): concreto_solar_3_estoa_35.csv\n",
      "Skipping (already exists): concreto_solar_3_estoa_58.csv\n",
      "Skipping (already exists): concreto_solar_3_estoa_62.csv\n",
      "Skipping (already exists): concreto_solar_3_estoa_71.csv\n",
      "Skipping (already exists): concreto_solar_3_estoa_72.csv\n",
      "Skipping (already exists): concreto_solar_3_estoa_8.csv\n",
      "\n",
      "================================================================================\n",
      "All files processed!\n",
      "Successful: 100/100\n",
      "Failed: 0/100\n",
      "================================================================================\n"
     ]
    }
   ],
   "source": [
    "base_path = r'C:\\Users\\USER\\Downloads\\concreto'\n",
    "output_base = r'C:\\Users\\USER\\PEF\\Terrain-Traversability-Analysis\\concreto_features'\n",
    "class_label = 'concreto'\n",
    "\n",
    "# Create output directory\n",
    "os.makedirs(output_base, exist_ok=True)\n",
    "\n",
    "# Get all CSV files\n",
    "csv_files = glob.glob(os.path.join(base_path, '**', '*.csv'), recursive=True)\n",
    "\n",
    "print(\"=\"*80)\n",
    "print(f\"Found {len(csv_files)} CSV files\")\n",
    "print(\"=\"*80)\n",
    "\n",
    "# Track progress and errors\n",
    "successful = 0\n",
    "failed = 0\n",
    "errors = []\n",
    "\n",
    "for csv_file in tqdm(csv_files, desc=\"Processing files\", unit=\"file\"):\n",
    "    filename = os.path.basename(csv_file)\n",
    "    \n",
    "    # Create output filename\n",
    "    output_filename = filename.replace('.csv', '_features.csv')\n",
    "    output_path = os.path.join(output_base, output_filename)\n",
    "    \n",
    "    # Skip if already processed\n",
    "    if os.path.exists(output_path):\n",
    "        print(f\"Skipping (already exists): {filename}\")\n",
    "        successful += 1\n",
    "        continue\n",
    "    \n",
    "    print(f\"Processing: {filename}\")\n",
    "    \n",
    "    try:\n",
    "        df_features = process_dataframe(csv_file, output_path, class_label)\n",
    "        successful += 1\n",
    "        print(f\"Completed: {filename}\")\n",
    "        \n",
    "        # Free memory after each file\n",
    "        del df_features\n",
    "        gc.collect()\n",
    "        \n",
    "    except Exception as e:\n",
    "        failed += 1\n",
    "        error_msg = f\"{filename}: {str(e)}\"\n",
    "        errors.append(error_msg)\n",
    "        print(f\"Error: {e}\")\n",
    "\n",
    "# Summary\n",
    "print(\"\\n\" + \"=\"*80)\n",
    "print(f\"All files processed!\")\n",
    "print(f\"Successful: {successful}/{len(csv_files)}\")\n",
    "print(f\"Failed: {failed}/{len(csv_files)}\")\n",
    "\n",
    "if errors:\n",
    "    print(\"\\nFailed files:\")\n",
    "    for error in errors:\n",
    "        print(f\"  - {error}\")\n",
    "        \n",
    "print(\"=\"*80)\n",
    "\n",
    "# Save error log if any\n",
    "if errors:\n",
    "    error_log_path = os.path.join(output_base, 'processing_errors.txt')\n",
    "    with open(error_log_path, 'w') as f:\n",
    "        f.write(\"Processing Errors\\n\")\n",
    "        f.write(\"=\"*80 + \"\\n\\n\")\n",
    "        for error in errors:\n",
    "            f.write(f\"{error}\\n\")\n",
    "    print(f\"\\nError log saved to: {error_log_path}\")"
   ]
  },
  {
   "cell_type": "code",
   "execution_count": 5,
   "id": "0a17f23b",
   "metadata": {},
   "outputs": [
    {
     "name": "stdout",
     "output_type": "stream",
     "text": [
      "================================================================================\n",
      "Found 70 CSV files\n",
      "================================================================================\n"
     ]
    },
    {
     "data": {
      "application/vnd.jupyter.widget-view+json": {
       "model_id": "cc968467e1af4565a1bb3bc4963464eb",
       "version_major": 2,
       "version_minor": 0
      },
      "text/plain": [
       "Processing files:   0%|          | 0/70 [00:00<?, ?file/s]"
      ]
     },
     "metadata": {},
     "output_type": "display_data"
    },
    {
     "name": "stdout",
     "output_type": "stream",
     "text": [
      "Skipping (already exists): grava_estacionamiento_ccu_16.csv\n",
      "Skipping (already exists): grava_estacionamiento_ccu_19.csv\n",
      "Skipping (already exists): grava_estacionamiento_ccu_22.csv\n",
      "Skipping (already exists): grava_estacionamiento_ccu_26.csv\n",
      "Skipping (already exists): grava_estacionamiento_ccu_30.csv\n",
      "Skipping (already exists): grava_estacionamiento_ccu_34.csv\n",
      "Skipping (already exists): grava_estacionamiento_ccu_40.csv\n",
      "Skipping (already exists): grava_estacionamiento_ccu_45.csv\n",
      "Skipping (already exists): grava_estacionamiento_ccu_61.csv\n",
      "Skipping (already exists): grava_estacionamiento_ccu_9.csv\n",
      "Skipping (already exists): grava_estacionamiento_ccu_2_0.csv\n",
      "Skipping (already exists): grava_estacionamiento_ccu_2_19.csv\n",
      "Skipping (already exists): grava_estacionamiento_ccu_2_2.csv\n",
      "Skipping (already exists): grava_estacionamiento_ccu_2_22.csv\n",
      "Skipping (already exists): grava_estacionamiento_ccu_2_28.csv\n",
      "Skipping (already exists): grava_estacionamiento_ccu_2_48.csv\n",
      "Skipping (already exists): grava_estacionamiento_ccu_2_58.csv\n",
      "Skipping (already exists): grava_estacionamiento_ccu_2_64.csv\n",
      "Skipping (already exists): grava_estacionamiento_ccu_2_7.csv\n",
      "Skipping (already exists): grava_estacionamiento_ccu_2_75.csv\n",
      "Skipping (already exists): grava_estacionamiento_ccu_3_10.csv\n",
      "Skipping (already exists): grava_estacionamiento_ccu_3_17.csv\n",
      "Skipping (already exists): grava_estacionamiento_ccu_3_19.csv\n",
      "Skipping (already exists): grava_estacionamiento_ccu_3_26.csv\n",
      "Skipping (already exists): grava_estacionamiento_ccu_3_27.csv\n",
      "Skipping (already exists): grava_estacionamiento_ccu_3_33.csv\n",
      "Skipping (already exists): grava_estacionamiento_ccu_3_40.csv\n",
      "Skipping (already exists): grava_estacionamiento_ccu_3_44.csv\n",
      "Skipping (already exists): grava_estacionamiento_ccu_3_49.csv\n",
      "Skipping (already exists): grava_estacionamiento_ccu_3_62.csv\n",
      "Skipping (already exists): grava_estacionamiento_ccu_4_15.csv\n",
      "Skipping (already exists): grava_estacionamiento_ccu_4_19.csv\n",
      "Skipping (already exists): grava_estacionamiento_ccu_4_2.csv\n",
      "Skipping (already exists): grava_estacionamiento_ccu_4_20.csv\n",
      "Skipping (already exists): grava_estacionamiento_ccu_4_24.csv\n",
      "Skipping (already exists): grava_estacionamiento_ccu_4_34.csv\n",
      "Skipping (already exists): grava_estacionamiento_ccu_4_37.csv\n",
      "Skipping (already exists): grava_estacionamiento_ccu_4_38.csv\n",
      "Skipping (already exists): grava_estacionamiento_ccu_4_56.csv\n",
      "Processing: grava_estacionamiento_ccu_4_72.csv\n",
      "Processing 24,783 points with label 'grava'...\n"
     ]
    },
    {
     "data": {
      "application/vnd.jupyter.widget-view+json": {
       "model_id": "a6e932f9850241448df19a16de27d24c",
       "version_major": 2,
       "version_minor": 0
      },
      "text/plain": [
       "  0%|          | 0/24783 [00:00<?, ?it/s]"
      ]
     },
     "metadata": {},
     "output_type": "display_data"
    },
    {
     "name": "stdout",
     "output_type": "stream",
     "text": [
      "\n",
      "Processing complete: (24783, 13)\n",
      "Saved to: C:\\Users\\USER\\PEF\\Terrain-Traversability-Analysis\\grava_features\\grava_estacionamiento_ccu_4_72_features.csv\n",
      "Completed: grava_estacionamiento_ccu_4_72.csv\n",
      "Processing: grava_estacionamiento_ccu_5_38.csv\n",
      "Processing 24,888 points with label 'grava'...\n"
     ]
    },
    {
     "data": {
      "application/vnd.jupyter.widget-view+json": {
       "model_id": "c0bed64d65774b01b4a613c0022b86a9",
       "version_major": 2,
       "version_minor": 0
      },
      "text/plain": [
       "  0%|          | 0/24888 [00:00<?, ?it/s]"
      ]
     },
     "metadata": {},
     "output_type": "display_data"
    },
    {
     "name": "stdout",
     "output_type": "stream",
     "text": [
      "\n",
      "Processing complete: (24888, 13)\n",
      "Saved to: C:\\Users\\USER\\PEF\\Terrain-Traversability-Analysis\\grava_features\\grava_estacionamiento_ccu_5_38_features.csv\n",
      "Completed: grava_estacionamiento_ccu_5_38.csv\n",
      "Processing: grava_estacionamiento_ccu_5_40.csv\n",
      "Processing 24,894 points with label 'grava'...\n"
     ]
    },
    {
     "data": {
      "application/vnd.jupyter.widget-view+json": {
       "model_id": "89654bde826c4bc78b9b1ea526ec0760",
       "version_major": 2,
       "version_minor": 0
      },
      "text/plain": [
       "  0%|          | 0/24894 [00:00<?, ?it/s]"
      ]
     },
     "metadata": {},
     "output_type": "display_data"
    },
    {
     "name": "stdout",
     "output_type": "stream",
     "text": [
      "\n",
      "Processing complete: (24894, 13)\n",
      "Saved to: C:\\Users\\USER\\PEF\\Terrain-Traversability-Analysis\\grava_features\\grava_estacionamiento_ccu_5_40_features.csv\n",
      "Completed: grava_estacionamiento_ccu_5_40.csv\n",
      "Processing: grava_estacionamiento_ccu_5_42.csv\n",
      "Processing 24,882 points with label 'grava'...\n"
     ]
    },
    {
     "data": {
      "application/vnd.jupyter.widget-view+json": {
       "model_id": "eab49ad21fca42bc99a7c134834e83a5",
       "version_major": 2,
       "version_minor": 0
      },
      "text/plain": [
       "  0%|          | 0/24882 [00:00<?, ?it/s]"
      ]
     },
     "metadata": {},
     "output_type": "display_data"
    },
    {
     "name": "stdout",
     "output_type": "stream",
     "text": [
      "\n",
      "Processing complete: (24882, 13)\n",
      "Saved to: C:\\Users\\USER\\PEF\\Terrain-Traversability-Analysis\\grava_features\\grava_estacionamiento_ccu_5_42_features.csv\n",
      "Completed: grava_estacionamiento_ccu_5_42.csv\n",
      "Processing: grava_estacionamiento_ccu_5_44.csv\n",
      "Processing 24,885 points with label 'grava'...\n"
     ]
    },
    {
     "data": {
      "application/vnd.jupyter.widget-view+json": {
       "model_id": "a2ac7eb783a940e799d91bbbd59159cd",
       "version_major": 2,
       "version_minor": 0
      },
      "text/plain": [
       "  0%|          | 0/24885 [00:00<?, ?it/s]"
      ]
     },
     "metadata": {},
     "output_type": "display_data"
    },
    {
     "name": "stdout",
     "output_type": "stream",
     "text": [
      "\n",
      "Processing complete: (24885, 13)\n",
      "Saved to: C:\\Users\\USER\\PEF\\Terrain-Traversability-Analysis\\grava_features\\grava_estacionamiento_ccu_5_44_features.csv\n",
      "Completed: grava_estacionamiento_ccu_5_44.csv\n",
      "Processing: grava_estacionamiento_ccu_5_47.csv\n",
      "Processing 24,888 points with label 'grava'...\n"
     ]
    },
    {
     "data": {
      "application/vnd.jupyter.widget-view+json": {
       "model_id": "b0aa5952e09949ff824ffcdbb34a7ffd",
       "version_major": 2,
       "version_minor": 0
      },
      "text/plain": [
       "  0%|          | 0/24888 [00:00<?, ?it/s]"
      ]
     },
     "metadata": {},
     "output_type": "display_data"
    },
    {
     "name": "stdout",
     "output_type": "stream",
     "text": [
      "\n",
      "Processing complete: (24888, 13)\n",
      "Saved to: C:\\Users\\USER\\PEF\\Terrain-Traversability-Analysis\\grava_features\\grava_estacionamiento_ccu_5_47_features.csv\n",
      "Completed: grava_estacionamiento_ccu_5_47.csv\n",
      "Processing: grava_estacionamiento_ccu_5_54.csv\n",
      "Processing 24,879 points with label 'grava'...\n"
     ]
    },
    {
     "data": {
      "application/vnd.jupyter.widget-view+json": {
       "model_id": "013f0b64e43f4e0e8ed0c455143eb96a",
       "version_major": 2,
       "version_minor": 0
      },
      "text/plain": [
       "  0%|          | 0/24879 [00:00<?, ?it/s]"
      ]
     },
     "metadata": {},
     "output_type": "display_data"
    },
    {
     "name": "stdout",
     "output_type": "stream",
     "text": [
      "\n",
      "Processing complete: (24879, 13)\n",
      "Saved to: C:\\Users\\USER\\PEF\\Terrain-Traversability-Analysis\\grava_features\\grava_estacionamiento_ccu_5_54_features.csv\n",
      "Completed: grava_estacionamiento_ccu_5_54.csv\n",
      "Processing: grava_estacionamiento_ccu_5_61.csv\n",
      "Processing 24,882 points with label 'grava'...\n"
     ]
    },
    {
     "data": {
      "application/vnd.jupyter.widget-view+json": {
       "model_id": "ede86a5f2f6f408cad55cf0f8f294591",
       "version_major": 2,
       "version_minor": 0
      },
      "text/plain": [
       "  0%|          | 0/24882 [00:00<?, ?it/s]"
      ]
     },
     "metadata": {},
     "output_type": "display_data"
    },
    {
     "name": "stdout",
     "output_type": "stream",
     "text": [
      "\n",
      "Processing complete: (24882, 13)\n",
      "Saved to: C:\\Users\\USER\\PEF\\Terrain-Traversability-Analysis\\grava_features\\grava_estacionamiento_ccu_5_61_features.csv\n",
      "Completed: grava_estacionamiento_ccu_5_61.csv\n",
      "Processing: grava_estacionamiento_ccu_5_66.csv\n",
      "Processing 24,881 points with label 'grava'...\n"
     ]
    },
    {
     "data": {
      "application/vnd.jupyter.widget-view+json": {
       "model_id": "e533e24f82ec48b09cb9e5758c8bf88b",
       "version_major": 2,
       "version_minor": 0
      },
      "text/plain": [
       "  0%|          | 0/24881 [00:00<?, ?it/s]"
      ]
     },
     "metadata": {},
     "output_type": "display_data"
    },
    {
     "name": "stdout",
     "output_type": "stream",
     "text": [
      "\n",
      "Processing complete: (24881, 13)\n",
      "Saved to: C:\\Users\\USER\\PEF\\Terrain-Traversability-Analysis\\grava_features\\grava_estacionamiento_ccu_5_66_features.csv\n",
      "Completed: grava_estacionamiento_ccu_5_66.csv\n",
      "Processing: grava_estacionamiento_ccu_5_69.csv\n",
      "Processing 24,886 points with label 'grava'...\n"
     ]
    },
    {
     "data": {
      "application/vnd.jupyter.widget-view+json": {
       "model_id": "5ef033d4edfa413e8d0145208f4cb837",
       "version_major": 2,
       "version_minor": 0
      },
      "text/plain": [
       "  0%|          | 0/24886 [00:00<?, ?it/s]"
      ]
     },
     "metadata": {},
     "output_type": "display_data"
    },
    {
     "name": "stdout",
     "output_type": "stream",
     "text": [
      "\n",
      "Processing complete: (24886, 13)\n",
      "Saved to: C:\\Users\\USER\\PEF\\Terrain-Traversability-Analysis\\grava_features\\grava_estacionamiento_ccu_5_69_features.csv\n",
      "Completed: grava_estacionamiento_ccu_5_69.csv\n",
      "Processing: grava_estacionamiento_ccu_5_9.csv\n",
      "Processing 24,888 points with label 'grava'...\n"
     ]
    },
    {
     "data": {
      "application/vnd.jupyter.widget-view+json": {
       "model_id": "d4cfc919fc31401c9a60163b0751de63",
       "version_major": 2,
       "version_minor": 0
      },
      "text/plain": [
       "  0%|          | 0/24888 [00:00<?, ?it/s]"
      ]
     },
     "metadata": {},
     "output_type": "display_data"
    },
    {
     "name": "stdout",
     "output_type": "stream",
     "text": [
      "\n",
      "Processing complete: (24888, 13)\n",
      "Saved to: C:\\Users\\USER\\PEF\\Terrain-Traversability-Analysis\\grava_features\\grava_estacionamiento_ccu_5_9_features.csv\n",
      "Completed: grava_estacionamiento_ccu_5_9.csv\n",
      "Processing: grava_estacionamiento_ccu_6_12.csv\n",
      "Processing 24,689 points with label 'grava'...\n"
     ]
    },
    {
     "data": {
      "application/vnd.jupyter.widget-view+json": {
       "model_id": "5e0cc7b71b9a4bcfbfd26edd791beb72",
       "version_major": 2,
       "version_minor": 0
      },
      "text/plain": [
       "  0%|          | 0/24689 [00:00<?, ?it/s]"
      ]
     },
     "metadata": {},
     "output_type": "display_data"
    },
    {
     "name": "stdout",
     "output_type": "stream",
     "text": [
      "\n",
      "Processing complete: (24689, 13)\n",
      "Saved to: C:\\Users\\USER\\PEF\\Terrain-Traversability-Analysis\\grava_features\\grava_estacionamiento_ccu_6_12_features.csv\n",
      "Completed: grava_estacionamiento_ccu_6_12.csv\n",
      "Processing: grava_estacionamiento_ccu_6_33.csv\n",
      "Processing 24,695 points with label 'grava'...\n"
     ]
    },
    {
     "data": {
      "application/vnd.jupyter.widget-view+json": {
       "model_id": "b3307749ea3d4b0581754afd8ff53a6e",
       "version_major": 2,
       "version_minor": 0
      },
      "text/plain": [
       "  0%|          | 0/24695 [00:00<?, ?it/s]"
      ]
     },
     "metadata": {},
     "output_type": "display_data"
    },
    {
     "name": "stdout",
     "output_type": "stream",
     "text": [
      "\n",
      "Processing complete: (24695, 13)\n",
      "Saved to: C:\\Users\\USER\\PEF\\Terrain-Traversability-Analysis\\grava_features\\grava_estacionamiento_ccu_6_33_features.csv\n",
      "Completed: grava_estacionamiento_ccu_6_33.csv\n",
      "Processing: grava_estacionamiento_ccu_6_35.csv\n",
      "Processing 24,694 points with label 'grava'...\n"
     ]
    },
    {
     "data": {
      "application/vnd.jupyter.widget-view+json": {
       "model_id": "b2eca3b738e848d4b2ea5aa5b244916d",
       "version_major": 2,
       "version_minor": 0
      },
      "text/plain": [
       "  0%|          | 0/24694 [00:00<?, ?it/s]"
      ]
     },
     "metadata": {},
     "output_type": "display_data"
    },
    {
     "name": "stdout",
     "output_type": "stream",
     "text": [
      "\n",
      "Processing complete: (24694, 13)\n",
      "Saved to: C:\\Users\\USER\\PEF\\Terrain-Traversability-Analysis\\grava_features\\grava_estacionamiento_ccu_6_35_features.csv\n",
      "Completed: grava_estacionamiento_ccu_6_35.csv\n",
      "Processing: grava_estacionamiento_ccu_6_40.csv\n",
      "Processing 24,687 points with label 'grava'...\n"
     ]
    },
    {
     "data": {
      "application/vnd.jupyter.widget-view+json": {
       "model_id": "34a0474a0a4045cb949c6c26cf734985",
       "version_major": 2,
       "version_minor": 0
      },
      "text/plain": [
       "  0%|          | 0/24687 [00:00<?, ?it/s]"
      ]
     },
     "metadata": {},
     "output_type": "display_data"
    },
    {
     "name": "stdout",
     "output_type": "stream",
     "text": [
      "\n",
      "Processing complete: (24687, 13)\n",
      "Saved to: C:\\Users\\USER\\PEF\\Terrain-Traversability-Analysis\\grava_features\\grava_estacionamiento_ccu_6_40_features.csv\n",
      "Completed: grava_estacionamiento_ccu_6_40.csv\n",
      "Processing: grava_estacionamiento_ccu_6_44.csv\n",
      "Processing 24,687 points with label 'grava'...\n"
     ]
    },
    {
     "data": {
      "application/vnd.jupyter.widget-view+json": {
       "model_id": "0a92a710a4784b0b8bfb64cbf4db2395",
       "version_major": 2,
       "version_minor": 0
      },
      "text/plain": [
       "  0%|          | 0/24687 [00:00<?, ?it/s]"
      ]
     },
     "metadata": {},
     "output_type": "display_data"
    },
    {
     "name": "stdout",
     "output_type": "stream",
     "text": [
      "\n",
      "Processing complete: (24687, 13)\n",
      "Saved to: C:\\Users\\USER\\PEF\\Terrain-Traversability-Analysis\\grava_features\\grava_estacionamiento_ccu_6_44_features.csv\n",
      "Completed: grava_estacionamiento_ccu_6_44.csv\n",
      "Processing: grava_estacionamiento_ccu_6_53.csv\n",
      "Processing 24,692 points with label 'grava'...\n"
     ]
    },
    {
     "data": {
      "application/vnd.jupyter.widget-view+json": {
       "model_id": "2d7b9aaad35146238054f8ab100e9160",
       "version_major": 2,
       "version_minor": 0
      },
      "text/plain": [
       "  0%|          | 0/24692 [00:00<?, ?it/s]"
      ]
     },
     "metadata": {},
     "output_type": "display_data"
    },
    {
     "name": "stdout",
     "output_type": "stream",
     "text": [
      "\n",
      "Processing complete: (24692, 13)\n",
      "Saved to: C:\\Users\\USER\\PEF\\Terrain-Traversability-Analysis\\grava_features\\grava_estacionamiento_ccu_6_53_features.csv\n",
      "Completed: grava_estacionamiento_ccu_6_53.csv\n",
      "Processing: grava_estacionamiento_ccu_6_6.csv\n",
      "Processing 24,679 points with label 'grava'...\n"
     ]
    },
    {
     "data": {
      "application/vnd.jupyter.widget-view+json": {
       "model_id": "ddfe928db2114926ad71e3aca43c20c4",
       "version_major": 2,
       "version_minor": 0
      },
      "text/plain": [
       "  0%|          | 0/24679 [00:00<?, ?it/s]"
      ]
     },
     "metadata": {},
     "output_type": "display_data"
    },
    {
     "name": "stdout",
     "output_type": "stream",
     "text": [
      "\n",
      "Processing complete: (24679, 13)\n",
      "Saved to: C:\\Users\\USER\\PEF\\Terrain-Traversability-Analysis\\grava_features\\grava_estacionamiento_ccu_6_6_features.csv\n",
      "Completed: grava_estacionamiento_ccu_6_6.csv\n",
      "Processing: grava_estacionamiento_ccu_6_67.csv\n",
      "Processing 24,680 points with label 'grava'...\n"
     ]
    },
    {
     "data": {
      "application/vnd.jupyter.widget-view+json": {
       "model_id": "34b80b840fe74a31b1b53a43a14d6307",
       "version_major": 2,
       "version_minor": 0
      },
      "text/plain": [
       "  0%|          | 0/24680 [00:00<?, ?it/s]"
      ]
     },
     "metadata": {},
     "output_type": "display_data"
    },
    {
     "name": "stdout",
     "output_type": "stream",
     "text": [
      "\n",
      "Processing complete: (24680, 13)\n",
      "Saved to: C:\\Users\\USER\\PEF\\Terrain-Traversability-Analysis\\grava_features\\grava_estacionamiento_ccu_6_67_features.csv\n",
      "Completed: grava_estacionamiento_ccu_6_67.csv\n",
      "Processing: grava_estacionamiento_ccu_6_7.csv\n",
      "Processing 24,696 points with label 'grava'...\n"
     ]
    },
    {
     "data": {
      "application/vnd.jupyter.widget-view+json": {
       "model_id": "deb9e66392044d118a8890e9e74e5b86",
       "version_major": 2,
       "version_minor": 0
      },
      "text/plain": [
       "  0%|          | 0/24696 [00:00<?, ?it/s]"
      ]
     },
     "metadata": {},
     "output_type": "display_data"
    },
    {
     "name": "stdout",
     "output_type": "stream",
     "text": [
      "\n",
      "Processing complete: (24696, 13)\n",
      "Saved to: C:\\Users\\USER\\PEF\\Terrain-Traversability-Analysis\\grava_features\\grava_estacionamiento_ccu_6_7_features.csv\n",
      "Completed: grava_estacionamiento_ccu_6_7.csv\n",
      "Processing: grava_estacionamiento_ccu_6_74.csv\n",
      "Processing 24,685 points with label 'grava'...\n"
     ]
    },
    {
     "data": {
      "application/vnd.jupyter.widget-view+json": {
       "model_id": "282f029bede5411dbd106af2b806e75c",
       "version_major": 2,
       "version_minor": 0
      },
      "text/plain": [
       "  0%|          | 0/24685 [00:00<?, ?it/s]"
      ]
     },
     "metadata": {},
     "output_type": "display_data"
    },
    {
     "name": "stdout",
     "output_type": "stream",
     "text": [
      "\n",
      "Processing complete: (24685, 13)\n",
      "Saved to: C:\\Users\\USER\\PEF\\Terrain-Traversability-Analysis\\grava_features\\grava_estacionamiento_ccu_6_74_features.csv\n",
      "Completed: grava_estacionamiento_ccu_6_74.csv\n",
      "Processing: grava_estacionamiento_ccu_7_22.csv\n",
      "Processing 19,890 points with label 'grava'...\n"
     ]
    },
    {
     "data": {
      "application/vnd.jupyter.widget-view+json": {
       "model_id": "ea031e176bf0476fa55a0237ced99ab1",
       "version_major": 2,
       "version_minor": 0
      },
      "text/plain": [
       "  0%|          | 0/19890 [00:00<?, ?it/s]"
      ]
     },
     "metadata": {},
     "output_type": "display_data"
    },
    {
     "name": "stdout",
     "output_type": "stream",
     "text": [
      "\n",
      "Processing complete: (19890, 13)\n",
      "Saved to: C:\\Users\\USER\\PEF\\Terrain-Traversability-Analysis\\grava_features\\grava_estacionamiento_ccu_7_22_features.csv\n",
      "Completed: grava_estacionamiento_ccu_7_22.csv\n",
      "Processing: grava_estacionamiento_ccu_7_29.csv\n",
      "Processing 19,885 points with label 'grava'...\n"
     ]
    },
    {
     "data": {
      "application/vnd.jupyter.widget-view+json": {
       "model_id": "e39e8f12defc4e8494ab18948723140f",
       "version_major": 2,
       "version_minor": 0
      },
      "text/plain": [
       "  0%|          | 0/19885 [00:00<?, ?it/s]"
      ]
     },
     "metadata": {},
     "output_type": "display_data"
    },
    {
     "name": "stdout",
     "output_type": "stream",
     "text": [
      "\n",
      "Processing complete: (19885, 13)\n",
      "Saved to: C:\\Users\\USER\\PEF\\Terrain-Traversability-Analysis\\grava_features\\grava_estacionamiento_ccu_7_29_features.csv\n",
      "Completed: grava_estacionamiento_ccu_7_29.csv\n",
      "Processing: grava_estacionamiento_ccu_7_33.csv\n",
      "Processing 19,884 points with label 'grava'...\n"
     ]
    },
    {
     "data": {
      "application/vnd.jupyter.widget-view+json": {
       "model_id": "122deb6b440d4416a81a7daf577a58dc",
       "version_major": 2,
       "version_minor": 0
      },
      "text/plain": [
       "  0%|          | 0/19884 [00:00<?, ?it/s]"
      ]
     },
     "metadata": {},
     "output_type": "display_data"
    },
    {
     "name": "stdout",
     "output_type": "stream",
     "text": [
      "\n",
      "Processing complete: (19884, 13)\n",
      "Saved to: C:\\Users\\USER\\PEF\\Terrain-Traversability-Analysis\\grava_features\\grava_estacionamiento_ccu_7_33_features.csv\n",
      "Completed: grava_estacionamiento_ccu_7_33.csv\n",
      "Processing: grava_estacionamiento_ccu_7_43.csv\n",
      "Processing 19,887 points with label 'grava'...\n"
     ]
    },
    {
     "data": {
      "application/vnd.jupyter.widget-view+json": {
       "model_id": "fc704e4ecc024a51ac04e6f9d3560a76",
       "version_major": 2,
       "version_minor": 0
      },
      "text/plain": [
       "  0%|          | 0/19887 [00:00<?, ?it/s]"
      ]
     },
     "metadata": {},
     "output_type": "display_data"
    },
    {
     "name": "stdout",
     "output_type": "stream",
     "text": [
      "\n",
      "Processing complete: (19887, 13)\n",
      "Saved to: C:\\Users\\USER\\PEF\\Terrain-Traversability-Analysis\\grava_features\\grava_estacionamiento_ccu_7_43_features.csv\n",
      "Completed: grava_estacionamiento_ccu_7_43.csv\n",
      "Processing: grava_estacionamiento_ccu_7_46.csv\n",
      "Processing 19,880 points with label 'grava'...\n"
     ]
    },
    {
     "data": {
      "application/vnd.jupyter.widget-view+json": {
       "model_id": "81223d221ca04fc4ad164a6eb3a29321",
       "version_major": 2,
       "version_minor": 0
      },
      "text/plain": [
       "  0%|          | 0/19880 [00:00<?, ?it/s]"
      ]
     },
     "metadata": {},
     "output_type": "display_data"
    },
    {
     "name": "stdout",
     "output_type": "stream",
     "text": [
      "\n",
      "Processing complete: (19880, 13)\n",
      "Saved to: C:\\Users\\USER\\PEF\\Terrain-Traversability-Analysis\\grava_features\\grava_estacionamiento_ccu_7_46_features.csv\n",
      "Completed: grava_estacionamiento_ccu_7_46.csv\n",
      "Processing: grava_estacionamiento_ccu_7_50.csv\n",
      "Processing 19,886 points with label 'grava'...\n"
     ]
    },
    {
     "data": {
      "application/vnd.jupyter.widget-view+json": {
       "model_id": "6e10a6a010354cc9ae2d1c62b1ac08f5",
       "version_major": 2,
       "version_minor": 0
      },
      "text/plain": [
       "  0%|          | 0/19886 [00:00<?, ?it/s]"
      ]
     },
     "metadata": {},
     "output_type": "display_data"
    },
    {
     "name": "stdout",
     "output_type": "stream",
     "text": [
      "\n",
      "Processing complete: (19886, 13)\n",
      "Saved to: C:\\Users\\USER\\PEF\\Terrain-Traversability-Analysis\\grava_features\\grava_estacionamiento_ccu_7_50_features.csv\n",
      "Completed: grava_estacionamiento_ccu_7_50.csv\n",
      "Processing: grava_estacionamiento_ccu_7_55.csv\n",
      "Processing 19,882 points with label 'grava'...\n"
     ]
    },
    {
     "data": {
      "application/vnd.jupyter.widget-view+json": {
       "model_id": "16c40ae78b32431c8bb44ed52da1eda1",
       "version_major": 2,
       "version_minor": 0
      },
      "text/plain": [
       "  0%|          | 0/19882 [00:00<?, ?it/s]"
      ]
     },
     "metadata": {},
     "output_type": "display_data"
    },
    {
     "name": "stdout",
     "output_type": "stream",
     "text": [
      "\n",
      "Processing complete: (19882, 13)\n",
      "Saved to: C:\\Users\\USER\\PEF\\Terrain-Traversability-Analysis\\grava_features\\grava_estacionamiento_ccu_7_55_features.csv\n",
      "Completed: grava_estacionamiento_ccu_7_55.csv\n",
      "Processing: grava_estacionamiento_ccu_7_60.csv\n",
      "Processing 19,887 points with label 'grava'...\n"
     ]
    },
    {
     "data": {
      "application/vnd.jupyter.widget-view+json": {
       "model_id": "b07f7b2a90cf4a64aa5969dfa9b52642",
       "version_major": 2,
       "version_minor": 0
      },
      "text/plain": [
       "  0%|          | 0/19887 [00:00<?, ?it/s]"
      ]
     },
     "metadata": {},
     "output_type": "display_data"
    },
    {
     "name": "stdout",
     "output_type": "stream",
     "text": [
      "\n",
      "Processing complete: (19887, 13)\n",
      "Saved to: C:\\Users\\USER\\PEF\\Terrain-Traversability-Analysis\\grava_features\\grava_estacionamiento_ccu_7_60_features.csv\n",
      "Completed: grava_estacionamiento_ccu_7_60.csv\n",
      "Processing: grava_estacionamiento_ccu_7_62.csv\n",
      "Processing 19,879 points with label 'grava'...\n"
     ]
    },
    {
     "data": {
      "application/vnd.jupyter.widget-view+json": {
       "model_id": "829de5bef9f043428fbafcf900d75127",
       "version_major": 2,
       "version_minor": 0
      },
      "text/plain": [
       "  0%|          | 0/19879 [00:00<?, ?it/s]"
      ]
     },
     "metadata": {},
     "output_type": "display_data"
    },
    {
     "name": "stdout",
     "output_type": "stream",
     "text": [
      "\n",
      "Processing complete: (19879, 13)\n",
      "Saved to: C:\\Users\\USER\\PEF\\Terrain-Traversability-Analysis\\grava_features\\grava_estacionamiento_ccu_7_62_features.csv\n",
      "Completed: grava_estacionamiento_ccu_7_62.csv\n",
      "Processing: grava_estacionamiento_ccu_7_66.csv\n",
      "Processing 19,873 points with label 'grava'...\n"
     ]
    },
    {
     "data": {
      "application/vnd.jupyter.widget-view+json": {
       "model_id": "215bf2a86c614a6098bdc57359ba0949",
       "version_major": 2,
       "version_minor": 0
      },
      "text/plain": [
       "  0%|          | 0/19873 [00:00<?, ?it/s]"
      ]
     },
     "metadata": {},
     "output_type": "display_data"
    },
    {
     "name": "stdout",
     "output_type": "stream",
     "text": [
      "\n",
      "Processing complete: (19873, 13)\n",
      "Saved to: C:\\Users\\USER\\PEF\\Terrain-Traversability-Analysis\\grava_features\\grava_estacionamiento_ccu_7_66_features.csv\n",
      "Completed: grava_estacionamiento_ccu_7_66.csv\n",
      "\n",
      "================================================================================\n",
      "All files processed!\n",
      "Successful: 70/70\n",
      "Failed: 0/70\n",
      "================================================================================\n"
     ]
    }
   ],
   "source": [
    "base_path = r'C:\\Users\\USER\\Downloads\\grava'\n",
    "output_base = r'C:\\Users\\USER\\PEF\\Terrain-Traversability-Analysis\\grava_features'\n",
    "class_label = 'grava'\n",
    "\n",
    "# Create output directory\n",
    "os.makedirs(output_base, exist_ok=True)\n",
    "\n",
    "# Get all CSV files\n",
    "csv_files = glob.glob(os.path.join(base_path, '**', '*.csv'), recursive=True)\n",
    "\n",
    "print(\"=\"*80)\n",
    "print(f\"Found {len(csv_files)} CSV files\")\n",
    "print(\"=\"*80)\n",
    "\n",
    "# Track progress and errors\n",
    "successful = 0\n",
    "failed = 0\n",
    "errors = []\n",
    "\n",
    "for csv_file in tqdm(csv_files, desc=\"Processing files\", unit=\"file\"):\n",
    "    filename = os.path.basename(csv_file)\n",
    "    \n",
    "    # Create output filename\n",
    "    output_filename = filename.replace('.csv', '_features.csv')\n",
    "    output_path = os.path.join(output_base, output_filename)\n",
    "    \n",
    "    # Skip if already processed\n",
    "    if os.path.exists(output_path):\n",
    "        print(f\"Skipping (already exists): {filename}\")\n",
    "        successful += 1\n",
    "        continue\n",
    "    \n",
    "    print(f\"Processing: {filename}\")\n",
    "    \n",
    "    try:\n",
    "        df_features = process_dataframe(csv_file, output_path, class_label)\n",
    "        successful += 1\n",
    "        print(f\"Completed: {filename}\")\n",
    "        \n",
    "        # Free memory after each file\n",
    "        del df_features\n",
    "        gc.collect()\n",
    "        \n",
    "    except Exception as e:\n",
    "        failed += 1\n",
    "        error_msg = f\"{filename}: {str(e)}\"\n",
    "        errors.append(error_msg)\n",
    "        print(f\"Error: {e}\")\n",
    "\n",
    "# Summary\n",
    "print(\"\\n\" + \"=\"*80)\n",
    "print(f\"All files processed!\")\n",
    "print(f\"Successful: {successful}/{len(csv_files)}\")\n",
    "print(f\"Failed: {failed}/{len(csv_files)}\")\n",
    "\n",
    "if errors:\n",
    "    print(\"\\nFailed files:\")\n",
    "    for error in errors:\n",
    "        print(f\"  - {error}\")\n",
    "        \n",
    "print(\"=\"*80)\n",
    "\n",
    "# Save error log if any\n",
    "if errors:\n",
    "    error_log_path = os.path.join(output_base, 'processing_errors.txt')\n",
    "    with open(error_log_path, 'w') as f:\n",
    "        f.write(\"Processing Errors\\n\")\n",
    "        f.write(\"=\"*80 + \"\\n\\n\")\n",
    "        for error in errors:\n",
    "            f.write(f\"{error}\\n\")\n",
    "    print(f\"\\nError log saved to: {error_log_path}\")"
   ]
  },
  {
   "cell_type": "code",
   "execution_count": 6,
   "id": "a22e6f7b",
   "metadata": {},
   "outputs": [
    {
     "name": "stdout",
     "output_type": "stream",
     "text": [
      "================================================================================\n",
      "Found 100 CSV files\n",
      "================================================================================\n"
     ]
    },
    {
     "data": {
      "application/vnd.jupyter.widget-view+json": {
       "model_id": "5f3e7f09fbd2444b868f998481fd5e33",
       "version_major": 2,
       "version_minor": 0
      },
      "text/plain": [
       "Processing files:   0%|          | 0/100 [00:00<?, ?file/s]"
      ]
     },
     "metadata": {},
     "output_type": "display_data"
    },
    {
     "name": "stdout",
     "output_type": "stream",
     "text": [
      "Processing: cancha_de_futbol_1_10.csv\n",
      "Processing 21,865 points with label 'pasto'...\n"
     ]
    },
    {
     "data": {
      "application/vnd.jupyter.widget-view+json": {
       "model_id": "f20823f02ba84e43878f01243f15f8f8",
       "version_major": 2,
       "version_minor": 0
      },
      "text/plain": [
       "  0%|          | 0/21865 [00:00<?, ?it/s]"
      ]
     },
     "metadata": {},
     "output_type": "display_data"
    },
    {
     "name": "stdout",
     "output_type": "stream",
     "text": [
      "\n",
      "Processing complete: (21865, 13)\n",
      "Saved to: C:\\Users\\USER\\PEF\\Terrain-Traversability-Analysis\\pasto_features\\cancha_de_futbol_1_10_features.csv\n",
      "Completed: cancha_de_futbol_1_10.csv\n",
      "Processing: cancha_de_futbol_1_17.csv\n",
      "Processing 21,849 points with label 'pasto'...\n"
     ]
    },
    {
     "data": {
      "application/vnd.jupyter.widget-view+json": {
       "model_id": "063364298e7c4230a86eace8c808ab29",
       "version_major": 2,
       "version_minor": 0
      },
      "text/plain": [
       "  0%|          | 0/21849 [00:00<?, ?it/s]"
      ]
     },
     "metadata": {},
     "output_type": "display_data"
    },
    {
     "name": "stdout",
     "output_type": "stream",
     "text": [
      "\n",
      "Processing complete: (21849, 13)\n",
      "Saved to: C:\\Users\\USER\\PEF\\Terrain-Traversability-Analysis\\pasto_features\\cancha_de_futbol_1_17_features.csv\n",
      "Completed: cancha_de_futbol_1_17.csv\n",
      "Processing: cancha_de_futbol_1_29.csv\n",
      "Processing 21,850 points with label 'pasto'...\n"
     ]
    },
    {
     "data": {
      "application/vnd.jupyter.widget-view+json": {
       "model_id": "c073f6e8df794b638d2ec1d7b1fda789",
       "version_major": 2,
       "version_minor": 0
      },
      "text/plain": [
       "  0%|          | 0/21850 [00:00<?, ?it/s]"
      ]
     },
     "metadata": {},
     "output_type": "display_data"
    },
    {
     "name": "stdout",
     "output_type": "stream",
     "text": [
      "\n",
      "Processing complete: (21850, 13)\n",
      "Saved to: C:\\Users\\USER\\PEF\\Terrain-Traversability-Analysis\\pasto_features\\cancha_de_futbol_1_29_features.csv\n",
      "Completed: cancha_de_futbol_1_29.csv\n",
      "Processing: cancha_de_futbol_1_39.csv\n",
      "Processing 21,850 points with label 'pasto'...\n"
     ]
    },
    {
     "data": {
      "application/vnd.jupyter.widget-view+json": {
       "model_id": "cb5c090066f746349e59ac74161049e9",
       "version_major": 2,
       "version_minor": 0
      },
      "text/plain": [
       "  0%|          | 0/21850 [00:00<?, ?it/s]"
      ]
     },
     "metadata": {},
     "output_type": "display_data"
    },
    {
     "name": "stdout",
     "output_type": "stream",
     "text": [
      "\n",
      "Processing complete: (21850, 13)\n",
      "Saved to: C:\\Users\\USER\\PEF\\Terrain-Traversability-Analysis\\pasto_features\\cancha_de_futbol_1_39_features.csv\n",
      "Completed: cancha_de_futbol_1_39.csv\n",
      "Processing: cancha_de_futbol_1_43.csv\n",
      "Processing 21,845 points with label 'pasto'...\n"
     ]
    },
    {
     "data": {
      "application/vnd.jupyter.widget-view+json": {
       "model_id": "c21030f1bffc4ab5ac502cdc0aaa8575",
       "version_major": 2,
       "version_minor": 0
      },
      "text/plain": [
       "  0%|          | 0/21845 [00:00<?, ?it/s]"
      ]
     },
     "metadata": {},
     "output_type": "display_data"
    },
    {
     "name": "stdout",
     "output_type": "stream",
     "text": [
      "\n",
      "Processing complete: (21845, 13)\n",
      "Saved to: C:\\Users\\USER\\PEF\\Terrain-Traversability-Analysis\\pasto_features\\cancha_de_futbol_1_43_features.csv\n",
      "Completed: cancha_de_futbol_1_43.csv\n",
      "Processing: cancha_de_futbol_1_5.csv\n",
      "Processing 21,853 points with label 'pasto'...\n"
     ]
    },
    {
     "data": {
      "application/vnd.jupyter.widget-view+json": {
       "model_id": "9681ccc8b5c54f838fac631337ea89ec",
       "version_major": 2,
       "version_minor": 0
      },
      "text/plain": [
       "  0%|          | 0/21853 [00:00<?, ?it/s]"
      ]
     },
     "metadata": {},
     "output_type": "display_data"
    },
    {
     "name": "stdout",
     "output_type": "stream",
     "text": [
      "\n",
      "Processing complete: (21853, 13)\n",
      "Saved to: C:\\Users\\USER\\PEF\\Terrain-Traversability-Analysis\\pasto_features\\cancha_de_futbol_1_5_features.csv\n",
      "Completed: cancha_de_futbol_1_5.csv\n",
      "Processing: cancha_de_futbol_1_54.csv\n",
      "Processing 21,845 points with label 'pasto'...\n"
     ]
    },
    {
     "data": {
      "application/vnd.jupyter.widget-view+json": {
       "model_id": "c6b78b04b49b4125a7cfea3a50ab94b8",
       "version_major": 2,
       "version_minor": 0
      },
      "text/plain": [
       "  0%|          | 0/21845 [00:00<?, ?it/s]"
      ]
     },
     "metadata": {},
     "output_type": "display_data"
    },
    {
     "name": "stdout",
     "output_type": "stream",
     "text": [
      "\n",
      "Processing complete: (21845, 13)\n",
      "Saved to: C:\\Users\\USER\\PEF\\Terrain-Traversability-Analysis\\pasto_features\\cancha_de_futbol_1_54_features.csv\n",
      "Completed: cancha_de_futbol_1_54.csv\n",
      "Processing: cancha_de_futbol_1_55.csv\n",
      "Processing 21,843 points with label 'pasto'...\n"
     ]
    },
    {
     "data": {
      "application/vnd.jupyter.widget-view+json": {
       "model_id": "e387e8931f844da58ed3463ff3bef0df",
       "version_major": 2,
       "version_minor": 0
      },
      "text/plain": [
       "  0%|          | 0/21843 [00:00<?, ?it/s]"
      ]
     },
     "metadata": {},
     "output_type": "display_data"
    },
    {
     "name": "stdout",
     "output_type": "stream",
     "text": [
      "\n",
      "Processing complete: (21843, 13)\n",
      "Saved to: C:\\Users\\USER\\PEF\\Terrain-Traversability-Analysis\\pasto_features\\cancha_de_futbol_1_55_features.csv\n",
      "Completed: cancha_de_futbol_1_55.csv\n",
      "Processing: cancha_de_futbol_1_63.csv\n",
      "Processing 21,841 points with label 'pasto'...\n"
     ]
    },
    {
     "data": {
      "application/vnd.jupyter.widget-view+json": {
       "model_id": "1ea4b7b5680b4a5c8db0fe5318451d0c",
       "version_major": 2,
       "version_minor": 0
      },
      "text/plain": [
       "  0%|          | 0/21841 [00:00<?, ?it/s]"
      ]
     },
     "metadata": {},
     "output_type": "display_data"
    },
    {
     "name": "stdout",
     "output_type": "stream",
     "text": [
      "\n",
      "Processing complete: (21841, 13)\n",
      "Saved to: C:\\Users\\USER\\PEF\\Terrain-Traversability-Analysis\\pasto_features\\cancha_de_futbol_1_63_features.csv\n",
      "Completed: cancha_de_futbol_1_63.csv\n",
      "Processing: cancha_de_futbol_1_68.csv\n",
      "Processing 21,841 points with label 'pasto'...\n"
     ]
    },
    {
     "data": {
      "application/vnd.jupyter.widget-view+json": {
       "model_id": "134314f905974cb096c45cdf68eecabd",
       "version_major": 2,
       "version_minor": 0
      },
      "text/plain": [
       "  0%|          | 0/21841 [00:00<?, ?it/s]"
      ]
     },
     "metadata": {},
     "output_type": "display_data"
    },
    {
     "name": "stdout",
     "output_type": "stream",
     "text": [
      "\n",
      "Processing complete: (21841, 13)\n",
      "Saved to: C:\\Users\\USER\\PEF\\Terrain-Traversability-Analysis\\pasto_features\\cancha_de_futbol_1_68_features.csv\n",
      "Completed: cancha_de_futbol_1_68.csv\n",
      "Processing: cancha_de_futbol_2_18.csv\n",
      "Processing 22,766 points with label 'pasto'...\n"
     ]
    },
    {
     "data": {
      "application/vnd.jupyter.widget-view+json": {
       "model_id": "cf212f5f36694f0696808a8fb01ff5bf",
       "version_major": 2,
       "version_minor": 0
      },
      "text/plain": [
       "  0%|          | 0/22766 [00:00<?, ?it/s]"
      ]
     },
     "metadata": {},
     "output_type": "display_data"
    },
    {
     "name": "stdout",
     "output_type": "stream",
     "text": [
      "\n",
      "Processing complete: (22766, 13)\n",
      "Saved to: C:\\Users\\USER\\PEF\\Terrain-Traversability-Analysis\\pasto_features\\cancha_de_futbol_2_18_features.csv\n",
      "Completed: cancha_de_futbol_2_18.csv\n",
      "Processing: cancha_de_futbol_2_2.csv\n",
      "Processing 22,773 points with label 'pasto'...\n"
     ]
    },
    {
     "data": {
      "application/vnd.jupyter.widget-view+json": {
       "model_id": "e40d19e44de344a6a72234b288fd27ed",
       "version_major": 2,
       "version_minor": 0
      },
      "text/plain": [
       "  0%|          | 0/22773 [00:00<?, ?it/s]"
      ]
     },
     "metadata": {},
     "output_type": "display_data"
    },
    {
     "name": "stdout",
     "output_type": "stream",
     "text": [
      "\n",
      "Processing complete: (22773, 13)\n",
      "Saved to: C:\\Users\\USER\\PEF\\Terrain-Traversability-Analysis\\pasto_features\\cancha_de_futbol_2_2_features.csv\n",
      "Completed: cancha_de_futbol_2_2.csv\n",
      "Processing: cancha_de_futbol_2_34.csv\n",
      "Processing 22,771 points with label 'pasto'...\n"
     ]
    },
    {
     "data": {
      "application/vnd.jupyter.widget-view+json": {
       "model_id": "77edb501258b44079fae1f350ea10838",
       "version_major": 2,
       "version_minor": 0
      },
      "text/plain": [
       "  0%|          | 0/22771 [00:00<?, ?it/s]"
      ]
     },
     "metadata": {},
     "output_type": "display_data"
    },
    {
     "name": "stdout",
     "output_type": "stream",
     "text": [
      "\n",
      "Processing complete: (22771, 13)\n",
      "Saved to: C:\\Users\\USER\\PEF\\Terrain-Traversability-Analysis\\pasto_features\\cancha_de_futbol_2_34_features.csv\n",
      "Completed: cancha_de_futbol_2_34.csv\n",
      "Processing: cancha_de_futbol_2_45.csv\n",
      "Processing 22,766 points with label 'pasto'...\n"
     ]
    },
    {
     "data": {
      "application/vnd.jupyter.widget-view+json": {
       "model_id": "e8aaae5eaa2d4f1e8fe22f71b0d5c98a",
       "version_major": 2,
       "version_minor": 0
      },
      "text/plain": [
       "  0%|          | 0/22766 [00:00<?, ?it/s]"
      ]
     },
     "metadata": {},
     "output_type": "display_data"
    },
    {
     "name": "stdout",
     "output_type": "stream",
     "text": [
      "\n",
      "Processing complete: (22766, 13)\n",
      "Saved to: C:\\Users\\USER\\PEF\\Terrain-Traversability-Analysis\\pasto_features\\cancha_de_futbol_2_45_features.csv\n",
      "Completed: cancha_de_futbol_2_45.csv\n",
      "Processing: cancha_de_futbol_2_49.csv\n",
      "Processing 22,765 points with label 'pasto'...\n"
     ]
    },
    {
     "data": {
      "application/vnd.jupyter.widget-view+json": {
       "model_id": "2876e351d8ed42a083ec84da7d9da136",
       "version_major": 2,
       "version_minor": 0
      },
      "text/plain": [
       "  0%|          | 0/22765 [00:00<?, ?it/s]"
      ]
     },
     "metadata": {},
     "output_type": "display_data"
    },
    {
     "name": "stdout",
     "output_type": "stream",
     "text": [
      "\n",
      "Processing complete: (22765, 13)\n",
      "Saved to: C:\\Users\\USER\\PEF\\Terrain-Traversability-Analysis\\pasto_features\\cancha_de_futbol_2_49_features.csv\n",
      "Completed: cancha_de_futbol_2_49.csv\n",
      "Processing: cancha_de_futbol_2_56.csv\n",
      "Processing 22,770 points with label 'pasto'...\n"
     ]
    },
    {
     "data": {
      "application/vnd.jupyter.widget-view+json": {
       "model_id": "3867751cec284e9c8ec8b9af994ba339",
       "version_major": 2,
       "version_minor": 0
      },
      "text/plain": [
       "  0%|          | 0/22770 [00:00<?, ?it/s]"
      ]
     },
     "metadata": {},
     "output_type": "display_data"
    },
    {
     "name": "stdout",
     "output_type": "stream",
     "text": [
      "\n",
      "Processing complete: (22770, 13)\n",
      "Saved to: C:\\Users\\USER\\PEF\\Terrain-Traversability-Analysis\\pasto_features\\cancha_de_futbol_2_56_features.csv\n",
      "Completed: cancha_de_futbol_2_56.csv\n",
      "Processing: cancha_de_futbol_2_63.csv\n",
      "Processing 22,752 points with label 'pasto'...\n"
     ]
    },
    {
     "data": {
      "application/vnd.jupyter.widget-view+json": {
       "model_id": "b610cb7bbaea408780e54012f448e3a7",
       "version_major": 2,
       "version_minor": 0
      },
      "text/plain": [
       "  0%|          | 0/22752 [00:00<?, ?it/s]"
      ]
     },
     "metadata": {},
     "output_type": "display_data"
    },
    {
     "name": "stdout",
     "output_type": "stream",
     "text": [
      "\n",
      "Processing complete: (22752, 13)\n",
      "Saved to: C:\\Users\\USER\\PEF\\Terrain-Traversability-Analysis\\pasto_features\\cancha_de_futbol_2_63_features.csv\n",
      "Completed: cancha_de_futbol_2_63.csv\n",
      "Processing: cancha_de_futbol_2_65.csv\n",
      "Processing 22,757 points with label 'pasto'...\n"
     ]
    },
    {
     "data": {
      "application/vnd.jupyter.widget-view+json": {
       "model_id": "99ad1d2a8b644e8482daeed38d751ece",
       "version_major": 2,
       "version_minor": 0
      },
      "text/plain": [
       "  0%|          | 0/22757 [00:00<?, ?it/s]"
      ]
     },
     "metadata": {},
     "output_type": "display_data"
    },
    {
     "name": "stdout",
     "output_type": "stream",
     "text": [
      "\n",
      "Processing complete: (22757, 13)\n",
      "Saved to: C:\\Users\\USER\\PEF\\Terrain-Traversability-Analysis\\pasto_features\\cancha_de_futbol_2_65_features.csv\n",
      "Completed: cancha_de_futbol_2_65.csv\n",
      "Processing: cancha_de_futbol_2_69.csv\n",
      "Processing 22,754 points with label 'pasto'...\n"
     ]
    },
    {
     "data": {
      "application/vnd.jupyter.widget-view+json": {
       "model_id": "53346ec7b90f435b8bd696034fee3384",
       "version_major": 2,
       "version_minor": 0
      },
      "text/plain": [
       "  0%|          | 0/22754 [00:00<?, ?it/s]"
      ]
     },
     "metadata": {},
     "output_type": "display_data"
    },
    {
     "name": "stdout",
     "output_type": "stream",
     "text": [
      "\n",
      "Processing complete: (22754, 13)\n",
      "Saved to: C:\\Users\\USER\\PEF\\Terrain-Traversability-Analysis\\pasto_features\\cancha_de_futbol_2_69_features.csv\n",
      "Completed: cancha_de_futbol_2_69.csv\n",
      "Processing: cancha_de_futbol_2_9.csv\n",
      "Processing 22,772 points with label 'pasto'...\n"
     ]
    },
    {
     "data": {
      "application/vnd.jupyter.widget-view+json": {
       "model_id": "dc50e56cf93c4435b72a8a212d7de437",
       "version_major": 2,
       "version_minor": 0
      },
      "text/plain": [
       "  0%|          | 0/22772 [00:00<?, ?it/s]"
      ]
     },
     "metadata": {},
     "output_type": "display_data"
    },
    {
     "name": "stdout",
     "output_type": "stream",
     "text": [
      "\n",
      "Processing complete: (22772, 13)\n",
      "Saved to: C:\\Users\\USER\\PEF\\Terrain-Traversability-Analysis\\pasto_features\\cancha_de_futbol_2_9_features.csv\n",
      "Completed: cancha_de_futbol_2_9.csv\n",
      "Processing: cancha_de_futbol_3_0.csv\n",
      "Processing 22,878 points with label 'pasto'...\n"
     ]
    },
    {
     "data": {
      "application/vnd.jupyter.widget-view+json": {
       "model_id": "a42036591df2487db2f9489e438d4dea",
       "version_major": 2,
       "version_minor": 0
      },
      "text/plain": [
       "  0%|          | 0/22878 [00:00<?, ?it/s]"
      ]
     },
     "metadata": {},
     "output_type": "display_data"
    },
    {
     "name": "stdout",
     "output_type": "stream",
     "text": [
      "\n",
      "Processing complete: (22878, 13)\n",
      "Saved to: C:\\Users\\USER\\PEF\\Terrain-Traversability-Analysis\\pasto_features\\cancha_de_futbol_3_0_features.csv\n",
      "Completed: cancha_de_futbol_3_0.csv\n",
      "Processing: cancha_de_futbol_3_10.csv\n",
      "Processing 22,870 points with label 'pasto'...\n"
     ]
    },
    {
     "data": {
      "application/vnd.jupyter.widget-view+json": {
       "model_id": "a83589ed17ec463397ece8dc61c68123",
       "version_major": 2,
       "version_minor": 0
      },
      "text/plain": [
       "  0%|          | 0/22870 [00:00<?, ?it/s]"
      ]
     },
     "metadata": {},
     "output_type": "display_data"
    },
    {
     "name": "stdout",
     "output_type": "stream",
     "text": [
      "\n",
      "Processing complete: (22870, 13)\n",
      "Saved to: C:\\Users\\USER\\PEF\\Terrain-Traversability-Analysis\\pasto_features\\cancha_de_futbol_3_10_features.csv\n",
      "Completed: cancha_de_futbol_3_10.csv\n",
      "Processing: cancha_de_futbol_3_15.csv\n",
      "Processing 22,872 points with label 'pasto'...\n"
     ]
    },
    {
     "data": {
      "application/vnd.jupyter.widget-view+json": {
       "model_id": "c3073bdaf78a4639a1e0e36e354a9cbc",
       "version_major": 2,
       "version_minor": 0
      },
      "text/plain": [
       "  0%|          | 0/22872 [00:00<?, ?it/s]"
      ]
     },
     "metadata": {},
     "output_type": "display_data"
    },
    {
     "name": "stdout",
     "output_type": "stream",
     "text": [
      "\n",
      "Processing complete: (22872, 13)\n",
      "Saved to: C:\\Users\\USER\\PEF\\Terrain-Traversability-Analysis\\pasto_features\\cancha_de_futbol_3_15_features.csv\n",
      "Completed: cancha_de_futbol_3_15.csv\n",
      "Processing: cancha_de_futbol_3_18.csv\n",
      "Processing 22,878 points with label 'pasto'...\n"
     ]
    },
    {
     "data": {
      "application/vnd.jupyter.widget-view+json": {
       "model_id": "436f36b4eae34655841cab3f7cfd37c7",
       "version_major": 2,
       "version_minor": 0
      },
      "text/plain": [
       "  0%|          | 0/22878 [00:00<?, ?it/s]"
      ]
     },
     "metadata": {},
     "output_type": "display_data"
    },
    {
     "name": "stdout",
     "output_type": "stream",
     "text": [
      "\n",
      "Processing complete: (22878, 13)\n",
      "Saved to: C:\\Users\\USER\\PEF\\Terrain-Traversability-Analysis\\pasto_features\\cancha_de_futbol_3_18_features.csv\n",
      "Completed: cancha_de_futbol_3_18.csv\n",
      "Processing: cancha_de_futbol_3_21.csv\n",
      "Processing 22,873 points with label 'pasto'...\n"
     ]
    },
    {
     "data": {
      "application/vnd.jupyter.widget-view+json": {
       "model_id": "aa288610cb7d42abb7d34cce4359d5e8",
       "version_major": 2,
       "version_minor": 0
      },
      "text/plain": [
       "  0%|          | 0/22873 [00:00<?, ?it/s]"
      ]
     },
     "metadata": {},
     "output_type": "display_data"
    },
    {
     "name": "stdout",
     "output_type": "stream",
     "text": [
      "\n",
      "Processing complete: (22873, 13)\n",
      "Saved to: C:\\Users\\USER\\PEF\\Terrain-Traversability-Analysis\\pasto_features\\cancha_de_futbol_3_21_features.csv\n",
      "Completed: cancha_de_futbol_3_21.csv\n",
      "Processing: cancha_de_futbol_3_25.csv\n",
      "Processing 22,868 points with label 'pasto'...\n"
     ]
    },
    {
     "data": {
      "application/vnd.jupyter.widget-view+json": {
       "model_id": "5d368f5b5d154fb0be7de13d653079ac",
       "version_major": 2,
       "version_minor": 0
      },
      "text/plain": [
       "  0%|          | 0/22868 [00:00<?, ?it/s]"
      ]
     },
     "metadata": {},
     "output_type": "display_data"
    },
    {
     "name": "stdout",
     "output_type": "stream",
     "text": [
      "\n",
      "Processing complete: (22868, 13)\n",
      "Saved to: C:\\Users\\USER\\PEF\\Terrain-Traversability-Analysis\\pasto_features\\cancha_de_futbol_3_25_features.csv\n",
      "Completed: cancha_de_futbol_3_25.csv\n",
      "Processing: cancha_de_futbol_3_47.csv\n",
      "Processing 22,871 points with label 'pasto'...\n"
     ]
    },
    {
     "data": {
      "application/vnd.jupyter.widget-view+json": {
       "model_id": "6d947f3052e64b60bc7a2949d6121fe2",
       "version_major": 2,
       "version_minor": 0
      },
      "text/plain": [
       "  0%|          | 0/22871 [00:00<?, ?it/s]"
      ]
     },
     "metadata": {},
     "output_type": "display_data"
    },
    {
     "name": "stdout",
     "output_type": "stream",
     "text": [
      "\n",
      "Processing complete: (22871, 13)\n",
      "Saved to: C:\\Users\\USER\\PEF\\Terrain-Traversability-Analysis\\pasto_features\\cancha_de_futbol_3_47_features.csv\n",
      "Completed: cancha_de_futbol_3_47.csv\n",
      "Processing: cancha_de_futbol_3_49.csv\n",
      "Processing 22,862 points with label 'pasto'...\n"
     ]
    },
    {
     "data": {
      "application/vnd.jupyter.widget-view+json": {
       "model_id": "c538bd309e0b488f9a151a705011cd03",
       "version_major": 2,
       "version_minor": 0
      },
      "text/plain": [
       "  0%|          | 0/22862 [00:00<?, ?it/s]"
      ]
     },
     "metadata": {},
     "output_type": "display_data"
    },
    {
     "name": "stdout",
     "output_type": "stream",
     "text": [
      "\n",
      "Processing complete: (22862, 13)\n",
      "Saved to: C:\\Users\\USER\\PEF\\Terrain-Traversability-Analysis\\pasto_features\\cancha_de_futbol_3_49_features.csv\n",
      "Completed: cancha_de_futbol_3_49.csv\n",
      "Processing: cancha_de_futbol_3_55.csv\n",
      "Processing 22,869 points with label 'pasto'...\n"
     ]
    },
    {
     "data": {
      "application/vnd.jupyter.widget-view+json": {
       "model_id": "08896f0944fe4861a16f481410c3efaf",
       "version_major": 2,
       "version_minor": 0
      },
      "text/plain": [
       "  0%|          | 0/22869 [00:00<?, ?it/s]"
      ]
     },
     "metadata": {},
     "output_type": "display_data"
    },
    {
     "name": "stdout",
     "output_type": "stream",
     "text": [
      "\n",
      "Processing complete: (22869, 13)\n",
      "Saved to: C:\\Users\\USER\\PEF\\Terrain-Traversability-Analysis\\pasto_features\\cancha_de_futbol_3_55_features.csv\n",
      "Completed: cancha_de_futbol_3_55.csv\n",
      "Processing: cancha_de_futbol_3_61.csv\n",
      "Processing 22,857 points with label 'pasto'...\n"
     ]
    },
    {
     "data": {
      "application/vnd.jupyter.widget-view+json": {
       "model_id": "594a092c3dcb443096bf3f5e4e0d457d",
       "version_major": 2,
       "version_minor": 0
      },
      "text/plain": [
       "  0%|          | 0/22857 [00:00<?, ?it/s]"
      ]
     },
     "metadata": {},
     "output_type": "display_data"
    },
    {
     "name": "stdout",
     "output_type": "stream",
     "text": [
      "\n",
      "Processing complete: (22857, 13)\n",
      "Saved to: C:\\Users\\USER\\PEF\\Terrain-Traversability-Analysis\\pasto_features\\cancha_de_futbol_3_61_features.csv\n",
      "Completed: cancha_de_futbol_3_61.csv\n",
      "Processing: ccu_estacionamiento_profes_13.csv\n",
      "Processing 25,307 points with label 'pasto'...\n"
     ]
    },
    {
     "data": {
      "application/vnd.jupyter.widget-view+json": {
       "model_id": "797ca5efefe74a9fb581fe4f22ba87e7",
       "version_major": 2,
       "version_minor": 0
      },
      "text/plain": [
       "  0%|          | 0/25307 [00:00<?, ?it/s]"
      ]
     },
     "metadata": {},
     "output_type": "display_data"
    },
    {
     "name": "stdout",
     "output_type": "stream",
     "text": [
      "\n",
      "Processing complete: (25307, 13)\n",
      "Saved to: C:\\Users\\USER\\PEF\\Terrain-Traversability-Analysis\\pasto_features\\ccu_estacionamiento_profes_13_features.csv\n",
      "Completed: ccu_estacionamiento_profes_13.csv\n",
      "Processing: ccu_estacionamiento_profes_16.csv\n",
      "Processing 25,304 points with label 'pasto'...\n"
     ]
    },
    {
     "data": {
      "application/vnd.jupyter.widget-view+json": {
       "model_id": "8c848dc2b21b4d34b72dead57ae02e6e",
       "version_major": 2,
       "version_minor": 0
      },
      "text/plain": [
       "  0%|          | 0/25304 [00:00<?, ?it/s]"
      ]
     },
     "metadata": {},
     "output_type": "display_data"
    },
    {
     "name": "stdout",
     "output_type": "stream",
     "text": [
      "\n",
      "Processing complete: (25304, 13)\n",
      "Saved to: C:\\Users\\USER\\PEF\\Terrain-Traversability-Analysis\\pasto_features\\ccu_estacionamiento_profes_16_features.csv\n",
      "Completed: ccu_estacionamiento_profes_16.csv\n",
      "Processing: ccu_estacionamiento_profes_25.csv\n",
      "Processing 25,299 points with label 'pasto'...\n"
     ]
    },
    {
     "data": {
      "application/vnd.jupyter.widget-view+json": {
       "model_id": "b1e8774c4d0843e2909d87a827613cae",
       "version_major": 2,
       "version_minor": 0
      },
      "text/plain": [
       "  0%|          | 0/25299 [00:00<?, ?it/s]"
      ]
     },
     "metadata": {},
     "output_type": "display_data"
    },
    {
     "name": "stdout",
     "output_type": "stream",
     "text": [
      "\n",
      "Processing complete: (25299, 13)\n",
      "Saved to: C:\\Users\\USER\\PEF\\Terrain-Traversability-Analysis\\pasto_features\\ccu_estacionamiento_profes_25_features.csv\n",
      "Completed: ccu_estacionamiento_profes_25.csv\n",
      "Processing: ccu_estacionamiento_profes_28.csv\n",
      "Processing 25,296 points with label 'pasto'...\n"
     ]
    },
    {
     "data": {
      "application/vnd.jupyter.widget-view+json": {
       "model_id": "090e18217e3f49b7b8aa25d729221f0b",
       "version_major": 2,
       "version_minor": 0
      },
      "text/plain": [
       "  0%|          | 0/25296 [00:00<?, ?it/s]"
      ]
     },
     "metadata": {},
     "output_type": "display_data"
    },
    {
     "name": "stdout",
     "output_type": "stream",
     "text": [
      "\n",
      "Processing complete: (25296, 13)\n",
      "Saved to: C:\\Users\\USER\\PEF\\Terrain-Traversability-Analysis\\pasto_features\\ccu_estacionamiento_profes_28_features.csv\n",
      "Completed: ccu_estacionamiento_profes_28.csv\n",
      "Processing: ccu_estacionamiento_profes_37.csv\n",
      "Processing 25,297 points with label 'pasto'...\n"
     ]
    },
    {
     "data": {
      "application/vnd.jupyter.widget-view+json": {
       "model_id": "295783a4c784492ebacb087df8e17262",
       "version_major": 2,
       "version_minor": 0
      },
      "text/plain": [
       "  0%|          | 0/25297 [00:00<?, ?it/s]"
      ]
     },
     "metadata": {},
     "output_type": "display_data"
    },
    {
     "name": "stdout",
     "output_type": "stream",
     "text": [
      "\n",
      "Processing complete: (25297, 13)\n",
      "Saved to: C:\\Users\\USER\\PEF\\Terrain-Traversability-Analysis\\pasto_features\\ccu_estacionamiento_profes_37_features.csv\n",
      "Completed: ccu_estacionamiento_profes_37.csv\n",
      "Processing: ccu_estacionamiento_profes_47.csv\n",
      "Processing 25,294 points with label 'pasto'...\n"
     ]
    },
    {
     "data": {
      "application/vnd.jupyter.widget-view+json": {
       "model_id": "89419d245458475f8155891ed8e586c0",
       "version_major": 2,
       "version_minor": 0
      },
      "text/plain": [
       "  0%|          | 0/25294 [00:00<?, ?it/s]"
      ]
     },
     "metadata": {},
     "output_type": "display_data"
    },
    {
     "name": "stdout",
     "output_type": "stream",
     "text": [
      "\n",
      "Processing complete: (25294, 13)\n",
      "Saved to: C:\\Users\\USER\\PEF\\Terrain-Traversability-Analysis\\pasto_features\\ccu_estacionamiento_profes_47_features.csv\n",
      "Completed: ccu_estacionamiento_profes_47.csv\n",
      "Processing: ccu_estacionamiento_profes_54.csv\n",
      "Processing 25,294 points with label 'pasto'...\n"
     ]
    },
    {
     "data": {
      "application/vnd.jupyter.widget-view+json": {
       "model_id": "10516cf176ba4210b424dac6766919ef",
       "version_major": 2,
       "version_minor": 0
      },
      "text/plain": [
       "  0%|          | 0/25294 [00:00<?, ?it/s]"
      ]
     },
     "metadata": {},
     "output_type": "display_data"
    },
    {
     "name": "stdout",
     "output_type": "stream",
     "text": [
      "\n",
      "Processing complete: (25294, 13)\n",
      "Saved to: C:\\Users\\USER\\PEF\\Terrain-Traversability-Analysis\\pasto_features\\ccu_estacionamiento_profes_54_features.csv\n",
      "Completed: ccu_estacionamiento_profes_54.csv\n",
      "Processing: ccu_estacionamiento_profes_62.csv\n",
      "Processing 25,292 points with label 'pasto'...\n"
     ]
    },
    {
     "data": {
      "application/vnd.jupyter.widget-view+json": {
       "model_id": "6b862e7ef4484ab59ec74b7afc51aa3b",
       "version_major": 2,
       "version_minor": 0
      },
      "text/plain": [
       "  0%|          | 0/25292 [00:00<?, ?it/s]"
      ]
     },
     "metadata": {},
     "output_type": "display_data"
    },
    {
     "name": "stdout",
     "output_type": "stream",
     "text": [
      "\n",
      "Processing complete: (25292, 13)\n",
      "Saved to: C:\\Users\\USER\\PEF\\Terrain-Traversability-Analysis\\pasto_features\\ccu_estacionamiento_profes_62_features.csv\n",
      "Completed: ccu_estacionamiento_profes_62.csv\n",
      "Processing: ccu_estacionamiento_profes_71.csv\n",
      "Processing 25,298 points with label 'pasto'...\n"
     ]
    },
    {
     "data": {
      "application/vnd.jupyter.widget-view+json": {
       "model_id": "7e58fa33b0fa45a29bc70798980eb93a",
       "version_major": 2,
       "version_minor": 0
      },
      "text/plain": [
       "  0%|          | 0/25298 [00:00<?, ?it/s]"
      ]
     },
     "metadata": {},
     "output_type": "display_data"
    },
    {
     "name": "stdout",
     "output_type": "stream",
     "text": [
      "\n",
      "Processing complete: (25298, 13)\n",
      "Saved to: C:\\Users\\USER\\PEF\\Terrain-Traversability-Analysis\\pasto_features\\ccu_estacionamiento_profes_71_features.csv\n",
      "Completed: ccu_estacionamiento_profes_71.csv\n",
      "Processing: ccu_estacionamiento_profes_9.csv\n",
      "Processing 25,304 points with label 'pasto'...\n"
     ]
    },
    {
     "data": {
      "application/vnd.jupyter.widget-view+json": {
       "model_id": "0bf47f38e321426bbb70a16c239e5f59",
       "version_major": 2,
       "version_minor": 0
      },
      "text/plain": [
       "  0%|          | 0/25304 [00:00<?, ?it/s]"
      ]
     },
     "metadata": {},
     "output_type": "display_data"
    },
    {
     "name": "stdout",
     "output_type": "stream",
     "text": [
      "\n",
      "Processing complete: (25304, 13)\n",
      "Saved to: C:\\Users\\USER\\PEF\\Terrain-Traversability-Analysis\\pasto_features\\ccu_estacionamiento_profes_9_features.csv\n",
      "Completed: ccu_estacionamiento_profes_9.csv\n",
      "Processing: pasto_crgs_1_12.csv\n",
      "Processing 23,862 points with label 'pasto'...\n"
     ]
    },
    {
     "data": {
      "application/vnd.jupyter.widget-view+json": {
       "model_id": "661347f2580a4021b04403d9671eb7ae",
       "version_major": 2,
       "version_minor": 0
      },
      "text/plain": [
       "  0%|          | 0/23862 [00:00<?, ?it/s]"
      ]
     },
     "metadata": {},
     "output_type": "display_data"
    },
    {
     "name": "stdout",
     "output_type": "stream",
     "text": [
      "\n",
      "Processing complete: (23862, 13)\n",
      "Saved to: C:\\Users\\USER\\PEF\\Terrain-Traversability-Analysis\\pasto_features\\pasto_crgs_1_12_features.csv\n",
      "Completed: pasto_crgs_1_12.csv\n",
      "Processing: pasto_crgs_1_20.csv\n",
      "Processing 23,844 points with label 'pasto'...\n"
     ]
    },
    {
     "data": {
      "application/vnd.jupyter.widget-view+json": {
       "model_id": "6786a4348e8d49a49c9cf92103e0262d",
       "version_major": 2,
       "version_minor": 0
      },
      "text/plain": [
       "  0%|          | 0/23844 [00:00<?, ?it/s]"
      ]
     },
     "metadata": {},
     "output_type": "display_data"
    },
    {
     "name": "stdout",
     "output_type": "stream",
     "text": [
      "\n",
      "Processing complete: (23844, 13)\n",
      "Saved to: C:\\Users\\USER\\PEF\\Terrain-Traversability-Analysis\\pasto_features\\pasto_crgs_1_20_features.csv\n",
      "Completed: pasto_crgs_1_20.csv\n",
      "Processing: pasto_crgs_1_22.csv\n",
      "Processing 23,855 points with label 'pasto'...\n"
     ]
    },
    {
     "data": {
      "application/vnd.jupyter.widget-view+json": {
       "model_id": "1d0996883ccc44ccbb1b7c6bfd9b6172",
       "version_major": 2,
       "version_minor": 0
      },
      "text/plain": [
       "  0%|          | 0/23855 [00:00<?, ?it/s]"
      ]
     },
     "metadata": {},
     "output_type": "display_data"
    },
    {
     "name": "stdout",
     "output_type": "stream",
     "text": [
      "\n",
      "Processing complete: (23855, 13)\n",
      "Saved to: C:\\Users\\USER\\PEF\\Terrain-Traversability-Analysis\\pasto_features\\pasto_crgs_1_22_features.csv\n",
      "Completed: pasto_crgs_1_22.csv\n",
      "Processing: pasto_crgs_1_42.csv\n",
      "Processing 23,848 points with label 'pasto'...\n"
     ]
    },
    {
     "data": {
      "application/vnd.jupyter.widget-view+json": {
       "model_id": "46c84657fb3d4d00bf7720d1b42ae7ac",
       "version_major": 2,
       "version_minor": 0
      },
      "text/plain": [
       "  0%|          | 0/23848 [00:00<?, ?it/s]"
      ]
     },
     "metadata": {},
     "output_type": "display_data"
    },
    {
     "name": "stdout",
     "output_type": "stream",
     "text": [
      "\n",
      "Processing complete: (23848, 13)\n",
      "Saved to: C:\\Users\\USER\\PEF\\Terrain-Traversability-Analysis\\pasto_features\\pasto_crgs_1_42_features.csv\n",
      "Completed: pasto_crgs_1_42.csv\n",
      "Processing: pasto_crgs_1_52.csv\n",
      "Processing 23,841 points with label 'pasto'...\n"
     ]
    },
    {
     "data": {
      "application/vnd.jupyter.widget-view+json": {
       "model_id": "c92a8a5f53cb4720bbfc518ce891d9cb",
       "version_major": 2,
       "version_minor": 0
      },
      "text/plain": [
       "  0%|          | 0/23841 [00:00<?, ?it/s]"
      ]
     },
     "metadata": {},
     "output_type": "display_data"
    },
    {
     "name": "stdout",
     "output_type": "stream",
     "text": [
      "\n",
      "Processing complete: (23841, 13)\n",
      "Saved to: C:\\Users\\USER\\PEF\\Terrain-Traversability-Analysis\\pasto_features\\pasto_crgs_1_52_features.csv\n",
      "Completed: pasto_crgs_1_52.csv\n",
      "Processing: pasto_crgs_1_55.csv\n",
      "Processing 23,851 points with label 'pasto'...\n"
     ]
    },
    {
     "data": {
      "application/vnd.jupyter.widget-view+json": {
       "model_id": "fb7934c7218748b183d88956d16e2b73",
       "version_major": 2,
       "version_minor": 0
      },
      "text/plain": [
       "  0%|          | 0/23851 [00:00<?, ?it/s]"
      ]
     },
     "metadata": {},
     "output_type": "display_data"
    },
    {
     "name": "stdout",
     "output_type": "stream",
     "text": [
      "\n",
      "Processing complete: (23851, 13)\n",
      "Saved to: C:\\Users\\USER\\PEF\\Terrain-Traversability-Analysis\\pasto_features\\pasto_crgs_1_55_features.csv\n",
      "Completed: pasto_crgs_1_55.csv\n",
      "Processing: pasto_crgs_1_57.csv\n",
      "Processing 23,842 points with label 'pasto'...\n"
     ]
    },
    {
     "data": {
      "application/vnd.jupyter.widget-view+json": {
       "model_id": "4a8252302b2442f480a06d878c2cd701",
       "version_major": 2,
       "version_minor": 0
      },
      "text/plain": [
       "  0%|          | 0/23842 [00:00<?, ?it/s]"
      ]
     },
     "metadata": {},
     "output_type": "display_data"
    },
    {
     "name": "stdout",
     "output_type": "stream",
     "text": [
      "\n",
      "Processing complete: (23842, 13)\n",
      "Saved to: C:\\Users\\USER\\PEF\\Terrain-Traversability-Analysis\\pasto_features\\pasto_crgs_1_57_features.csv\n",
      "Completed: pasto_crgs_1_57.csv\n",
      "Processing: pasto_crgs_1_59.csv\n",
      "Processing 23,840 points with label 'pasto'...\n"
     ]
    },
    {
     "data": {
      "application/vnd.jupyter.widget-view+json": {
       "model_id": "a18954f5da6f4ceba6d9f609519e4f20",
       "version_major": 2,
       "version_minor": 0
      },
      "text/plain": [
       "  0%|          | 0/23840 [00:00<?, ?it/s]"
      ]
     },
     "metadata": {},
     "output_type": "display_data"
    },
    {
     "name": "stdout",
     "output_type": "stream",
     "text": [
      "\n",
      "Processing complete: (23840, 13)\n",
      "Saved to: C:\\Users\\USER\\PEF\\Terrain-Traversability-Analysis\\pasto_features\\pasto_crgs_1_59_features.csv\n",
      "Completed: pasto_crgs_1_59.csv\n",
      "Processing: pasto_crgs_1_67.csv\n",
      "Processing 23,833 points with label 'pasto'...\n"
     ]
    },
    {
     "data": {
      "application/vnd.jupyter.widget-view+json": {
       "model_id": "0c4a971316dd407fbb37dca445017d28",
       "version_major": 2,
       "version_minor": 0
      },
      "text/plain": [
       "  0%|          | 0/23833 [00:00<?, ?it/s]"
      ]
     },
     "metadata": {},
     "output_type": "display_data"
    },
    {
     "name": "stdout",
     "output_type": "stream",
     "text": [
      "\n",
      "Processing complete: (23833, 13)\n",
      "Saved to: C:\\Users\\USER\\PEF\\Terrain-Traversability-Analysis\\pasto_features\\pasto_crgs_1_67_features.csv\n",
      "Completed: pasto_crgs_1_67.csv\n",
      "Processing: pasto_crgs_1_72.csv\n",
      "Processing 23,845 points with label 'pasto'...\n"
     ]
    },
    {
     "data": {
      "application/vnd.jupyter.widget-view+json": {
       "model_id": "fb8de340f826484ca816ae3bfc24bdbc",
       "version_major": 2,
       "version_minor": 0
      },
      "text/plain": [
       "  0%|          | 0/23845 [00:00<?, ?it/s]"
      ]
     },
     "metadata": {},
     "output_type": "display_data"
    },
    {
     "name": "stdout",
     "output_type": "stream",
     "text": [
      "\n",
      "Processing complete: (23845, 13)\n",
      "Saved to: C:\\Users\\USER\\PEF\\Terrain-Traversability-Analysis\\pasto_features\\pasto_crgs_1_72_features.csv\n",
      "Completed: pasto_crgs_1_72.csv\n",
      "Processing: pasto_crgs_2_17.csv\n",
      "Processing 22,534 points with label 'pasto'...\n"
     ]
    },
    {
     "data": {
      "application/vnd.jupyter.widget-view+json": {
       "model_id": "9beb9a4e9053497981f0035b9ff83200",
       "version_major": 2,
       "version_minor": 0
      },
      "text/plain": [
       "  0%|          | 0/22534 [00:00<?, ?it/s]"
      ]
     },
     "metadata": {},
     "output_type": "display_data"
    },
    {
     "name": "stdout",
     "output_type": "stream",
     "text": [
      "\n",
      "Processing complete: (22534, 13)\n",
      "Saved to: C:\\Users\\USER\\PEF\\Terrain-Traversability-Analysis\\pasto_features\\pasto_crgs_2_17_features.csv\n",
      "Completed: pasto_crgs_2_17.csv\n",
      "Processing: pasto_crgs_2_18.csv\n",
      "Processing 22,530 points with label 'pasto'...\n"
     ]
    },
    {
     "data": {
      "application/vnd.jupyter.widget-view+json": {
       "model_id": "6819813010114274ae8af437f99fae9d",
       "version_major": 2,
       "version_minor": 0
      },
      "text/plain": [
       "  0%|          | 0/22530 [00:00<?, ?it/s]"
      ]
     },
     "metadata": {},
     "output_type": "display_data"
    },
    {
     "name": "stdout",
     "output_type": "stream",
     "text": [
      "\n",
      "Processing complete: (22530, 13)\n",
      "Saved to: C:\\Users\\USER\\PEF\\Terrain-Traversability-Analysis\\pasto_features\\pasto_crgs_2_18_features.csv\n",
      "Completed: pasto_crgs_2_18.csv\n",
      "Processing: pasto_crgs_2_21.csv\n",
      "Processing 22,520 points with label 'pasto'...\n"
     ]
    },
    {
     "data": {
      "application/vnd.jupyter.widget-view+json": {
       "model_id": "95cd7c18880a48ce8db02e574ea920a9",
       "version_major": 2,
       "version_minor": 0
      },
      "text/plain": [
       "  0%|          | 0/22520 [00:00<?, ?it/s]"
      ]
     },
     "metadata": {},
     "output_type": "display_data"
    },
    {
     "name": "stdout",
     "output_type": "stream",
     "text": [
      "\n",
      "Processing complete: (22520, 13)\n",
      "Saved to: C:\\Users\\USER\\PEF\\Terrain-Traversability-Analysis\\pasto_features\\pasto_crgs_2_21_features.csv\n",
      "Completed: pasto_crgs_2_21.csv\n",
      "Processing: pasto_crgs_2_25.csv\n",
      "Processing 22,531 points with label 'pasto'...\n"
     ]
    },
    {
     "data": {
      "application/vnd.jupyter.widget-view+json": {
       "model_id": "fafb16eb37a04db6a37b3556ede6ebce",
       "version_major": 2,
       "version_minor": 0
      },
      "text/plain": [
       "  0%|          | 0/22531 [00:00<?, ?it/s]"
      ]
     },
     "metadata": {},
     "output_type": "display_data"
    },
    {
     "name": "stdout",
     "output_type": "stream",
     "text": [
      "\n",
      "Processing complete: (22531, 13)\n",
      "Saved to: C:\\Users\\USER\\PEF\\Terrain-Traversability-Analysis\\pasto_features\\pasto_crgs_2_25_features.csv\n",
      "Completed: pasto_crgs_2_25.csv\n",
      "Processing: pasto_crgs_2_29.csv\n",
      "Processing 22,537 points with label 'pasto'...\n"
     ]
    },
    {
     "data": {
      "application/vnd.jupyter.widget-view+json": {
       "model_id": "826babad3f594b51a06badc49a2198bb",
       "version_major": 2,
       "version_minor": 0
      },
      "text/plain": [
       "  0%|          | 0/22537 [00:00<?, ?it/s]"
      ]
     },
     "metadata": {},
     "output_type": "display_data"
    },
    {
     "name": "stdout",
     "output_type": "stream",
     "text": [
      "\n",
      "Processing complete: (22537, 13)\n",
      "Saved to: C:\\Users\\USER\\PEF\\Terrain-Traversability-Analysis\\pasto_features\\pasto_crgs_2_29_features.csv\n",
      "Completed: pasto_crgs_2_29.csv\n",
      "Processing: pasto_crgs_2_38.csv\n",
      "Processing 22,533 points with label 'pasto'...\n"
     ]
    },
    {
     "data": {
      "application/vnd.jupyter.widget-view+json": {
       "model_id": "4e8c4380fbfc408cb960b5eff4d505a1",
       "version_major": 2,
       "version_minor": 0
      },
      "text/plain": [
       "  0%|          | 0/22533 [00:00<?, ?it/s]"
      ]
     },
     "metadata": {},
     "output_type": "display_data"
    },
    {
     "name": "stdout",
     "output_type": "stream",
     "text": [
      "\n",
      "Processing complete: (22533, 13)\n",
      "Saved to: C:\\Users\\USER\\PEF\\Terrain-Traversability-Analysis\\pasto_features\\pasto_crgs_2_38_features.csv\n",
      "Completed: pasto_crgs_2_38.csv\n",
      "Processing: pasto_crgs_2_50.csv\n",
      "Processing 22,528 points with label 'pasto'...\n"
     ]
    },
    {
     "data": {
      "application/vnd.jupyter.widget-view+json": {
       "model_id": "5bccd02ae4714bbea68eb5eb45dc3542",
       "version_major": 2,
       "version_minor": 0
      },
      "text/plain": [
       "  0%|          | 0/22528 [00:00<?, ?it/s]"
      ]
     },
     "metadata": {},
     "output_type": "display_data"
    },
    {
     "name": "stdout",
     "output_type": "stream",
     "text": [
      "\n",
      "Processing complete: (22528, 13)\n",
      "Saved to: C:\\Users\\USER\\PEF\\Terrain-Traversability-Analysis\\pasto_features\\pasto_crgs_2_50_features.csv\n",
      "Completed: pasto_crgs_2_50.csv\n",
      "Processing: pasto_crgs_2_52.csv\n",
      "Processing 22,522 points with label 'pasto'...\n"
     ]
    },
    {
     "data": {
      "application/vnd.jupyter.widget-view+json": {
       "model_id": "9992e34a07714928994e822d614d7644",
       "version_major": 2,
       "version_minor": 0
      },
      "text/plain": [
       "  0%|          | 0/22522 [00:00<?, ?it/s]"
      ]
     },
     "metadata": {},
     "output_type": "display_data"
    },
    {
     "name": "stdout",
     "output_type": "stream",
     "text": [
      "\n",
      "Processing complete: (22522, 13)\n",
      "Saved to: C:\\Users\\USER\\PEF\\Terrain-Traversability-Analysis\\pasto_features\\pasto_crgs_2_52_features.csv\n",
      "Completed: pasto_crgs_2_52.csv\n",
      "Processing: pasto_crgs_2_65.csv\n",
      "Processing 22,525 points with label 'pasto'...\n"
     ]
    },
    {
     "data": {
      "application/vnd.jupyter.widget-view+json": {
       "model_id": "ab72309c69c646eea7d6096140b1005d",
       "version_major": 2,
       "version_minor": 0
      },
      "text/plain": [
       "  0%|          | 0/22525 [00:00<?, ?it/s]"
      ]
     },
     "metadata": {},
     "output_type": "display_data"
    },
    {
     "name": "stdout",
     "output_type": "stream",
     "text": [
      "\n",
      "Processing complete: (22525, 13)\n",
      "Saved to: C:\\Users\\USER\\PEF\\Terrain-Traversability-Analysis\\pasto_features\\pasto_crgs_2_65_features.csv\n",
      "Completed: pasto_crgs_2_65.csv\n",
      "Processing: pasto_crgs_2_8.csv\n",
      "Processing 22,525 points with label 'pasto'...\n"
     ]
    },
    {
     "data": {
      "application/vnd.jupyter.widget-view+json": {
       "model_id": "5492dfc4f4cd4857aeaf585908401f67",
       "version_major": 2,
       "version_minor": 0
      },
      "text/plain": [
       "  0%|          | 0/22525 [00:00<?, ?it/s]"
      ]
     },
     "metadata": {},
     "output_type": "display_data"
    },
    {
     "name": "stdout",
     "output_type": "stream",
     "text": [
      "\n",
      "Processing complete: (22525, 13)\n",
      "Saved to: C:\\Users\\USER\\PEF\\Terrain-Traversability-Analysis\\pasto_features\\pasto_crgs_2_8_features.csv\n",
      "Completed: pasto_crgs_2_8.csv\n",
      "Processing: pasto_entre_ccu_y_biblioteca_19.csv\n",
      "Processing 23,989 points with label 'pasto'...\n"
     ]
    },
    {
     "data": {
      "application/vnd.jupyter.widget-view+json": {
       "model_id": "835138bb133748fcb033f17cddb50e71",
       "version_major": 2,
       "version_minor": 0
      },
      "text/plain": [
       "  0%|          | 0/23989 [00:00<?, ?it/s]"
      ]
     },
     "metadata": {},
     "output_type": "display_data"
    },
    {
     "name": "stdout",
     "output_type": "stream",
     "text": [
      "\n",
      "Processing complete: (23989, 13)\n",
      "Saved to: C:\\Users\\USER\\PEF\\Terrain-Traversability-Analysis\\pasto_features\\pasto_entre_ccu_y_biblioteca_19_features.csv\n",
      "Completed: pasto_entre_ccu_y_biblioteca_19.csv\n",
      "Processing: pasto_entre_ccu_y_biblioteca_20.csv\n",
      "Processing 23,988 points with label 'pasto'...\n"
     ]
    },
    {
     "data": {
      "application/vnd.jupyter.widget-view+json": {
       "model_id": "641d64c1d53f4132b9be541e24f6a435",
       "version_major": 2,
       "version_minor": 0
      },
      "text/plain": [
       "  0%|          | 0/23988 [00:00<?, ?it/s]"
      ]
     },
     "metadata": {},
     "output_type": "display_data"
    },
    {
     "name": "stdout",
     "output_type": "stream",
     "text": [
      "\n",
      "Processing complete: (23988, 13)\n",
      "Saved to: C:\\Users\\USER\\PEF\\Terrain-Traversability-Analysis\\pasto_features\\pasto_entre_ccu_y_biblioteca_20_features.csv\n",
      "Completed: pasto_entre_ccu_y_biblioteca_20.csv\n",
      "Processing: pasto_entre_ccu_y_biblioteca_22.csv\n",
      "Processing 23,990 points with label 'pasto'...\n"
     ]
    },
    {
     "data": {
      "application/vnd.jupyter.widget-view+json": {
       "model_id": "64c5c1fa39334419b92015bbe7da6dc6",
       "version_major": 2,
       "version_minor": 0
      },
      "text/plain": [
       "  0%|          | 0/23990 [00:00<?, ?it/s]"
      ]
     },
     "metadata": {},
     "output_type": "display_data"
    },
    {
     "name": "stdout",
     "output_type": "stream",
     "text": [
      "\n",
      "Processing complete: (23990, 13)\n",
      "Saved to: C:\\Users\\USER\\PEF\\Terrain-Traversability-Analysis\\pasto_features\\pasto_entre_ccu_y_biblioteca_22_features.csv\n",
      "Completed: pasto_entre_ccu_y_biblioteca_22.csv\n",
      "Processing: pasto_entre_ccu_y_biblioteca_25.csv\n",
      "Processing 23,977 points with label 'pasto'...\n"
     ]
    },
    {
     "data": {
      "application/vnd.jupyter.widget-view+json": {
       "model_id": "c550594d252746a19811abedcc7b89f2",
       "version_major": 2,
       "version_minor": 0
      },
      "text/plain": [
       "  0%|          | 0/23977 [00:00<?, ?it/s]"
      ]
     },
     "metadata": {},
     "output_type": "display_data"
    },
    {
     "name": "stdout",
     "output_type": "stream",
     "text": [
      "\n",
      "Processing complete: (23977, 13)\n",
      "Saved to: C:\\Users\\USER\\PEF\\Terrain-Traversability-Analysis\\pasto_features\\pasto_entre_ccu_y_biblioteca_25_features.csv\n",
      "Completed: pasto_entre_ccu_y_biblioteca_25.csv\n",
      "Processing: pasto_entre_ccu_y_biblioteca_39.csv\n",
      "Processing 23,978 points with label 'pasto'...\n"
     ]
    },
    {
     "data": {
      "application/vnd.jupyter.widget-view+json": {
       "model_id": "974f3b5cff874deabac05104495d0b0e",
       "version_major": 2,
       "version_minor": 0
      },
      "text/plain": [
       "  0%|          | 0/23978 [00:00<?, ?it/s]"
      ]
     },
     "metadata": {},
     "output_type": "display_data"
    },
    {
     "name": "stdout",
     "output_type": "stream",
     "text": [
      "\n",
      "Processing complete: (23978, 13)\n",
      "Saved to: C:\\Users\\USER\\PEF\\Terrain-Traversability-Analysis\\pasto_features\\pasto_entre_ccu_y_biblioteca_39_features.csv\n",
      "Completed: pasto_entre_ccu_y_biblioteca_39.csv\n",
      "Processing: pasto_entre_ccu_y_biblioteca_44.csv\n",
      "Processing 23,984 points with label 'pasto'...\n"
     ]
    },
    {
     "data": {
      "application/vnd.jupyter.widget-view+json": {
       "model_id": "0ed4276ffbd64944aadf33e7217287eb",
       "version_major": 2,
       "version_minor": 0
      },
      "text/plain": [
       "  0%|          | 0/23984 [00:00<?, ?it/s]"
      ]
     },
     "metadata": {},
     "output_type": "display_data"
    },
    {
     "name": "stdout",
     "output_type": "stream",
     "text": [
      "\n",
      "Processing complete: (23984, 13)\n",
      "Saved to: C:\\Users\\USER\\PEF\\Terrain-Traversability-Analysis\\pasto_features\\pasto_entre_ccu_y_biblioteca_44_features.csv\n",
      "Completed: pasto_entre_ccu_y_biblioteca_44.csv\n",
      "Processing: pasto_entre_ccu_y_biblioteca_48.csv\n",
      "Processing 23,983 points with label 'pasto'...\n"
     ]
    },
    {
     "data": {
      "application/vnd.jupyter.widget-view+json": {
       "model_id": "cce1553fa93243a6be2beba2c59f94dd",
       "version_major": 2,
       "version_minor": 0
      },
      "text/plain": [
       "  0%|          | 0/23983 [00:00<?, ?it/s]"
      ]
     },
     "metadata": {},
     "output_type": "display_data"
    },
    {
     "name": "stdout",
     "output_type": "stream",
     "text": [
      "\n",
      "Processing complete: (23983, 13)\n",
      "Saved to: C:\\Users\\USER\\PEF\\Terrain-Traversability-Analysis\\pasto_features\\pasto_entre_ccu_y_biblioteca_48_features.csv\n",
      "Completed: pasto_entre_ccu_y_biblioteca_48.csv\n",
      "Processing: pasto_entre_ccu_y_biblioteca_52.csv\n",
      "Processing 23,982 points with label 'pasto'...\n"
     ]
    },
    {
     "data": {
      "application/vnd.jupyter.widget-view+json": {
       "model_id": "ce1ec303da8943b683fae690e49b6b02",
       "version_major": 2,
       "version_minor": 0
      },
      "text/plain": [
       "  0%|          | 0/23982 [00:00<?, ?it/s]"
      ]
     },
     "metadata": {},
     "output_type": "display_data"
    },
    {
     "name": "stdout",
     "output_type": "stream",
     "text": [
      "\n",
      "Processing complete: (23982, 13)\n",
      "Saved to: C:\\Users\\USER\\PEF\\Terrain-Traversability-Analysis\\pasto_features\\pasto_entre_ccu_y_biblioteca_52_features.csv\n",
      "Completed: pasto_entre_ccu_y_biblioteca_52.csv\n",
      "Processing: pasto_entre_ccu_y_biblioteca_55.csv\n",
      "Processing 23,975 points with label 'pasto'...\n"
     ]
    },
    {
     "data": {
      "application/vnd.jupyter.widget-view+json": {
       "model_id": "1b46df94fbf94fe18ad3c2264f56b649",
       "version_major": 2,
       "version_minor": 0
      },
      "text/plain": [
       "  0%|          | 0/23975 [00:00<?, ?it/s]"
      ]
     },
     "metadata": {},
     "output_type": "display_data"
    },
    {
     "name": "stdout",
     "output_type": "stream",
     "text": [
      "\n",
      "Processing complete: (23975, 13)\n",
      "Saved to: C:\\Users\\USER\\PEF\\Terrain-Traversability-Analysis\\pasto_features\\pasto_entre_ccu_y_biblioteca_55_features.csv\n",
      "Completed: pasto_entre_ccu_y_biblioteca_55.csv\n",
      "Processing: pasto_entre_ccu_y_biblioteca_61.csv\n",
      "Processing 23,983 points with label 'pasto'...\n"
     ]
    },
    {
     "data": {
      "application/vnd.jupyter.widget-view+json": {
       "model_id": "5de7940312c54f5687366351fe17e75b",
       "version_major": 2,
       "version_minor": 0
      },
      "text/plain": [
       "  0%|          | 0/23983 [00:00<?, ?it/s]"
      ]
     },
     "metadata": {},
     "output_type": "display_data"
    },
    {
     "name": "stdout",
     "output_type": "stream",
     "text": [
      "\n",
      "Processing complete: (23983, 13)\n",
      "Saved to: C:\\Users\\USER\\PEF\\Terrain-Traversability-Analysis\\pasto_features\\pasto_entre_ccu_y_biblioteca_61_features.csv\n",
      "Completed: pasto_entre_ccu_y_biblioteca_61.csv\n",
      "Processing: pasto_jardin_abajo_papas_1_sombra_12.csv\n",
      "Processing 25,101 points with label 'pasto'...\n"
     ]
    },
    {
     "data": {
      "application/vnd.jupyter.widget-view+json": {
       "model_id": "8838cda6a68e4af296cdf2342a688e78",
       "version_major": 2,
       "version_minor": 0
      },
      "text/plain": [
       "  0%|          | 0/25101 [00:00<?, ?it/s]"
      ]
     },
     "metadata": {},
     "output_type": "display_data"
    },
    {
     "name": "stdout",
     "output_type": "stream",
     "text": [
      "\n",
      "Processing complete: (25101, 13)\n",
      "Saved to: C:\\Users\\USER\\PEF\\Terrain-Traversability-Analysis\\pasto_features\\pasto_jardin_abajo_papas_1_sombra_12_features.csv\n",
      "Completed: pasto_jardin_abajo_papas_1_sombra_12.csv\n",
      "Processing: pasto_jardin_abajo_papas_1_sombra_19.csv\n",
      "Processing 25,100 points with label 'pasto'...\n"
     ]
    },
    {
     "data": {
      "application/vnd.jupyter.widget-view+json": {
       "model_id": "fa8bc186a17f4a7eb712a4e810fd08fa",
       "version_major": 2,
       "version_minor": 0
      },
      "text/plain": [
       "  0%|          | 0/25100 [00:00<?, ?it/s]"
      ]
     },
     "metadata": {},
     "output_type": "display_data"
    },
    {
     "name": "stdout",
     "output_type": "stream",
     "text": [
      "\n",
      "Processing complete: (25100, 13)\n",
      "Saved to: C:\\Users\\USER\\PEF\\Terrain-Traversability-Analysis\\pasto_features\\pasto_jardin_abajo_papas_1_sombra_19_features.csv\n",
      "Completed: pasto_jardin_abajo_papas_1_sombra_19.csv\n",
      "Processing: pasto_jardin_abajo_papas_1_sombra_20.csv\n",
      "Processing 25,094 points with label 'pasto'...\n"
     ]
    },
    {
     "data": {
      "application/vnd.jupyter.widget-view+json": {
       "model_id": "a0c85a3ee10f40a994c4ca29cb7079a0",
       "version_major": 2,
       "version_minor": 0
      },
      "text/plain": [
       "  0%|          | 0/25094 [00:00<?, ?it/s]"
      ]
     },
     "metadata": {},
     "output_type": "display_data"
    },
    {
     "name": "stdout",
     "output_type": "stream",
     "text": [
      "\n",
      "Processing complete: (25094, 13)\n",
      "Saved to: C:\\Users\\USER\\PEF\\Terrain-Traversability-Analysis\\pasto_features\\pasto_jardin_abajo_papas_1_sombra_20_features.csv\n",
      "Completed: pasto_jardin_abajo_papas_1_sombra_20.csv\n",
      "Processing: pasto_jardin_abajo_papas_1_sombra_22.csv\n",
      "Processing 25,105 points with label 'pasto'...\n"
     ]
    },
    {
     "data": {
      "application/vnd.jupyter.widget-view+json": {
       "model_id": "8274e9d0bb8340e185fc24235ce0b80f",
       "version_major": 2,
       "version_minor": 0
      },
      "text/plain": [
       "  0%|          | 0/25105 [00:00<?, ?it/s]"
      ]
     },
     "metadata": {},
     "output_type": "display_data"
    },
    {
     "name": "stdout",
     "output_type": "stream",
     "text": [
      "\n",
      "Processing complete: (25105, 13)\n",
      "Saved to: C:\\Users\\USER\\PEF\\Terrain-Traversability-Analysis\\pasto_features\\pasto_jardin_abajo_papas_1_sombra_22_features.csv\n",
      "Completed: pasto_jardin_abajo_papas_1_sombra_22.csv\n",
      "Processing: pasto_jardin_abajo_papas_1_sombra_30.csv\n",
      "Processing 25,100 points with label 'pasto'...\n"
     ]
    },
    {
     "data": {
      "application/vnd.jupyter.widget-view+json": {
       "model_id": "f1e3c426ff8e4121898c341bbd93e227",
       "version_major": 2,
       "version_minor": 0
      },
      "text/plain": [
       "  0%|          | 0/25100 [00:00<?, ?it/s]"
      ]
     },
     "metadata": {},
     "output_type": "display_data"
    },
    {
     "name": "stdout",
     "output_type": "stream",
     "text": [
      "\n",
      "Processing complete: (25100, 13)\n",
      "Saved to: C:\\Users\\USER\\PEF\\Terrain-Traversability-Analysis\\pasto_features\\pasto_jardin_abajo_papas_1_sombra_30_features.csv\n",
      "Completed: pasto_jardin_abajo_papas_1_sombra_30.csv\n",
      "Processing: pasto_jardin_abajo_papas_1_sombra_42.csv\n",
      "Processing 25,105 points with label 'pasto'...\n"
     ]
    },
    {
     "data": {
      "application/vnd.jupyter.widget-view+json": {
       "model_id": "f8540e8b0dd946d4889941e8190acec6",
       "version_major": 2,
       "version_minor": 0
      },
      "text/plain": [
       "  0%|          | 0/25105 [00:00<?, ?it/s]"
      ]
     },
     "metadata": {},
     "output_type": "display_data"
    },
    {
     "name": "stdout",
     "output_type": "stream",
     "text": [
      "\n",
      "Processing complete: (25105, 13)\n",
      "Saved to: C:\\Users\\USER\\PEF\\Terrain-Traversability-Analysis\\pasto_features\\pasto_jardin_abajo_papas_1_sombra_42_features.csv\n",
      "Completed: pasto_jardin_abajo_papas_1_sombra_42.csv\n",
      "Processing: pasto_jardin_abajo_papas_1_sombra_57.csv\n",
      "Processing 25,104 points with label 'pasto'...\n"
     ]
    },
    {
     "data": {
      "application/vnd.jupyter.widget-view+json": {
       "model_id": "5aefb05120cd4da884673cf04de18ff5",
       "version_major": 2,
       "version_minor": 0
      },
      "text/plain": [
       "  0%|          | 0/25104 [00:00<?, ?it/s]"
      ]
     },
     "metadata": {},
     "output_type": "display_data"
    },
    {
     "name": "stdout",
     "output_type": "stream",
     "text": [
      "\n",
      "Processing complete: (25104, 13)\n",
      "Saved to: C:\\Users\\USER\\PEF\\Terrain-Traversability-Analysis\\pasto_features\\pasto_jardin_abajo_papas_1_sombra_57_features.csv\n",
      "Completed: pasto_jardin_abajo_papas_1_sombra_57.csv\n",
      "Processing: pasto_jardin_abajo_papas_1_sombra_62.csv\n",
      "Processing 25,102 points with label 'pasto'...\n"
     ]
    },
    {
     "data": {
      "application/vnd.jupyter.widget-view+json": {
       "model_id": "28563c34d6fe4472893819450d2fa9af",
       "version_major": 2,
       "version_minor": 0
      },
      "text/plain": [
       "  0%|          | 0/25102 [00:00<?, ?it/s]"
      ]
     },
     "metadata": {},
     "output_type": "display_data"
    },
    {
     "name": "stdout",
     "output_type": "stream",
     "text": [
      "\n",
      "Processing complete: (25102, 13)\n",
      "Saved to: C:\\Users\\USER\\PEF\\Terrain-Traversability-Analysis\\pasto_features\\pasto_jardin_abajo_papas_1_sombra_62_features.csv\n",
      "Completed: pasto_jardin_abajo_papas_1_sombra_62.csv\n",
      "Processing: pasto_jardin_abajo_papas_1_sombra_65.csv\n",
      "Processing 25,096 points with label 'pasto'...\n"
     ]
    },
    {
     "data": {
      "application/vnd.jupyter.widget-view+json": {
       "model_id": "a7fef7a2c5d249ef8f73de59b341b9ce",
       "version_major": 2,
       "version_minor": 0
      },
      "text/plain": [
       "  0%|          | 0/25096 [00:00<?, ?it/s]"
      ]
     },
     "metadata": {},
     "output_type": "display_data"
    },
    {
     "name": "stdout",
     "output_type": "stream",
     "text": [
      "\n",
      "Processing complete: (25096, 13)\n",
      "Saved to: C:\\Users\\USER\\PEF\\Terrain-Traversability-Analysis\\pasto_features\\pasto_jardin_abajo_papas_1_sombra_65_features.csv\n",
      "Completed: pasto_jardin_abajo_papas_1_sombra_65.csv\n",
      "Processing: pasto_jardin_abajo_papas_1_sombra_66.csv\n",
      "Processing 25,100 points with label 'pasto'...\n"
     ]
    },
    {
     "data": {
      "application/vnd.jupyter.widget-view+json": {
       "model_id": "065e0b5005bb44afbdb45b78e734abde",
       "version_major": 2,
       "version_minor": 0
      },
      "text/plain": [
       "  0%|          | 0/25100 [00:00<?, ?it/s]"
      ]
     },
     "metadata": {},
     "output_type": "display_data"
    },
    {
     "name": "stdout",
     "output_type": "stream",
     "text": [
      "\n",
      "Processing complete: (25100, 13)\n",
      "Saved to: C:\\Users\\USER\\PEF\\Terrain-Traversability-Analysis\\pasto_features\\pasto_jardin_abajo_papas_1_sombra_66_features.csv\n",
      "Completed: pasto_jardin_abajo_papas_1_sombra_66.csv\n",
      "Processing: pasto_rectoria_1_0.csv\n",
      "Processing 23,317 points with label 'pasto'...\n"
     ]
    },
    {
     "data": {
      "application/vnd.jupyter.widget-view+json": {
       "model_id": "a7ea78e93bbc4d20932f5d9b773b0f76",
       "version_major": 2,
       "version_minor": 0
      },
      "text/plain": [
       "  0%|          | 0/23317 [00:00<?, ?it/s]"
      ]
     },
     "metadata": {},
     "output_type": "display_data"
    },
    {
     "name": "stdout",
     "output_type": "stream",
     "text": [
      "\n",
      "Processing complete: (23317, 13)\n",
      "Saved to: C:\\Users\\USER\\PEF\\Terrain-Traversability-Analysis\\pasto_features\\pasto_rectoria_1_0_features.csv\n",
      "Completed: pasto_rectoria_1_0.csv\n",
      "Processing: pasto_rectoria_1_2.csv\n",
      "Processing 23,300 points with label 'pasto'...\n"
     ]
    },
    {
     "data": {
      "application/vnd.jupyter.widget-view+json": {
       "model_id": "f7f4427393aa45ef89f7268b57265be5",
       "version_major": 2,
       "version_minor": 0
      },
      "text/plain": [
       "  0%|          | 0/23300 [00:00<?, ?it/s]"
      ]
     },
     "metadata": {},
     "output_type": "display_data"
    },
    {
     "name": "stdout",
     "output_type": "stream",
     "text": [
      "\n",
      "Processing complete: (23300, 13)\n",
      "Saved to: C:\\Users\\USER\\PEF\\Terrain-Traversability-Analysis\\pasto_features\\pasto_rectoria_1_2_features.csv\n",
      "Completed: pasto_rectoria_1_2.csv\n",
      "Processing: pasto_rectoria_1_33.csv\n",
      "Processing 23,297 points with label 'pasto'...\n"
     ]
    },
    {
     "data": {
      "application/vnd.jupyter.widget-view+json": {
       "model_id": "3f4ddfa7e10046239984cf320e5ffee2",
       "version_major": 2,
       "version_minor": 0
      },
      "text/plain": [
       "  0%|          | 0/23297 [00:00<?, ?it/s]"
      ]
     },
     "metadata": {},
     "output_type": "display_data"
    },
    {
     "name": "stdout",
     "output_type": "stream",
     "text": [
      "\n",
      "Processing complete: (23297, 13)\n",
      "Saved to: C:\\Users\\USER\\PEF\\Terrain-Traversability-Analysis\\pasto_features\\pasto_rectoria_1_33_features.csv\n",
      "Completed: pasto_rectoria_1_33.csv\n",
      "Processing: pasto_rectoria_1_36.csv\n",
      "Processing 23,306 points with label 'pasto'...\n"
     ]
    },
    {
     "data": {
      "application/vnd.jupyter.widget-view+json": {
       "model_id": "714cf9970dec474e9e67f49e4604414e",
       "version_major": 2,
       "version_minor": 0
      },
      "text/plain": [
       "  0%|          | 0/23306 [00:00<?, ?it/s]"
      ]
     },
     "metadata": {},
     "output_type": "display_data"
    },
    {
     "name": "stdout",
     "output_type": "stream",
     "text": [
      "\n",
      "Processing complete: (23306, 13)\n",
      "Saved to: C:\\Users\\USER\\PEF\\Terrain-Traversability-Analysis\\pasto_features\\pasto_rectoria_1_36_features.csv\n",
      "Completed: pasto_rectoria_1_36.csv\n",
      "Processing: pasto_rectoria_1_37.csv\n",
      "Processing 23,302 points with label 'pasto'...\n"
     ]
    },
    {
     "data": {
      "application/vnd.jupyter.widget-view+json": {
       "model_id": "ee7d719550e44cc78c0ae3bdd7629da8",
       "version_major": 2,
       "version_minor": 0
      },
      "text/plain": [
       "  0%|          | 0/23302 [00:00<?, ?it/s]"
      ]
     },
     "metadata": {},
     "output_type": "display_data"
    },
    {
     "name": "stdout",
     "output_type": "stream",
     "text": [
      "\n",
      "Processing complete: (23302, 13)\n",
      "Saved to: C:\\Users\\USER\\PEF\\Terrain-Traversability-Analysis\\pasto_features\\pasto_rectoria_1_37_features.csv\n",
      "Completed: pasto_rectoria_1_37.csv\n",
      "Processing: pasto_rectoria_1_43.csv\n",
      "Processing 23,301 points with label 'pasto'...\n"
     ]
    },
    {
     "data": {
      "application/vnd.jupyter.widget-view+json": {
       "model_id": "9d814c6f32384856a539038223f05704",
       "version_major": 2,
       "version_minor": 0
      },
      "text/plain": [
       "  0%|          | 0/23301 [00:00<?, ?it/s]"
      ]
     },
     "metadata": {},
     "output_type": "display_data"
    },
    {
     "name": "stdout",
     "output_type": "stream",
     "text": [
      "\n",
      "Processing complete: (23301, 13)\n",
      "Saved to: C:\\Users\\USER\\PEF\\Terrain-Traversability-Analysis\\pasto_features\\pasto_rectoria_1_43_features.csv\n",
      "Completed: pasto_rectoria_1_43.csv\n",
      "Processing: pasto_rectoria_1_45.csv\n",
      "Processing 23,304 points with label 'pasto'...\n"
     ]
    },
    {
     "data": {
      "application/vnd.jupyter.widget-view+json": {
       "model_id": "ee759f42a7f147d7bcb8f394e19e06f8",
       "version_major": 2,
       "version_minor": 0
      },
      "text/plain": [
       "  0%|          | 0/23304 [00:00<?, ?it/s]"
      ]
     },
     "metadata": {},
     "output_type": "display_data"
    },
    {
     "name": "stdout",
     "output_type": "stream",
     "text": [
      "\n",
      "Processing complete: (23304, 13)\n",
      "Saved to: C:\\Users\\USER\\PEF\\Terrain-Traversability-Analysis\\pasto_features\\pasto_rectoria_1_45_features.csv\n",
      "Completed: pasto_rectoria_1_45.csv\n",
      "Processing: pasto_rectoria_1_56.csv\n",
      "Processing 23,304 points with label 'pasto'...\n"
     ]
    },
    {
     "data": {
      "application/vnd.jupyter.widget-view+json": {
       "model_id": "b447aec9cbdb4a9d9f1c99f9acc21023",
       "version_major": 2,
       "version_minor": 0
      },
      "text/plain": [
       "  0%|          | 0/23304 [00:00<?, ?it/s]"
      ]
     },
     "metadata": {},
     "output_type": "display_data"
    },
    {
     "name": "stdout",
     "output_type": "stream",
     "text": [
      "\n",
      "Processing complete: (23304, 13)\n",
      "Saved to: C:\\Users\\USER\\PEF\\Terrain-Traversability-Analysis\\pasto_features\\pasto_rectoria_1_56_features.csv\n",
      "Completed: pasto_rectoria_1_56.csv\n",
      "Processing: pasto_rectoria_1_60.csv\n",
      "Processing 23,296 points with label 'pasto'...\n"
     ]
    },
    {
     "data": {
      "application/vnd.jupyter.widget-view+json": {
       "model_id": "700508c4e6134e8095b277fccf7a6803",
       "version_major": 2,
       "version_minor": 0
      },
      "text/plain": [
       "  0%|          | 0/23296 [00:00<?, ?it/s]"
      ]
     },
     "metadata": {},
     "output_type": "display_data"
    },
    {
     "name": "stdout",
     "output_type": "stream",
     "text": [
      "\n",
      "Processing complete: (23296, 13)\n",
      "Saved to: C:\\Users\\USER\\PEF\\Terrain-Traversability-Analysis\\pasto_features\\pasto_rectoria_1_60_features.csv\n",
      "Completed: pasto_rectoria_1_60.csv\n",
      "Processing: pasto_rectoria_1_71.csv\n",
      "Processing 23,299 points with label 'pasto'...\n"
     ]
    },
    {
     "data": {
      "application/vnd.jupyter.widget-view+json": {
       "model_id": "e33cfc9bf56847b09dc3c313ead82d90",
       "version_major": 2,
       "version_minor": 0
      },
      "text/plain": [
       "  0%|          | 0/23299 [00:00<?, ?it/s]"
      ]
     },
     "metadata": {},
     "output_type": "display_data"
    },
    {
     "name": "stdout",
     "output_type": "stream",
     "text": [
      "\n",
      "Processing complete: (23299, 13)\n",
      "Saved to: C:\\Users\\USER\\PEF\\Terrain-Traversability-Analysis\\pasto_features\\pasto_rectoria_1_71_features.csv\n",
      "Completed: pasto_rectoria_1_71.csv\n",
      "Processing: pasto_rectoria_2_19.csv\n",
      "Processing 22,003 points with label 'pasto'...\n"
     ]
    },
    {
     "data": {
      "application/vnd.jupyter.widget-view+json": {
       "model_id": "d1300c058e634647a2a06f3640621456",
       "version_major": 2,
       "version_minor": 0
      },
      "text/plain": [
       "  0%|          | 0/22003 [00:00<?, ?it/s]"
      ]
     },
     "metadata": {},
     "output_type": "display_data"
    },
    {
     "name": "stdout",
     "output_type": "stream",
     "text": [
      "\n",
      "Processing complete: (22003, 13)\n",
      "Saved to: C:\\Users\\USER\\PEF\\Terrain-Traversability-Analysis\\pasto_features\\pasto_rectoria_2_19_features.csv\n",
      "Completed: pasto_rectoria_2_19.csv\n",
      "Processing: pasto_rectoria_2_23.csv\n",
      "Processing 22,001 points with label 'pasto'...\n"
     ]
    },
    {
     "data": {
      "application/vnd.jupyter.widget-view+json": {
       "model_id": "e9487044877041d6afb9e5167e34791b",
       "version_major": 2,
       "version_minor": 0
      },
      "text/plain": [
       "  0%|          | 0/22001 [00:00<?, ?it/s]"
      ]
     },
     "metadata": {},
     "output_type": "display_data"
    },
    {
     "name": "stdout",
     "output_type": "stream",
     "text": [
      "\n",
      "Processing complete: (22001, 13)\n",
      "Saved to: C:\\Users\\USER\\PEF\\Terrain-Traversability-Analysis\\pasto_features\\pasto_rectoria_2_23_features.csv\n",
      "Completed: pasto_rectoria_2_23.csv\n",
      "Processing: pasto_rectoria_2_28.csv\n",
      "Processing 22,004 points with label 'pasto'...\n"
     ]
    },
    {
     "data": {
      "application/vnd.jupyter.widget-view+json": {
       "model_id": "1c9b6b6f58644a2a875bd9fb342205c5",
       "version_major": 2,
       "version_minor": 0
      },
      "text/plain": [
       "  0%|          | 0/22004 [00:00<?, ?it/s]"
      ]
     },
     "metadata": {},
     "output_type": "display_data"
    },
    {
     "name": "stdout",
     "output_type": "stream",
     "text": [
      "\n",
      "Processing complete: (22004, 13)\n",
      "Saved to: C:\\Users\\USER\\PEF\\Terrain-Traversability-Analysis\\pasto_features\\pasto_rectoria_2_28_features.csv\n",
      "Completed: pasto_rectoria_2_28.csv\n",
      "Processing: pasto_rectoria_2_38.csv\n",
      "Processing 22,014 points with label 'pasto'...\n"
     ]
    },
    {
     "data": {
      "application/vnd.jupyter.widget-view+json": {
       "model_id": "31f93db586fa4748b12d23cc7704e3ac",
       "version_major": 2,
       "version_minor": 0
      },
      "text/plain": [
       "  0%|          | 0/22014 [00:00<?, ?it/s]"
      ]
     },
     "metadata": {},
     "output_type": "display_data"
    },
    {
     "name": "stdout",
     "output_type": "stream",
     "text": [
      "\n",
      "Processing complete: (22014, 13)\n",
      "Saved to: C:\\Users\\USER\\PEF\\Terrain-Traversability-Analysis\\pasto_features\\pasto_rectoria_2_38_features.csv\n",
      "Completed: pasto_rectoria_2_38.csv\n",
      "Processing: pasto_rectoria_2_39.csv\n",
      "Processing 22,005 points with label 'pasto'...\n"
     ]
    },
    {
     "data": {
      "application/vnd.jupyter.widget-view+json": {
       "model_id": "0b82639e769d4a62998ef2e3b97bb673",
       "version_major": 2,
       "version_minor": 0
      },
      "text/plain": [
       "  0%|          | 0/22005 [00:00<?, ?it/s]"
      ]
     },
     "metadata": {},
     "output_type": "display_data"
    },
    {
     "name": "stdout",
     "output_type": "stream",
     "text": [
      "\n",
      "Processing complete: (22005, 13)\n",
      "Saved to: C:\\Users\\USER\\PEF\\Terrain-Traversability-Analysis\\pasto_features\\pasto_rectoria_2_39_features.csv\n",
      "Completed: pasto_rectoria_2_39.csv\n",
      "Processing: pasto_rectoria_2_40.csv\n",
      "Processing 22,004 points with label 'pasto'...\n"
     ]
    },
    {
     "data": {
      "application/vnd.jupyter.widget-view+json": {
       "model_id": "92c88b9338bd45da806b4596c5e0a55b",
       "version_major": 2,
       "version_minor": 0
      },
      "text/plain": [
       "  0%|          | 0/22004 [00:00<?, ?it/s]"
      ]
     },
     "metadata": {},
     "output_type": "display_data"
    },
    {
     "name": "stdout",
     "output_type": "stream",
     "text": [
      "\n",
      "Processing complete: (22004, 13)\n",
      "Saved to: C:\\Users\\USER\\PEF\\Terrain-Traversability-Analysis\\pasto_features\\pasto_rectoria_2_40_features.csv\n",
      "Completed: pasto_rectoria_2_40.csv\n",
      "Processing: pasto_rectoria_2_45.csv\n",
      "Processing 22,013 points with label 'pasto'...\n"
     ]
    },
    {
     "data": {
      "application/vnd.jupyter.widget-view+json": {
       "model_id": "37da8ab189b048649fcdc56328585efc",
       "version_major": 2,
       "version_minor": 0
      },
      "text/plain": [
       "  0%|          | 0/22013 [00:00<?, ?it/s]"
      ]
     },
     "metadata": {},
     "output_type": "display_data"
    },
    {
     "name": "stdout",
     "output_type": "stream",
     "text": [
      "\n",
      "Processing complete: (22013, 13)\n",
      "Saved to: C:\\Users\\USER\\PEF\\Terrain-Traversability-Analysis\\pasto_features\\pasto_rectoria_2_45_features.csv\n",
      "Completed: pasto_rectoria_2_45.csv\n",
      "Processing: pasto_rectoria_2_51.csv\n",
      "Processing 22,006 points with label 'pasto'...\n"
     ]
    },
    {
     "data": {
      "application/vnd.jupyter.widget-view+json": {
       "model_id": "08fcc920a7654378b5d153382a555035",
       "version_major": 2,
       "version_minor": 0
      },
      "text/plain": [
       "  0%|          | 0/22006 [00:00<?, ?it/s]"
      ]
     },
     "metadata": {},
     "output_type": "display_data"
    },
    {
     "name": "stdout",
     "output_type": "stream",
     "text": [
      "\n",
      "Processing complete: (22006, 13)\n",
      "Saved to: C:\\Users\\USER\\PEF\\Terrain-Traversability-Analysis\\pasto_features\\pasto_rectoria_2_51_features.csv\n",
      "Completed: pasto_rectoria_2_51.csv\n",
      "Processing: pasto_rectoria_2_60.csv\n",
      "Processing 22,017 points with label 'pasto'...\n"
     ]
    },
    {
     "data": {
      "application/vnd.jupyter.widget-view+json": {
       "model_id": "66b22724dd3a4c90b5327202e5989638",
       "version_major": 2,
       "version_minor": 0
      },
      "text/plain": [
       "  0%|          | 0/22017 [00:00<?, ?it/s]"
      ]
     },
     "metadata": {},
     "output_type": "display_data"
    },
    {
     "name": "stdout",
     "output_type": "stream",
     "text": [
      "\n",
      "Processing complete: (22017, 13)\n",
      "Saved to: C:\\Users\\USER\\PEF\\Terrain-Traversability-Analysis\\pasto_features\\pasto_rectoria_2_60_features.csv\n",
      "Completed: pasto_rectoria_2_60.csv\n",
      "Processing: pasto_rectoria_2_66.csv\n",
      "Processing 22,012 points with label 'pasto'...\n"
     ]
    },
    {
     "data": {
      "application/vnd.jupyter.widget-view+json": {
       "model_id": "3642bca701084566907f976fcaf305f7",
       "version_major": 2,
       "version_minor": 0
      },
      "text/plain": [
       "  0%|          | 0/22012 [00:00<?, ?it/s]"
      ]
     },
     "metadata": {},
     "output_type": "display_data"
    },
    {
     "name": "stdout",
     "output_type": "stream",
     "text": [
      "\n",
      "Processing complete: (22012, 13)\n",
      "Saved to: C:\\Users\\USER\\PEF\\Terrain-Traversability-Analysis\\pasto_features\\pasto_rectoria_2_66_features.csv\n",
      "Completed: pasto_rectoria_2_66.csv\n",
      "\n",
      "================================================================================\n",
      "All files processed!\n",
      "Successful: 100/100\n",
      "Failed: 0/100\n",
      "================================================================================\n"
     ]
    }
   ],
   "source": [
    "base_path = r'C:\\Users\\USER\\Downloads\\pasto'\n",
    "output_base = r'C:\\Users\\USER\\PEF\\Terrain-Traversability-Analysis\\pasto_features'\n",
    "class_label = 'pasto'\n",
    "\n",
    "# Create output directory\n",
    "os.makedirs(output_base, exist_ok=True)\n",
    "\n",
    "# Get all CSV files\n",
    "csv_files = glob.glob(os.path.join(base_path, '**', '*.csv'), recursive=True)\n",
    "\n",
    "print(\"=\"*80)\n",
    "print(f\"Found {len(csv_files)} CSV files\")\n",
    "print(\"=\"*80)\n",
    "\n",
    "# Track progress and errors\n",
    "successful = 0\n",
    "failed = 0\n",
    "errors = []\n",
    "\n",
    "for csv_file in tqdm(csv_files, desc=\"Processing files\", unit=\"file\"):\n",
    "    filename = os.path.basename(csv_file)\n",
    "    \n",
    "    # Create output filename\n",
    "    output_filename = filename.replace('.csv', '_features.csv')\n",
    "    output_path = os.path.join(output_base, output_filename)\n",
    "    \n",
    "    # Skip if already processed\n",
    "    if os.path.exists(output_path):\n",
    "        print(f\"Skipping (already exists): {filename}\")\n",
    "        successful += 1\n",
    "        continue\n",
    "    \n",
    "    print(f\"Processing: {filename}\")\n",
    "    \n",
    "    try:\n",
    "        df_features = process_dataframe(csv_file, output_path, class_label)\n",
    "        successful += 1\n",
    "        print(f\"Completed: {filename}\")\n",
    "        \n",
    "        # Free memory after each file\n",
    "        del df_features\n",
    "        gc.collect()\n",
    "        \n",
    "    except Exception as e:\n",
    "        failed += 1\n",
    "        error_msg = f\"{filename}: {str(e)}\"\n",
    "        errors.append(error_msg)\n",
    "        print(f\"Error: {e}\")\n",
    "\n",
    "# Summary\n",
    "print(\"\\n\" + \"=\"*80)\n",
    "print(f\"All files processed!\")\n",
    "print(f\"Successful: {successful}/{len(csv_files)}\")\n",
    "print(f\"Failed: {failed}/{len(csv_files)}\")\n",
    "\n",
    "if errors:\n",
    "    print(\"\\nFailed files:\")\n",
    "    for error in errors:\n",
    "        print(f\"  - {error}\")\n",
    "        \n",
    "print(\"=\"*80)\n",
    "\n",
    "# Save error log if any\n",
    "if errors:\n",
    "    error_log_path = os.path.join(output_base, 'processing_errors.txt')\n",
    "    with open(error_log_path, 'w') as f:\n",
    "        f.write(\"Processing Errors\\n\")\n",
    "        f.write(\"=\"*80 + \"\\n\\n\")\n",
    "        for error in errors:\n",
    "            f.write(f\"{error}\\n\")\n",
    "    print(f\"\\nError log saved to: {error_log_path}\")"
   ]
  }
 ],
 "metadata": {
  "kernelspec": {
   "display_name": "Python 3",
   "language": "python",
   "name": "python3"
  },
  "language_info": {
   "codemirror_mode": {
    "name": "ipython",
    "version": 3
   },
   "file_extension": ".py",
   "mimetype": "text/x-python",
   "name": "python",
   "nbconvert_exporter": "python",
   "pygments_lexer": "ipython3",
   "version": "3.13.9"
  }
 },
 "nbformat": 4,
 "nbformat_minor": 5
}
